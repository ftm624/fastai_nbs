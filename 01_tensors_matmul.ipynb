{
 "cells": [
  {
   "cell_type": "code",
   "execution_count": 1,
   "metadata": {},
   "outputs": [],
   "source": [
    "%reload_ext autoreload\n",
    "%autoreload 2\n",
    "%matplotlib inline"
   ]
  },
  {
   "cell_type": "markdown",
   "metadata": {},
   "source": [
    "# Tensors and Matrix multiplication\n",
    "> Basics of Pytorch Tensors and optimizing matrix multiplication"
   ]
  },
  {
   "cell_type": "markdown",
   "metadata": {},
   "source": [
    "## Pytorch Tensors"
   ]
  },
  {
   "cell_type": "markdown",
   "metadata": {},
   "source": [
    "The Pytorch tensor is our basic unit. Everything we build here will be used to manipulate them in some way. \n",
    "\n",
    "Its a container for data with lots of special properties and methods. "
   ]
  },
  {
   "cell_type": "code",
   "execution_count": 2,
   "metadata": {},
   "outputs": [],
   "source": [
    "#export\n",
    "\n",
    "import matplotlib.pyplot as plt\n",
    "import matplotlib as mpl\n",
    "mpl.rcParams['image.cmap'] = 'gray'\n",
    "\n",
    "import torch\n",
    "from torch import tensor\n",
    "import graphviz\n",
    "import os\n",
    "\n",
    "\n",
    "\n",
    "import pandas as pd\n",
    "import operator\n",
    "from fastai import datasets\n",
    "import gzip \n",
    "import pickle\n",
    "\n",
    "\n",
    "\n",
    "os.environ[\"PATH\"] += os.pathsep + 'C:/Program Files (x86)/Graphviz/bin/'"
   ]
  },
  {
   "cell_type": "code",
   "execution_count": 3,
   "metadata": {},
   "outputs": [],
   "source": [
    "a = tensor([[1,2,3],[4,5,6]])\n",
    "b = tensor([[2,3],[2,3],[2,3]])"
   ]
  },
  {
   "cell_type": "code",
   "execution_count": 4,
   "metadata": {},
   "outputs": [
    {
     "data": {
      "text/plain": [
       "torch.int64"
      ]
     },
     "execution_count": 4,
     "metadata": {},
     "output_type": "execute_result"
    }
   ],
   "source": [
    "a.dtype"
   ]
  },
  {
   "cell_type": "code",
   "execution_count": 5,
   "metadata": {},
   "outputs": [
    {
     "data": {
      "text/plain": [
       "tensor([[1, 2, 3],\n",
       "        [4, 5, 6]])"
      ]
     },
     "execution_count": 5,
     "metadata": {},
     "output_type": "execute_result"
    }
   ],
   "source": [
    "a"
   ]
  },
  {
   "cell_type": "markdown",
   "metadata": {},
   "source": [
    "### In-place and Out of place"
   ]
  },
  {
   "cell_type": "code",
   "execution_count": 6,
   "metadata": {},
   "outputs": [],
   "source": [
    "x = torch.randn((3,3))\n",
    "y = torch.randn((3,3))"
   ]
  },
  {
   "cell_type": "markdown",
   "metadata": {},
   "source": [
    "Many of the builtin tensor operations can be used either \"in-place\" or \"out-of-place\".\n",
    "\n",
    "For instance, `add` can be used \"out-of-place\" and will return the result of `x` and `y`"
   ]
  },
  {
   "cell_type": "code",
   "execution_count": 7,
   "metadata": {},
   "outputs": [
    {
     "data": {
      "text/plain": [
       "tensor([[ 0.6981,  1.0940,  0.8663],\n",
       "        [-0.6059, -0.1173,  0.1646],\n",
       "        [ 0.1974, -1.0907, -0.3347]])"
      ]
     },
     "execution_count": 7,
     "metadata": {},
     "output_type": "execute_result"
    }
   ],
   "source": [
    "x"
   ]
  },
  {
   "cell_type": "code",
   "execution_count": 8,
   "metadata": {},
   "outputs": [
    {
     "data": {
      "text/plain": [
       "tensor([[-0.6588,  0.7516,  1.8528],\n",
       "        [-1.0909,  0.9755, -0.8306],\n",
       "        [-0.1146,  0.0945,  0.7107]])"
      ]
     },
     "execution_count": 8,
     "metadata": {},
     "output_type": "execute_result"
    }
   ],
   "source": [
    "x.add(y)"
   ]
  },
  {
   "cell_type": "markdown",
   "metadata": {},
   "source": [
    "But `x` has not been altered. "
   ]
  },
  {
   "cell_type": "code",
   "execution_count": 9,
   "metadata": {},
   "outputs": [
    {
     "data": {
      "text/plain": [
       "tensor([[ 0.6981,  1.0940,  0.8663],\n",
       "        [-0.6059, -0.1173,  0.1646],\n",
       "        [ 0.1974, -1.0907, -0.3347]])"
      ]
     },
     "execution_count": 9,
     "metadata": {},
     "output_type": "execute_result"
    }
   ],
   "source": [
    "x"
   ]
  },
  {
   "cell_type": "markdown",
   "metadata": {},
   "source": [
    "If on the other hand we use `add_`, `y` is added to `x` \"in-place\" and now x is the result of `y` and `x`"
   ]
  },
  {
   "cell_type": "code",
   "execution_count": 10,
   "metadata": {},
   "outputs": [
    {
     "data": {
      "text/plain": [
       "tensor([[-0.6588,  0.7516,  1.8528],\n",
       "        [-1.0909,  0.9755, -0.8306],\n",
       "        [-0.1146,  0.0945,  0.7107]])"
      ]
     },
     "execution_count": 10,
     "metadata": {},
     "output_type": "execute_result"
    }
   ],
   "source": [
    "x.add_(y)"
   ]
  },
  {
   "cell_type": "code",
   "execution_count": 11,
   "metadata": {},
   "outputs": [
    {
     "data": {
      "text/plain": [
       "tensor([[-0.6588,  0.7516,  1.8528],\n",
       "        [-1.0909,  0.9755, -0.8306],\n",
       "        [-0.1146,  0.0945,  0.7107]])"
      ]
     },
     "execution_count": 11,
     "metadata": {},
     "output_type": "execute_result"
    }
   ],
   "source": [
    "x"
   ]
  },
  {
   "cell_type": "markdown",
   "metadata": {},
   "source": [
    "### Elementwise Operations"
   ]
  },
  {
   "cell_type": "markdown",
   "metadata": {},
   "source": [
    "__Elementwise Addition and Subtraction__\n",
    "\n",
    "In the above example `add` is an elementwise operation: every element of `x` is added to its corresponding row and column unit in `y`.\n",
    "\n",
    "<p>\n",
    "$$ y + x = \\begin{bmatrix} x_1 & x_2 & x_3 \\\\ x_4 & x_5 & x_6 \\\\ x_7 & x_8 & x_9 \\end{bmatrix} + \\begin{bmatrix} y_1 & y_2 & y_3 \\\\ y_4 & y_5 & y_6 \\\\ y_7 & y_8 & y_9 \\end{bmatrix} = \\begin{bmatrix} x_1 + y_1 & x_2 + y_2 & x_3 + y_3 \\\\  x_4 + y_4 & x_5 + y_5 & x_6 + y_6 \\\\ x_7 + y_7 & x_8 + y_8 & x_9 + y_9 \\end{bmatrix} $$\n",
    "</p>\n",
    "\n",
    "\n",
    "The two tensors must be the same shape and the resulting matrix will be the same shape as well"
   ]
  },
  {
   "cell_type": "code",
   "execution_count": 12,
   "metadata": {},
   "outputs": [
    {
     "data": {
      "text/plain": [
       "tensor([[-2.0157,  0.4092,  2.8393],\n",
       "        [-1.5759,  2.0684, -1.8258],\n",
       "        [-0.4266,  1.2796,  1.7560]])"
      ]
     },
     "execution_count": 12,
     "metadata": {},
     "output_type": "execute_result"
    }
   ],
   "source": [
    "x + y "
   ]
  },
  {
   "cell_type": "code",
   "execution_count": 13,
   "metadata": {},
   "outputs": [
    {
     "data": {
      "text/plain": [
       "tensor([[ 0.6981,  1.0940,  0.8663],\n",
       "        [-0.6059, -0.1173,  0.1646],\n",
       "        [ 0.1974, -1.0907, -0.3347]])"
      ]
     },
     "execution_count": 13,
     "metadata": {},
     "output_type": "execute_result"
    }
   ],
   "source": [
    "x - y"
   ]
  },
  {
   "cell_type": "markdown",
   "metadata": {},
   "source": [
    "__Elementwise Product__\n",
    "\n",
    "<p>\n",
    "$$ \\vec{a} \\circ \\vec{b} = \\begin{bmatrix} a_1 \\\\ a_2 \\\\ a_3 \\\\ a_4 \\end{bmatrix} \\circ \\begin{bmatrix} b_1 \\\\ b_2 \\\\ b_3 \\\\ b_4 \\end{bmatrix} = \\begin{bmatrix} a_1 \\times b_1 \\\\ a_2 \\times b_2 \\\\ a_3 \\times b_3 \\\\ a_4 \\times b_4 \\end{bmatrix} $$\n",
    "</p>\n"
   ]
  },
  {
   "cell_type": "code",
   "execution_count": 14,
   "metadata": {},
   "outputs": [
    {
     "data": {
      "text/plain": [
       "(tensor([ 1.9428, -1.2248, -1.2885]), tensor([-1.8645, -1.1418, -1.1597]))"
      ]
     },
     "execution_count": 14,
     "metadata": {},
     "output_type": "execute_result"
    }
   ],
   "source": [
    "a1 = torch.randn((3))\n",
    "b1 = torch.randn((3))\n",
    "a1,b1"
   ]
  },
  {
   "cell_type": "code",
   "execution_count": 15,
   "metadata": {},
   "outputs": [
    {
     "data": {
      "text/plain": [
       "tensor([-3.6222,  1.3985,  1.4943])"
      ]
     },
     "execution_count": 15,
     "metadata": {},
     "output_type": "execute_result"
    }
   ],
   "source": [
    "a1 * b1"
   ]
  },
  {
   "cell_type": "markdown",
   "metadata": {},
   "source": [
    "And again we can do this in place with the method `mul_`"
   ]
  },
  {
   "cell_type": "code",
   "execution_count": 16,
   "metadata": {},
   "outputs": [
    {
     "data": {
      "text/plain": [
       "tensor([-3.6222,  1.3985,  1.4943])"
      ]
     },
     "execution_count": 16,
     "metadata": {},
     "output_type": "execute_result"
    }
   ],
   "source": [
    "a1.mul_(b1); a1"
   ]
  },
  {
   "cell_type": "markdown",
   "metadata": {},
   "source": [
    "### Broadcasting"
   ]
  },
  {
   "cell_type": "markdown",
   "metadata": {},
   "source": [
    "The term **broadcasting** describes how arrays with different shapes are treated during arithmetic operations.  The term broadcasting was first used by Numpy."
   ]
  },
  {
   "cell_type": "code",
   "execution_count": 17,
   "metadata": {},
   "outputs": [
    {
     "data": {
      "text/plain": [
       "tensor([[1, 2, 3],\n",
       "        [4, 5, 6]])"
      ]
     },
     "execution_count": 17,
     "metadata": {},
     "output_type": "execute_result"
    }
   ],
   "source": [
    "a"
   ]
  },
  {
   "cell_type": "code",
   "execution_count": 18,
   "metadata": {},
   "outputs": [
    {
     "data": {
      "text/plain": [
       "tensor([[True, True, True],\n",
       "        [True, True, True]])"
      ]
     },
     "execution_count": 18,
     "metadata": {},
     "output_type": "execute_result"
    }
   ],
   "source": [
    "a > 0"
   ]
  },
  {
   "cell_type": "markdown",
   "metadata": {},
   "source": [
    "Even though `a` is a 2x3 matrix the zero is broadcasted and then compared with each element in `a`\n",
    "\n",
    "This happens whenever we try to do an operation between a matrix and a scalar:"
   ]
  },
  {
   "cell_type": "code",
   "execution_count": 19,
   "metadata": {},
   "outputs": [
    {
     "data": {
      "text/plain": [
       "tensor([[2, 3, 4],\n",
       "        [5, 6, 7]])"
      ]
     },
     "execution_count": 19,
     "metadata": {},
     "output_type": "execute_result"
    }
   ],
   "source": [
    "a + 1"
   ]
  },
  {
   "cell_type": "code",
   "execution_count": 20,
   "metadata": {},
   "outputs": [
    {
     "data": {
      "text/plain": [
       "tensor([[ 2,  4,  6],\n",
       "        [ 8, 10, 12]])"
      ]
     },
     "execution_count": 20,
     "metadata": {},
     "output_type": "execute_result"
    }
   ],
   "source": [
    "a * 2"
   ]
  },
  {
   "cell_type": "markdown",
   "metadata": {},
   "source": [
    "Broadcasting also works between a vector and matrix:"
   ]
  },
  {
   "cell_type": "code",
   "execution_count": 21,
   "metadata": {},
   "outputs": [
    {
     "data": {
      "text/plain": [
       "tensor([[ 1,  4,  9],\n",
       "        [ 4, 10, 18]])"
      ]
     },
     "execution_count": 21,
     "metadata": {},
     "output_type": "execute_result"
    }
   ],
   "source": [
    "a[0] * a"
   ]
  },
  {
   "cell_type": "markdown",
   "metadata": {},
   "source": [
    "### Tensor Rank and Shape"
   ]
  },
  {
   "cell_type": "markdown",
   "metadata": {},
   "source": [
    "And if we reshape `a` to make it a column vector with three rows we can then broadcast it over `b`"
   ]
  },
  {
   "cell_type": "code",
   "execution_count": 22,
   "metadata": {},
   "outputs": [
    {
     "data": {
      "text/plain": [
       "(tensor([[1],\n",
       "         [2],\n",
       "         [3]]),\n",
       " tensor([[2, 3],\n",
       "         [2, 3],\n",
       "         [2, 3]]))"
      ]
     },
     "execution_count": 22,
     "metadata": {},
     "output_type": "execute_result"
    }
   ],
   "source": [
    "a[0].unsqueeze(-1), b"
   ]
  },
  {
   "cell_type": "code",
   "execution_count": 23,
   "metadata": {},
   "outputs": [
    {
     "data": {
      "text/plain": [
       "tensor([[2, 3],\n",
       "        [4, 6],\n",
       "        [6, 9]])"
      ]
     },
     "execution_count": 23,
     "metadata": {},
     "output_type": "execute_result"
    }
   ],
   "source": [
    "(a[0].unsqueeze(-1) * b)"
   ]
  },
  {
   "cell_type": "markdown",
   "metadata": {},
   "source": [
    "### CUDA Tensors"
   ]
  },
  {
   "cell_type": "markdown",
   "metadata": {},
   "source": [
    "The most important aspect of Tensors is that Pytorch has designed them to run on the GPU which results in significant speed."
   ]
  },
  {
   "cell_type": "markdown",
   "metadata": {},
   "source": [
    "Normally when we create a tensor the CPU will handle any operations done it."
   ]
  },
  {
   "cell_type": "code",
   "execution_count": 24,
   "metadata": {},
   "outputs": [
    {
     "name": "stdout",
     "output_type": "stream",
     "text": [
      "tensor([3., 3., 3., 3., 3., 3., 3., 3., 3., 3.])\n"
     ]
    }
   ],
   "source": [
    "b = torch.full((10,), 3)\n",
    "print(b)"
   ]
  },
  {
   "cell_type": "code",
   "execution_count": 25,
   "metadata": {},
   "outputs": [
    {
     "data": {
      "text/plain": [
       "device(type='cpu')"
      ]
     },
     "execution_count": 25,
     "metadata": {},
     "output_type": "execute_result"
    }
   ],
   "source": [
    "b.device"
   ]
  },
  {
   "cell_type": "markdown",
   "metadata": {},
   "source": [
    "But if we specify the device we can run it on the GPU:"
   ]
  },
  {
   "cell_type": "code",
   "execution_count": 26,
   "metadata": {},
   "outputs": [
    {
     "name": "stdout",
     "output_type": "stream",
     "text": [
      "tensor([3., 3., 3., 3., 3., 3., 3., 3., 3., 3.], device='cuda:0')\n"
     ]
    }
   ],
   "source": [
    "if torch.cuda.is_available():\n",
    "    a = torch.full((10,), 3, device=torch.device(\"cuda\"))\n",
    "    print(a)\n",
    "  "
   ]
  },
  {
   "cell_type": "markdown",
   "metadata": {},
   "source": [
    "## Data"
   ]
  },
  {
   "cell_type": "markdown",
   "metadata": {},
   "source": [
    "First, we need some sort of data. We'll be using the <a href=\"http://yann.lecun.com/exdb/mnist/\"> MNIST dataset </a>. A classic. \n",
    "\n",
    "The goal of the MNIST dataset is to predict the digit based on a handwritten grayscale image. Its a multiclass or multinomial classification problem. \n",
    "\n",
    "Each image is 28 x 28 pixels. And they only have 1 channel.\n"
   ]
  },
  {
   "cell_type": "code",
   "execution_count": 27,
   "metadata": {},
   "outputs": [],
   "source": [
    "#export\n",
    "def test(a, b, comp, cname=None):\n",
    "    if cname is None: cname = comp.__name__\n",
    "    assert comp(a,b), f\"{cname}: \\n{a} \\b{b}\"\n",
    "\n",
    "def test_eq(a,b): \n",
    "    test(a,b, operator.eq, \"==\")"
   ]
  },
  {
   "cell_type": "code",
   "execution_count": 28,
   "metadata": {},
   "outputs": [],
   "source": [
    "TEST = 'test'\n",
    "\n",
    "test_eq(TEST, 'test')"
   ]
  },
  {
   "cell_type": "code",
   "execution_count": 29,
   "metadata": {},
   "outputs": [],
   "source": [
    "MNIST_URL = 'http://deeplearning.net/data/mnist/mnist.pkl'\n",
    "\n",
    "path = datasets.download_data(MNIST_URL, ext='.gz')"
   ]
  },
  {
   "cell_type": "markdown",
   "metadata": {},
   "source": [
    "The Fastai datasets library makes it simple to download and save it locally."
   ]
  },
  {
   "cell_type": "code",
   "execution_count": 30,
   "metadata": {},
   "outputs": [],
   "source": [
    "with gzip.open(path, 'rb') as f:\n",
    "    ((x_train, y_train), (x_valid, y_valid), _) = pickle.load(f, encoding='latin-1')"
   ]
  },
  {
   "cell_type": "markdown",
   "metadata": {},
   "source": [
    "The training and validation sets are Numpy arrays."
   ]
  },
  {
   "cell_type": "code",
   "execution_count": 31,
   "metadata": {},
   "outputs": [
    {
     "data": {
      "text/plain": [
       "numpy.ndarray"
      ]
     },
     "execution_count": 31,
     "metadata": {},
     "output_type": "execute_result"
    }
   ],
   "source": [
    "type(x_train)"
   ]
  },
  {
   "cell_type": "markdown",
   "metadata": {},
   "source": [
    "The training set has 50,000 rows (examples) and each row has 784 features or 28x28 pixels"
   ]
  },
  {
   "cell_type": "code",
   "execution_count": 32,
   "metadata": {},
   "outputs": [
    {
     "data": {
      "text/plain": [
       "(50000, 784)"
      ]
     },
     "execution_count": 32,
     "metadata": {},
     "output_type": "execute_result"
    }
   ],
   "source": [
    "x_train.shape"
   ]
  },
  {
   "cell_type": "markdown",
   "metadata": {},
   "source": [
    "A single row is a vector of values between 0 and 1 representing individual grayscale pixel values."
   ]
  },
  {
   "cell_type": "code",
   "execution_count": 33,
   "metadata": {},
   "outputs": [
    {
     "data": {
      "text/plain": [
       "array([0.      , 0.      , 0.      , 0.      , 0.332031, 0.984375, 0.898438, 0.097656, 0.      , 0.      , 0.      ,\n",
       "       0.      , 0.      , 0.      , 0.      , 0.      , 0.027344, 0.527344, 0.988281, 0.726562, 0.046875, 0.      ,\n",
       "       0.      , 0.      , 0.      , 0.      , 0.      , 0.      , 0.      , 0.      , 0.      , 0.      , 0.332031,\n",
       "       0.984375, 0.871094, 0.      , 0.      , 0.      , 0.      , 0.      , 0.      , 0.      , 0.      , 0.027344,\n",
       "       0.511719, 0.984375, 0.878906, 0.277344, 0.      , 0.      ], dtype=float32)"
      ]
     },
     "execution_count": 33,
     "metadata": {},
     "output_type": "execute_result"
    }
   ],
   "source": [
    "x_train[1, 450:500]"
   ]
  },
  {
   "cell_type": "markdown",
   "metadata": {},
   "source": [
    "We can represent it by throwing a row into a pandas dataframe and using background gradients to differientate the pixel values."
   ]
  },
  {
   "cell_type": "code",
   "execution_count": 34,
   "metadata": {},
   "outputs": [
    {
     "data": {
      "text/html": [
       "<style  type=\"text/css\" >\n",
       "    #T_138dc373_9535_11ea_81ac_00155dc2efd4row0_col0 {\n",
       "            font-size:  6pt;\n",
       "            background-color:  #ffffff;\n",
       "            color:  #000000;\n",
       "        }    #T_138dc373_9535_11ea_81ac_00155dc2efd4row0_col1 {\n",
       "            font-size:  6pt;\n",
       "            background-color:  #ffffff;\n",
       "            color:  #000000;\n",
       "        }    #T_138dc373_9535_11ea_81ac_00155dc2efd4row0_col2 {\n",
       "            font-size:  6pt;\n",
       "            background-color:  #ffffff;\n",
       "            color:  #000000;\n",
       "        }    #T_138dc373_9535_11ea_81ac_00155dc2efd4row0_col3 {\n",
       "            font-size:  6pt;\n",
       "            background-color:  #ffffff;\n",
       "            color:  #000000;\n",
       "        }    #T_138dc373_9535_11ea_81ac_00155dc2efd4row0_col4 {\n",
       "            font-size:  6pt;\n",
       "            background-color:  #ffffff;\n",
       "            color:  #000000;\n",
       "        }    #T_138dc373_9535_11ea_81ac_00155dc2efd4row0_col5 {\n",
       "            font-size:  6pt;\n",
       "            background-color:  #ffffff;\n",
       "            color:  #000000;\n",
       "        }    #T_138dc373_9535_11ea_81ac_00155dc2efd4row0_col6 {\n",
       "            font-size:  6pt;\n",
       "            background-color:  #ffffff;\n",
       "            color:  #000000;\n",
       "        }    #T_138dc373_9535_11ea_81ac_00155dc2efd4row0_col7 {\n",
       "            font-size:  6pt;\n",
       "            background-color:  #ffffff;\n",
       "            color:  #000000;\n",
       "        }    #T_138dc373_9535_11ea_81ac_00155dc2efd4row0_col8 {\n",
       "            font-size:  6pt;\n",
       "            background-color:  #ffffff;\n",
       "            color:  #000000;\n",
       "        }    #T_138dc373_9535_11ea_81ac_00155dc2efd4row0_col9 {\n",
       "            font-size:  6pt;\n",
       "            background-color:  #ffffff;\n",
       "            color:  #000000;\n",
       "        }    #T_138dc373_9535_11ea_81ac_00155dc2efd4row0_col10 {\n",
       "            font-size:  6pt;\n",
       "            background-color:  #e2e2e2;\n",
       "            color:  #000000;\n",
       "        }    #T_138dc373_9535_11ea_81ac_00155dc2efd4row0_col11 {\n",
       "            font-size:  6pt;\n",
       "            background-color:  #727272;\n",
       "            color:  #000000;\n",
       "        }    #T_138dc373_9535_11ea_81ac_00155dc2efd4row0_col12 {\n",
       "            font-size:  6pt;\n",
       "            background-color:  #000000;\n",
       "            color:  #f1f1f1;\n",
       "        }    #T_138dc373_9535_11ea_81ac_00155dc2efd4row0_col13 {\n",
       "            font-size:  6pt;\n",
       "            background-color:  #717171;\n",
       "            color:  #000000;\n",
       "        }    #T_138dc373_9535_11ea_81ac_00155dc2efd4row0_col14 {\n",
       "            font-size:  6pt;\n",
       "            background-color:  #e3e3e3;\n",
       "            color:  #000000;\n",
       "        }    #T_138dc373_9535_11ea_81ac_00155dc2efd4row0_col15 {\n",
       "            font-size:  6pt;\n",
       "            background-color:  #ffffff;\n",
       "            color:  #000000;\n",
       "        }    #T_138dc373_9535_11ea_81ac_00155dc2efd4row0_col16 {\n",
       "            font-size:  6pt;\n",
       "            background-color:  #ffffff;\n",
       "            color:  #000000;\n",
       "        }    #T_138dc373_9535_11ea_81ac_00155dc2efd4row0_col17 {\n",
       "            font-size:  6pt;\n",
       "            background-color:  #ffffff;\n",
       "            color:  #000000;\n",
       "        }    #T_138dc373_9535_11ea_81ac_00155dc2efd4row0_col18 {\n",
       "            font-size:  6pt;\n",
       "            background-color:  #ffffff;\n",
       "            color:  #000000;\n",
       "        }    #T_138dc373_9535_11ea_81ac_00155dc2efd4row0_col19 {\n",
       "            font-size:  6pt;\n",
       "            background-color:  #ffffff;\n",
       "            color:  #000000;\n",
       "        }    #T_138dc373_9535_11ea_81ac_00155dc2efd4row0_col20 {\n",
       "            font-size:  6pt;\n",
       "            background-color:  #ffffff;\n",
       "            color:  #000000;\n",
       "        }    #T_138dc373_9535_11ea_81ac_00155dc2efd4row1_col0 {\n",
       "            font-size:  6pt;\n",
       "            background-color:  #ffffff;\n",
       "            color:  #000000;\n",
       "        }    #T_138dc373_9535_11ea_81ac_00155dc2efd4row1_col1 {\n",
       "            font-size:  6pt;\n",
       "            background-color:  #ffffff;\n",
       "            color:  #000000;\n",
       "        }    #T_138dc373_9535_11ea_81ac_00155dc2efd4row1_col2 {\n",
       "            font-size:  6pt;\n",
       "            background-color:  #ffffff;\n",
       "            color:  #000000;\n",
       "        }    #T_138dc373_9535_11ea_81ac_00155dc2efd4row1_col3 {\n",
       "            font-size:  6pt;\n",
       "            background-color:  #ffffff;\n",
       "            color:  #000000;\n",
       "        }    #T_138dc373_9535_11ea_81ac_00155dc2efd4row1_col4 {\n",
       "            font-size:  6pt;\n",
       "            background-color:  #ffffff;\n",
       "            color:  #000000;\n",
       "        }    #T_138dc373_9535_11ea_81ac_00155dc2efd4row1_col5 {\n",
       "            font-size:  6pt;\n",
       "            background-color:  #ffffff;\n",
       "            color:  #000000;\n",
       "        }    #T_138dc373_9535_11ea_81ac_00155dc2efd4row1_col6 {\n",
       "            font-size:  6pt;\n",
       "            background-color:  #ffffff;\n",
       "            color:  #000000;\n",
       "        }    #T_138dc373_9535_11ea_81ac_00155dc2efd4row1_col7 {\n",
       "            font-size:  6pt;\n",
       "            background-color:  #ffffff;\n",
       "            color:  #000000;\n",
       "        }    #T_138dc373_9535_11ea_81ac_00155dc2efd4row1_col8 {\n",
       "            font-size:  6pt;\n",
       "            background-color:  #ffffff;\n",
       "            color:  #000000;\n",
       "        }    #T_138dc373_9535_11ea_81ac_00155dc2efd4row1_col9 {\n",
       "            font-size:  6pt;\n",
       "            background-color:  #e4e4e4;\n",
       "            color:  #000000;\n",
       "        }    #T_138dc373_9535_11ea_81ac_00155dc2efd4row1_col10 {\n",
       "            font-size:  6pt;\n",
       "            background-color:  #111111;\n",
       "            color:  #f1f1f1;\n",
       "        }    #T_138dc373_9535_11ea_81ac_00155dc2efd4row1_col11 {\n",
       "            font-size:  6pt;\n",
       "            background-color:  #010101;\n",
       "            color:  #f1f1f1;\n",
       "        }    #T_138dc373_9535_11ea_81ac_00155dc2efd4row1_col12 {\n",
       "            font-size:  6pt;\n",
       "            background-color:  #010101;\n",
       "            color:  #f1f1f1;\n",
       "        }    #T_138dc373_9535_11ea_81ac_00155dc2efd4row1_col13 {\n",
       "            font-size:  6pt;\n",
       "            background-color:  #000000;\n",
       "            color:  #f1f1f1;\n",
       "        }    #T_138dc373_9535_11ea_81ac_00155dc2efd4row1_col14 {\n",
       "            font-size:  6pt;\n",
       "            background-color:  #111111;\n",
       "            color:  #f1f1f1;\n",
       "        }    #T_138dc373_9535_11ea_81ac_00155dc2efd4row1_col15 {\n",
       "            font-size:  6pt;\n",
       "            background-color:  #ffffff;\n",
       "            color:  #000000;\n",
       "        }    #T_138dc373_9535_11ea_81ac_00155dc2efd4row1_col16 {\n",
       "            font-size:  6pt;\n",
       "            background-color:  #ffffff;\n",
       "            color:  #000000;\n",
       "        }    #T_138dc373_9535_11ea_81ac_00155dc2efd4row1_col17 {\n",
       "            font-size:  6pt;\n",
       "            background-color:  #ffffff;\n",
       "            color:  #000000;\n",
       "        }    #T_138dc373_9535_11ea_81ac_00155dc2efd4row1_col18 {\n",
       "            font-size:  6pt;\n",
       "            background-color:  #ffffff;\n",
       "            color:  #000000;\n",
       "        }    #T_138dc373_9535_11ea_81ac_00155dc2efd4row1_col19 {\n",
       "            font-size:  6pt;\n",
       "            background-color:  #ffffff;\n",
       "            color:  #000000;\n",
       "        }    #T_138dc373_9535_11ea_81ac_00155dc2efd4row1_col20 {\n",
       "            font-size:  6pt;\n",
       "            background-color:  #ffffff;\n",
       "            color:  #000000;\n",
       "        }    #T_138dc373_9535_11ea_81ac_00155dc2efd4row2_col0 {\n",
       "            font-size:  6pt;\n",
       "            background-color:  #ffffff;\n",
       "            color:  #000000;\n",
       "        }    #T_138dc373_9535_11ea_81ac_00155dc2efd4row2_col1 {\n",
       "            font-size:  6pt;\n",
       "            background-color:  #ffffff;\n",
       "            color:  #000000;\n",
       "        }    #T_138dc373_9535_11ea_81ac_00155dc2efd4row2_col2 {\n",
       "            font-size:  6pt;\n",
       "            background-color:  #ffffff;\n",
       "            color:  #000000;\n",
       "        }    #T_138dc373_9535_11ea_81ac_00155dc2efd4row2_col3 {\n",
       "            font-size:  6pt;\n",
       "            background-color:  #ffffff;\n",
       "            color:  #000000;\n",
       "        }    #T_138dc373_9535_11ea_81ac_00155dc2efd4row2_col4 {\n",
       "            font-size:  6pt;\n",
       "            background-color:  #ffffff;\n",
       "            color:  #000000;\n",
       "        }    #T_138dc373_9535_11ea_81ac_00155dc2efd4row2_col5 {\n",
       "            font-size:  6pt;\n",
       "            background-color:  #ffffff;\n",
       "            color:  #000000;\n",
       "        }    #T_138dc373_9535_11ea_81ac_00155dc2efd4row2_col6 {\n",
       "            font-size:  6pt;\n",
       "            background-color:  #ffffff;\n",
       "            color:  #000000;\n",
       "        }    #T_138dc373_9535_11ea_81ac_00155dc2efd4row2_col7 {\n",
       "            font-size:  6pt;\n",
       "            background-color:  #ffffff;\n",
       "            color:  #000000;\n",
       "        }    #T_138dc373_9535_11ea_81ac_00155dc2efd4row2_col8 {\n",
       "            font-size:  6pt;\n",
       "            background-color:  #e0e0e0;\n",
       "            color:  #000000;\n",
       "        }    #T_138dc373_9535_11ea_81ac_00155dc2efd4row2_col9 {\n",
       "            font-size:  6pt;\n",
       "            background-color:  #1d1d1d;\n",
       "            color:  #f1f1f1;\n",
       "        }    #T_138dc373_9535_11ea_81ac_00155dc2efd4row2_col10 {\n",
       "            font-size:  6pt;\n",
       "            background-color:  #000000;\n",
       "            color:  #f1f1f1;\n",
       "        }    #T_138dc373_9535_11ea_81ac_00155dc2efd4row2_col11 {\n",
       "            font-size:  6pt;\n",
       "            background-color:  #010101;\n",
       "            color:  #f1f1f1;\n",
       "        }    #T_138dc373_9535_11ea_81ac_00155dc2efd4row2_col12 {\n",
       "            font-size:  6pt;\n",
       "            background-color:  #101010;\n",
       "            color:  #f1f1f1;\n",
       "        }    #T_138dc373_9535_11ea_81ac_00155dc2efd4row2_col13 {\n",
       "            font-size:  6pt;\n",
       "            background-color:  #161616;\n",
       "            color:  #f1f1f1;\n",
       "        }    #T_138dc373_9535_11ea_81ac_00155dc2efd4row2_col14 {\n",
       "            font-size:  6pt;\n",
       "            background-color:  #000000;\n",
       "            color:  #f1f1f1;\n",
       "        }    #T_138dc373_9535_11ea_81ac_00155dc2efd4row2_col15 {\n",
       "            font-size:  6pt;\n",
       "            background-color:  #dedede;\n",
       "            color:  #000000;\n",
       "        }    #T_138dc373_9535_11ea_81ac_00155dc2efd4row2_col16 {\n",
       "            font-size:  6pt;\n",
       "            background-color:  #fcfcfc;\n",
       "            color:  #000000;\n",
       "        }    #T_138dc373_9535_11ea_81ac_00155dc2efd4row2_col17 {\n",
       "            font-size:  6pt;\n",
       "            background-color:  #ffffff;\n",
       "            color:  #000000;\n",
       "        }    #T_138dc373_9535_11ea_81ac_00155dc2efd4row2_col18 {\n",
       "            font-size:  6pt;\n",
       "            background-color:  #ffffff;\n",
       "            color:  #000000;\n",
       "        }    #T_138dc373_9535_11ea_81ac_00155dc2efd4row2_col19 {\n",
       "            font-size:  6pt;\n",
       "            background-color:  #ffffff;\n",
       "            color:  #000000;\n",
       "        }    #T_138dc373_9535_11ea_81ac_00155dc2efd4row2_col20 {\n",
       "            font-size:  6pt;\n",
       "            background-color:  #ffffff;\n",
       "            color:  #000000;\n",
       "        }    #T_138dc373_9535_11ea_81ac_00155dc2efd4row3_col0 {\n",
       "            font-size:  6pt;\n",
       "            background-color:  #ffffff;\n",
       "            color:  #000000;\n",
       "        }    #T_138dc373_9535_11ea_81ac_00155dc2efd4row3_col1 {\n",
       "            font-size:  6pt;\n",
       "            background-color:  #ffffff;\n",
       "            color:  #000000;\n",
       "        }    #T_138dc373_9535_11ea_81ac_00155dc2efd4row3_col2 {\n",
       "            font-size:  6pt;\n",
       "            background-color:  #ffffff;\n",
       "            color:  #000000;\n",
       "        }    #T_138dc373_9535_11ea_81ac_00155dc2efd4row3_col3 {\n",
       "            font-size:  6pt;\n",
       "            background-color:  #ffffff;\n",
       "            color:  #000000;\n",
       "        }    #T_138dc373_9535_11ea_81ac_00155dc2efd4row3_col4 {\n",
       "            font-size:  6pt;\n",
       "            background-color:  #ffffff;\n",
       "            color:  #000000;\n",
       "        }    #T_138dc373_9535_11ea_81ac_00155dc2efd4row3_col5 {\n",
       "            font-size:  6pt;\n",
       "            background-color:  #ffffff;\n",
       "            color:  #000000;\n",
       "        }    #T_138dc373_9535_11ea_81ac_00155dc2efd4row3_col6 {\n",
       "            font-size:  6pt;\n",
       "            background-color:  #fafafa;\n",
       "            color:  #000000;\n",
       "        }    #T_138dc373_9535_11ea_81ac_00155dc2efd4row3_col7 {\n",
       "            font-size:  6pt;\n",
       "            background-color:  #dcdcdc;\n",
       "            color:  #000000;\n",
       "        }    #T_138dc373_9535_11ea_81ac_00155dc2efd4row3_col8 {\n",
       "            font-size:  6pt;\n",
       "            background-color:  #222222;\n",
       "            color:  #f1f1f1;\n",
       "        }    #T_138dc373_9535_11ea_81ac_00155dc2efd4row3_col9 {\n",
       "            font-size:  6pt;\n",
       "            background-color:  #000000;\n",
       "            color:  #f1f1f1;\n",
       "        }    #T_138dc373_9535_11ea_81ac_00155dc2efd4row3_col10 {\n",
       "            font-size:  6pt;\n",
       "            background-color:  #000000;\n",
       "            color:  #f1f1f1;\n",
       "        }    #T_138dc373_9535_11ea_81ac_00155dc2efd4row3_col11 {\n",
       "            font-size:  6pt;\n",
       "            background-color:  #010101;\n",
       "            color:  #f1f1f1;\n",
       "        }    #T_138dc373_9535_11ea_81ac_00155dc2efd4row3_col12 {\n",
       "            font-size:  6pt;\n",
       "            background-color:  #404040;\n",
       "            color:  #f1f1f1;\n",
       "        }    #T_138dc373_9535_11ea_81ac_00155dc2efd4row3_col13 {\n",
       "            font-size:  6pt;\n",
       "            background-color:  #c6c6c6;\n",
       "            color:  #000000;\n",
       "        }    #T_138dc373_9535_11ea_81ac_00155dc2efd4row3_col14 {\n",
       "            font-size:  6pt;\n",
       "            background-color:  #000000;\n",
       "            color:  #f1f1f1;\n",
       "        }    #T_138dc373_9535_11ea_81ac_00155dc2efd4row3_col15 {\n",
       "            font-size:  6pt;\n",
       "            background-color:  #020202;\n",
       "            color:  #f1f1f1;\n",
       "        }    #T_138dc373_9535_11ea_81ac_00155dc2efd4row3_col16 {\n",
       "            font-size:  6pt;\n",
       "            background-color:  #9c9c9c;\n",
       "            color:  #000000;\n",
       "        }    #T_138dc373_9535_11ea_81ac_00155dc2efd4row3_col17 {\n",
       "            font-size:  6pt;\n",
       "            background-color:  #ffffff;\n",
       "            color:  #000000;\n",
       "        }    #T_138dc373_9535_11ea_81ac_00155dc2efd4row3_col18 {\n",
       "            font-size:  6pt;\n",
       "            background-color:  #ffffff;\n",
       "            color:  #000000;\n",
       "        }    #T_138dc373_9535_11ea_81ac_00155dc2efd4row3_col19 {\n",
       "            font-size:  6pt;\n",
       "            background-color:  #ffffff;\n",
       "            color:  #000000;\n",
       "        }    #T_138dc373_9535_11ea_81ac_00155dc2efd4row3_col20 {\n",
       "            font-size:  6pt;\n",
       "            background-color:  #ffffff;\n",
       "            color:  #000000;\n",
       "        }    #T_138dc373_9535_11ea_81ac_00155dc2efd4row4_col0 {\n",
       "            font-size:  6pt;\n",
       "            background-color:  #ffffff;\n",
       "            color:  #000000;\n",
       "        }    #T_138dc373_9535_11ea_81ac_00155dc2efd4row4_col1 {\n",
       "            font-size:  6pt;\n",
       "            background-color:  #ffffff;\n",
       "            color:  #000000;\n",
       "        }    #T_138dc373_9535_11ea_81ac_00155dc2efd4row4_col2 {\n",
       "            font-size:  6pt;\n",
       "            background-color:  #ffffff;\n",
       "            color:  #000000;\n",
       "        }    #T_138dc373_9535_11ea_81ac_00155dc2efd4row4_col3 {\n",
       "            font-size:  6pt;\n",
       "            background-color:  #ffffff;\n",
       "            color:  #000000;\n",
       "        }    #T_138dc373_9535_11ea_81ac_00155dc2efd4row4_col4 {\n",
       "            font-size:  6pt;\n",
       "            background-color:  #ffffff;\n",
       "            color:  #000000;\n",
       "        }    #T_138dc373_9535_11ea_81ac_00155dc2efd4row4_col5 {\n",
       "            font-size:  6pt;\n",
       "            background-color:  #ffffff;\n",
       "            color:  #000000;\n",
       "        }    #T_138dc373_9535_11ea_81ac_00155dc2efd4row4_col6 {\n",
       "            font-size:  6pt;\n",
       "            background-color:  #6d6d6d;\n",
       "            color:  #000000;\n",
       "        }    #T_138dc373_9535_11ea_81ac_00155dc2efd4row4_col7 {\n",
       "            font-size:  6pt;\n",
       "            background-color:  #010101;\n",
       "            color:  #f1f1f1;\n",
       "        }    #T_138dc373_9535_11ea_81ac_00155dc2efd4row4_col8 {\n",
       "            font-size:  6pt;\n",
       "            background-color:  #010101;\n",
       "            color:  #f1f1f1;\n",
       "        }    #T_138dc373_9535_11ea_81ac_00155dc2efd4row4_col9 {\n",
       "            font-size:  6pt;\n",
       "            background-color:  #000000;\n",
       "            color:  #f1f1f1;\n",
       "        }    #T_138dc373_9535_11ea_81ac_00155dc2efd4row4_col10 {\n",
       "            font-size:  6pt;\n",
       "            background-color:  #000000;\n",
       "            color:  #f1f1f1;\n",
       "        }    #T_138dc373_9535_11ea_81ac_00155dc2efd4row4_col11 {\n",
       "            font-size:  6pt;\n",
       "            background-color:  #010101;\n",
       "            color:  #f1f1f1;\n",
       "        }    #T_138dc373_9535_11ea_81ac_00155dc2efd4row4_col12 {\n",
       "            font-size:  6pt;\n",
       "            background-color:  #010101;\n",
       "            color:  #f1f1f1;\n",
       "        }    #T_138dc373_9535_11ea_81ac_00155dc2efd4row4_col13 {\n",
       "            font-size:  6pt;\n",
       "            background-color:  #bbbbbb;\n",
       "            color:  #000000;\n",
       "        }    #T_138dc373_9535_11ea_81ac_00155dc2efd4row4_col14 {\n",
       "            font-size:  6pt;\n",
       "            background-color:  #515151;\n",
       "            color:  #f1f1f1;\n",
       "        }    #T_138dc373_9535_11ea_81ac_00155dc2efd4row4_col15 {\n",
       "            font-size:  6pt;\n",
       "            background-color:  #020202;\n",
       "            color:  #f1f1f1;\n",
       "        }    #T_138dc373_9535_11ea_81ac_00155dc2efd4row4_col16 {\n",
       "            font-size:  6pt;\n",
       "            background-color:  #6a6a6a;\n",
       "            color:  #000000;\n",
       "        }    #T_138dc373_9535_11ea_81ac_00155dc2efd4row4_col17 {\n",
       "            font-size:  6pt;\n",
       "            background-color:  #ffffff;\n",
       "            color:  #000000;\n",
       "        }    #T_138dc373_9535_11ea_81ac_00155dc2efd4row4_col18 {\n",
       "            font-size:  6pt;\n",
       "            background-color:  #ffffff;\n",
       "            color:  #000000;\n",
       "        }    #T_138dc373_9535_11ea_81ac_00155dc2efd4row4_col19 {\n",
       "            font-size:  6pt;\n",
       "            background-color:  #ffffff;\n",
       "            color:  #000000;\n",
       "        }    #T_138dc373_9535_11ea_81ac_00155dc2efd4row4_col20 {\n",
       "            font-size:  6pt;\n",
       "            background-color:  #ffffff;\n",
       "            color:  #000000;\n",
       "        }    #T_138dc373_9535_11ea_81ac_00155dc2efd4row5_col0 {\n",
       "            font-size:  6pt;\n",
       "            background-color:  #ffffff;\n",
       "            color:  #000000;\n",
       "        }    #T_138dc373_9535_11ea_81ac_00155dc2efd4row5_col1 {\n",
       "            font-size:  6pt;\n",
       "            background-color:  #ffffff;\n",
       "            color:  #000000;\n",
       "        }    #T_138dc373_9535_11ea_81ac_00155dc2efd4row5_col2 {\n",
       "            font-size:  6pt;\n",
       "            background-color:  #ffffff;\n",
       "            color:  #000000;\n",
       "        }    #T_138dc373_9535_11ea_81ac_00155dc2efd4row5_col3 {\n",
       "            font-size:  6pt;\n",
       "            background-color:  #ffffff;\n",
       "            color:  #000000;\n",
       "        }    #T_138dc373_9535_11ea_81ac_00155dc2efd4row5_col4 {\n",
       "            font-size:  6pt;\n",
       "            background-color:  #ffffff;\n",
       "            color:  #000000;\n",
       "        }    #T_138dc373_9535_11ea_81ac_00155dc2efd4row5_col5 {\n",
       "            font-size:  6pt;\n",
       "            background-color:  #e2e2e2;\n",
       "            color:  #000000;\n",
       "        }    #T_138dc373_9535_11ea_81ac_00155dc2efd4row5_col6 {\n",
       "            font-size:  6pt;\n",
       "            background-color:  #101010;\n",
       "            color:  #f1f1f1;\n",
       "        }    #T_138dc373_9535_11ea_81ac_00155dc2efd4row5_col7 {\n",
       "            font-size:  6pt;\n",
       "            background-color:  #000000;\n",
       "            color:  #f1f1f1;\n",
       "        }    #T_138dc373_9535_11ea_81ac_00155dc2efd4row5_col8 {\n",
       "            font-size:  6pt;\n",
       "            background-color:  #000000;\n",
       "            color:  #f1f1f1;\n",
       "        }    #T_138dc373_9535_11ea_81ac_00155dc2efd4row5_col9 {\n",
       "            font-size:  6pt;\n",
       "            background-color:  #505050;\n",
       "            color:  #f1f1f1;\n",
       "        }    #T_138dc373_9535_11ea_81ac_00155dc2efd4row5_col10 {\n",
       "            font-size:  6pt;\n",
       "            background-color:  #a5a5a5;\n",
       "            color:  #000000;\n",
       "        }    #T_138dc373_9535_11ea_81ac_00155dc2efd4row5_col11 {\n",
       "            font-size:  6pt;\n",
       "            background-color:  #000000;\n",
       "            color:  #f1f1f1;\n",
       "        }    #T_138dc373_9535_11ea_81ac_00155dc2efd4row5_col12 {\n",
       "            font-size:  6pt;\n",
       "            background-color:  #1d1d1d;\n",
       "            color:  #f1f1f1;\n",
       "        }    #T_138dc373_9535_11ea_81ac_00155dc2efd4row5_col13 {\n",
       "            font-size:  6pt;\n",
       "            background-color:  #e5e5e5;\n",
       "            color:  #000000;\n",
       "        }    #T_138dc373_9535_11ea_81ac_00155dc2efd4row5_col14 {\n",
       "            font-size:  6pt;\n",
       "            background-color:  #cbcbcb;\n",
       "            color:  #000000;\n",
       "        }    #T_138dc373_9535_11ea_81ac_00155dc2efd4row5_col15 {\n",
       "            font-size:  6pt;\n",
       "            background-color:  #000000;\n",
       "            color:  #f1f1f1;\n",
       "        }    #T_138dc373_9535_11ea_81ac_00155dc2efd4row5_col16 {\n",
       "            font-size:  6pt;\n",
       "            background-color:  #696969;\n",
       "            color:  #000000;\n",
       "        }    #T_138dc373_9535_11ea_81ac_00155dc2efd4row5_col17 {\n",
       "            font-size:  6pt;\n",
       "            background-color:  #ffffff;\n",
       "            color:  #000000;\n",
       "        }    #T_138dc373_9535_11ea_81ac_00155dc2efd4row5_col18 {\n",
       "            font-size:  6pt;\n",
       "            background-color:  #ffffff;\n",
       "            color:  #000000;\n",
       "        }    #T_138dc373_9535_11ea_81ac_00155dc2efd4row5_col19 {\n",
       "            font-size:  6pt;\n",
       "            background-color:  #ffffff;\n",
       "            color:  #000000;\n",
       "        }    #T_138dc373_9535_11ea_81ac_00155dc2efd4row5_col20 {\n",
       "            font-size:  6pt;\n",
       "            background-color:  #ffffff;\n",
       "            color:  #000000;\n",
       "        }    #T_138dc373_9535_11ea_81ac_00155dc2efd4row6_col0 {\n",
       "            font-size:  6pt;\n",
       "            background-color:  #ffffff;\n",
       "            color:  #000000;\n",
       "        }    #T_138dc373_9535_11ea_81ac_00155dc2efd4row6_col1 {\n",
       "            font-size:  6pt;\n",
       "            background-color:  #ffffff;\n",
       "            color:  #000000;\n",
       "        }    #T_138dc373_9535_11ea_81ac_00155dc2efd4row6_col2 {\n",
       "            font-size:  6pt;\n",
       "            background-color:  #ffffff;\n",
       "            color:  #000000;\n",
       "        }    #T_138dc373_9535_11ea_81ac_00155dc2efd4row6_col3 {\n",
       "            font-size:  6pt;\n",
       "            background-color:  #ffffff;\n",
       "            color:  #000000;\n",
       "        }    #T_138dc373_9535_11ea_81ac_00155dc2efd4row6_col4 {\n",
       "            font-size:  6pt;\n",
       "            background-color:  #e4e4e4;\n",
       "            color:  #000000;\n",
       "        }    #T_138dc373_9535_11ea_81ac_00155dc2efd4row6_col5 {\n",
       "            font-size:  6pt;\n",
       "            background-color:  #111111;\n",
       "            color:  #f1f1f1;\n",
       "        }    #T_138dc373_9535_11ea_81ac_00155dc2efd4row6_col6 {\n",
       "            font-size:  6pt;\n",
       "            background-color:  #000000;\n",
       "            color:  #f1f1f1;\n",
       "        }    #T_138dc373_9535_11ea_81ac_00155dc2efd4row6_col7 {\n",
       "            font-size:  6pt;\n",
       "            background-color:  #010101;\n",
       "            color:  #f1f1f1;\n",
       "        }    #T_138dc373_9535_11ea_81ac_00155dc2efd4row6_col8 {\n",
       "            font-size:  6pt;\n",
       "            background-color:  #5d5d5d;\n",
       "            color:  #f1f1f1;\n",
       "        }    #T_138dc373_9535_11ea_81ac_00155dc2efd4row6_col9 {\n",
       "            font-size:  6pt;\n",
       "            background-color:  #f9f9f9;\n",
       "            color:  #000000;\n",
       "        }    #T_138dc373_9535_11ea_81ac_00155dc2efd4row6_col10 {\n",
       "            font-size:  6pt;\n",
       "            background-color:  #cfcfcf;\n",
       "            color:  #000000;\n",
       "        }    #T_138dc373_9535_11ea_81ac_00155dc2efd4row6_col11 {\n",
       "            font-size:  6pt;\n",
       "            background-color:  #9d9d9d;\n",
       "            color:  #000000;\n",
       "        }    #T_138dc373_9535_11ea_81ac_00155dc2efd4row6_col12 {\n",
       "            font-size:  6pt;\n",
       "            background-color:  #f5f5f5;\n",
       "            color:  #000000;\n",
       "        }    #T_138dc373_9535_11ea_81ac_00155dc2efd4row6_col13 {\n",
       "            font-size:  6pt;\n",
       "            background-color:  #ffffff;\n",
       "            color:  #000000;\n",
       "        }    #T_138dc373_9535_11ea_81ac_00155dc2efd4row6_col14 {\n",
       "            font-size:  6pt;\n",
       "            background-color:  #ffffff;\n",
       "            color:  #000000;\n",
       "        }    #T_138dc373_9535_11ea_81ac_00155dc2efd4row6_col15 {\n",
       "            font-size:  6pt;\n",
       "            background-color:  #020202;\n",
       "            color:  #f1f1f1;\n",
       "        }    #T_138dc373_9535_11ea_81ac_00155dc2efd4row6_col16 {\n",
       "            font-size:  6pt;\n",
       "            background-color:  #0c0c0c;\n",
       "            color:  #f1f1f1;\n",
       "        }    #T_138dc373_9535_11ea_81ac_00155dc2efd4row6_col17 {\n",
       "            font-size:  6pt;\n",
       "            background-color:  #d8d8d8;\n",
       "            color:  #000000;\n",
       "        }    #T_138dc373_9535_11ea_81ac_00155dc2efd4row6_col18 {\n",
       "            font-size:  6pt;\n",
       "            background-color:  #ffffff;\n",
       "            color:  #000000;\n",
       "        }    #T_138dc373_9535_11ea_81ac_00155dc2efd4row6_col19 {\n",
       "            font-size:  6pt;\n",
       "            background-color:  #ffffff;\n",
       "            color:  #000000;\n",
       "        }    #T_138dc373_9535_11ea_81ac_00155dc2efd4row6_col20 {\n",
       "            font-size:  6pt;\n",
       "            background-color:  #ffffff;\n",
       "            color:  #000000;\n",
       "        }    #T_138dc373_9535_11ea_81ac_00155dc2efd4row7_col0 {\n",
       "            font-size:  6pt;\n",
       "            background-color:  #ffffff;\n",
       "            color:  #000000;\n",
       "        }    #T_138dc373_9535_11ea_81ac_00155dc2efd4row7_col1 {\n",
       "            font-size:  6pt;\n",
       "            background-color:  #ffffff;\n",
       "            color:  #000000;\n",
       "        }    #T_138dc373_9535_11ea_81ac_00155dc2efd4row7_col2 {\n",
       "            font-size:  6pt;\n",
       "            background-color:  #ffffff;\n",
       "            color:  #000000;\n",
       "        }    #T_138dc373_9535_11ea_81ac_00155dc2efd4row7_col3 {\n",
       "            font-size:  6pt;\n",
       "            background-color:  #ececec;\n",
       "            color:  #000000;\n",
       "        }    #T_138dc373_9535_11ea_81ac_00155dc2efd4row7_col4 {\n",
       "            font-size:  6pt;\n",
       "            background-color:  #6b6b6b;\n",
       "            color:  #000000;\n",
       "        }    #T_138dc373_9535_11ea_81ac_00155dc2efd4row7_col5 {\n",
       "            font-size:  6pt;\n",
       "            background-color:  #000000;\n",
       "            color:  #f1f1f1;\n",
       "        }    #T_138dc373_9535_11ea_81ac_00155dc2efd4row7_col6 {\n",
       "            font-size:  6pt;\n",
       "            background-color:  #161616;\n",
       "            color:  #f1f1f1;\n",
       "        }    #T_138dc373_9535_11ea_81ac_00155dc2efd4row7_col7 {\n",
       "            font-size:  6pt;\n",
       "            background-color:  #383838;\n",
       "            color:  #f1f1f1;\n",
       "        }    #T_138dc373_9535_11ea_81ac_00155dc2efd4row7_col8 {\n",
       "            font-size:  6pt;\n",
       "            background-color:  #c7c7c7;\n",
       "            color:  #000000;\n",
       "        }    #T_138dc373_9535_11ea_81ac_00155dc2efd4row7_col9 {\n",
       "            font-size:  6pt;\n",
       "            background-color:  #ffffff;\n",
       "            color:  #000000;\n",
       "        }    #T_138dc373_9535_11ea_81ac_00155dc2efd4row7_col10 {\n",
       "            font-size:  6pt;\n",
       "            background-color:  #ffffff;\n",
       "            color:  #000000;\n",
       "        }    #T_138dc373_9535_11ea_81ac_00155dc2efd4row7_col11 {\n",
       "            font-size:  6pt;\n",
       "            background-color:  #ffffff;\n",
       "            color:  #000000;\n",
       "        }    #T_138dc373_9535_11ea_81ac_00155dc2efd4row7_col12 {\n",
       "            font-size:  6pt;\n",
       "            background-color:  #ffffff;\n",
       "            color:  #000000;\n",
       "        }    #T_138dc373_9535_11ea_81ac_00155dc2efd4row7_col13 {\n",
       "            font-size:  6pt;\n",
       "            background-color:  #ffffff;\n",
       "            color:  #000000;\n",
       "        }    #T_138dc373_9535_11ea_81ac_00155dc2efd4row7_col14 {\n",
       "            font-size:  6pt;\n",
       "            background-color:  #ffffff;\n",
       "            color:  #000000;\n",
       "        }    #T_138dc373_9535_11ea_81ac_00155dc2efd4row7_col15 {\n",
       "            font-size:  6pt;\n",
       "            background-color:  #020202;\n",
       "            color:  #f1f1f1;\n",
       "        }    #T_138dc373_9535_11ea_81ac_00155dc2efd4row7_col16 {\n",
       "            font-size:  6pt;\n",
       "            background-color:  #010101;\n",
       "            color:  #f1f1f1;\n",
       "        }    #T_138dc373_9535_11ea_81ac_00155dc2efd4row7_col17 {\n",
       "            font-size:  6pt;\n",
       "            background-color:  #303030;\n",
       "            color:  #f1f1f1;\n",
       "        }    #T_138dc373_9535_11ea_81ac_00155dc2efd4row7_col18 {\n",
       "            font-size:  6pt;\n",
       "            background-color:  #ffffff;\n",
       "            color:  #000000;\n",
       "        }    #T_138dc373_9535_11ea_81ac_00155dc2efd4row7_col19 {\n",
       "            font-size:  6pt;\n",
       "            background-color:  #ffffff;\n",
       "            color:  #000000;\n",
       "        }    #T_138dc373_9535_11ea_81ac_00155dc2efd4row7_col20 {\n",
       "            font-size:  6pt;\n",
       "            background-color:  #ffffff;\n",
       "            color:  #000000;\n",
       "        }    #T_138dc373_9535_11ea_81ac_00155dc2efd4row8_col0 {\n",
       "            font-size:  6pt;\n",
       "            background-color:  #ffffff;\n",
       "            color:  #000000;\n",
       "        }    #T_138dc373_9535_11ea_81ac_00155dc2efd4row8_col1 {\n",
       "            font-size:  6pt;\n",
       "            background-color:  #ffffff;\n",
       "            color:  #000000;\n",
       "        }    #T_138dc373_9535_11ea_81ac_00155dc2efd4row8_col2 {\n",
       "            font-size:  6pt;\n",
       "            background-color:  #fcfcfc;\n",
       "            color:  #000000;\n",
       "        }    #T_138dc373_9535_11ea_81ac_00155dc2efd4row8_col3 {\n",
       "            font-size:  6pt;\n",
       "            background-color:  #5e5e5e;\n",
       "            color:  #f1f1f1;\n",
       "        }    #T_138dc373_9535_11ea_81ac_00155dc2efd4row8_col4 {\n",
       "            font-size:  6pt;\n",
       "            background-color:  #000000;\n",
       "            color:  #f1f1f1;\n",
       "        }    #T_138dc373_9535_11ea_81ac_00155dc2efd4row8_col5 {\n",
       "            font-size:  6pt;\n",
       "            background-color:  #0f0f0f;\n",
       "            color:  #f1f1f1;\n",
       "        }    #T_138dc373_9535_11ea_81ac_00155dc2efd4row8_col6 {\n",
       "            font-size:  6pt;\n",
       "            background-color:  #d2d2d2;\n",
       "            color:  #000000;\n",
       "        }    #T_138dc373_9535_11ea_81ac_00155dc2efd4row8_col7 {\n",
       "            font-size:  6pt;\n",
       "            background-color:  #f6f6f6;\n",
       "            color:  #000000;\n",
       "        }    #T_138dc373_9535_11ea_81ac_00155dc2efd4row8_col8 {\n",
       "            font-size:  6pt;\n",
       "            background-color:  #f2f2f2;\n",
       "            color:  #000000;\n",
       "        }    #T_138dc373_9535_11ea_81ac_00155dc2efd4row8_col9 {\n",
       "            font-size:  6pt;\n",
       "            background-color:  #ffffff;\n",
       "            color:  #000000;\n",
       "        }    #T_138dc373_9535_11ea_81ac_00155dc2efd4row8_col10 {\n",
       "            font-size:  6pt;\n",
       "            background-color:  #ffffff;\n",
       "            color:  #000000;\n",
       "        }    #T_138dc373_9535_11ea_81ac_00155dc2efd4row8_col11 {\n",
       "            font-size:  6pt;\n",
       "            background-color:  #ffffff;\n",
       "            color:  #000000;\n",
       "        }    #T_138dc373_9535_11ea_81ac_00155dc2efd4row8_col12 {\n",
       "            font-size:  6pt;\n",
       "            background-color:  #ffffff;\n",
       "            color:  #000000;\n",
       "        }    #T_138dc373_9535_11ea_81ac_00155dc2efd4row8_col13 {\n",
       "            font-size:  6pt;\n",
       "            background-color:  #ffffff;\n",
       "            color:  #000000;\n",
       "        }    #T_138dc373_9535_11ea_81ac_00155dc2efd4row8_col14 {\n",
       "            font-size:  6pt;\n",
       "            background-color:  #ffffff;\n",
       "            color:  #000000;\n",
       "        }    #T_138dc373_9535_11ea_81ac_00155dc2efd4row8_col15 {\n",
       "            font-size:  6pt;\n",
       "            background-color:  #020202;\n",
       "            color:  #f1f1f1;\n",
       "        }    #T_138dc373_9535_11ea_81ac_00155dc2efd4row8_col16 {\n",
       "            font-size:  6pt;\n",
       "            background-color:  #010101;\n",
       "            color:  #f1f1f1;\n",
       "        }    #T_138dc373_9535_11ea_81ac_00155dc2efd4row8_col17 {\n",
       "            font-size:  6pt;\n",
       "            background-color:  #010101;\n",
       "            color:  #f1f1f1;\n",
       "        }    #T_138dc373_9535_11ea_81ac_00155dc2efd4row8_col18 {\n",
       "            font-size:  6pt;\n",
       "            background-color:  #ffffff;\n",
       "            color:  #000000;\n",
       "        }    #T_138dc373_9535_11ea_81ac_00155dc2efd4row8_col19 {\n",
       "            font-size:  6pt;\n",
       "            background-color:  #ffffff;\n",
       "            color:  #000000;\n",
       "        }    #T_138dc373_9535_11ea_81ac_00155dc2efd4row8_col20 {\n",
       "            font-size:  6pt;\n",
       "            background-color:  #ffffff;\n",
       "            color:  #000000;\n",
       "        }    #T_138dc373_9535_11ea_81ac_00155dc2efd4row9_col0 {\n",
       "            font-size:  6pt;\n",
       "            background-color:  #ffffff;\n",
       "            color:  #000000;\n",
       "        }    #T_138dc373_9535_11ea_81ac_00155dc2efd4row9_col1 {\n",
       "            font-size:  6pt;\n",
       "            background-color:  #ffffff;\n",
       "            color:  #000000;\n",
       "        }    #T_138dc373_9535_11ea_81ac_00155dc2efd4row9_col2 {\n",
       "            font-size:  6pt;\n",
       "            background-color:  #dedede;\n",
       "            color:  #000000;\n",
       "        }    #T_138dc373_9535_11ea_81ac_00155dc2efd4row9_col3 {\n",
       "            font-size:  6pt;\n",
       "            background-color:  #010101;\n",
       "            color:  #f1f1f1;\n",
       "        }    #T_138dc373_9535_11ea_81ac_00155dc2efd4row9_col4 {\n",
       "            font-size:  6pt;\n",
       "            background-color:  #000000;\n",
       "            color:  #f1f1f1;\n",
       "        }    #T_138dc373_9535_11ea_81ac_00155dc2efd4row9_col5 {\n",
       "            font-size:  6pt;\n",
       "            background-color:  #dadada;\n",
       "            color:  #000000;\n",
       "        }    #T_138dc373_9535_11ea_81ac_00155dc2efd4row9_col6 {\n",
       "            font-size:  6pt;\n",
       "            background-color:  #ffffff;\n",
       "            color:  #000000;\n",
       "        }    #T_138dc373_9535_11ea_81ac_00155dc2efd4row9_col7 {\n",
       "            font-size:  6pt;\n",
       "            background-color:  #ffffff;\n",
       "            color:  #000000;\n",
       "        }    #T_138dc373_9535_11ea_81ac_00155dc2efd4row9_col8 {\n",
       "            font-size:  6pt;\n",
       "            background-color:  #ffffff;\n",
       "            color:  #000000;\n",
       "        }    #T_138dc373_9535_11ea_81ac_00155dc2efd4row9_col9 {\n",
       "            font-size:  6pt;\n",
       "            background-color:  #ffffff;\n",
       "            color:  #000000;\n",
       "        }    #T_138dc373_9535_11ea_81ac_00155dc2efd4row9_col10 {\n",
       "            font-size:  6pt;\n",
       "            background-color:  #ffffff;\n",
       "            color:  #000000;\n",
       "        }    #T_138dc373_9535_11ea_81ac_00155dc2efd4row9_col11 {\n",
       "            font-size:  6pt;\n",
       "            background-color:  #ffffff;\n",
       "            color:  #000000;\n",
       "        }    #T_138dc373_9535_11ea_81ac_00155dc2efd4row9_col12 {\n",
       "            font-size:  6pt;\n",
       "            background-color:  #ffffff;\n",
       "            color:  #000000;\n",
       "        }    #T_138dc373_9535_11ea_81ac_00155dc2efd4row9_col13 {\n",
       "            font-size:  6pt;\n",
       "            background-color:  #ffffff;\n",
       "            color:  #000000;\n",
       "        }    #T_138dc373_9535_11ea_81ac_00155dc2efd4row9_col14 {\n",
       "            font-size:  6pt;\n",
       "            background-color:  #ffffff;\n",
       "            color:  #000000;\n",
       "        }    #T_138dc373_9535_11ea_81ac_00155dc2efd4row9_col15 {\n",
       "            font-size:  6pt;\n",
       "            background-color:  #020202;\n",
       "            color:  #f1f1f1;\n",
       "        }    #T_138dc373_9535_11ea_81ac_00155dc2efd4row9_col16 {\n",
       "            font-size:  6pt;\n",
       "            background-color:  #010101;\n",
       "            color:  #f1f1f1;\n",
       "        }    #T_138dc373_9535_11ea_81ac_00155dc2efd4row9_col17 {\n",
       "            font-size:  6pt;\n",
       "            background-color:  #010101;\n",
       "            color:  #f1f1f1;\n",
       "        }    #T_138dc373_9535_11ea_81ac_00155dc2efd4row9_col18 {\n",
       "            font-size:  6pt;\n",
       "            background-color:  #ffffff;\n",
       "            color:  #000000;\n",
       "        }    #T_138dc373_9535_11ea_81ac_00155dc2efd4row9_col19 {\n",
       "            font-size:  6pt;\n",
       "            background-color:  #ffffff;\n",
       "            color:  #000000;\n",
       "        }    #T_138dc373_9535_11ea_81ac_00155dc2efd4row9_col20 {\n",
       "            font-size:  6pt;\n",
       "            background-color:  #ffffff;\n",
       "            color:  #000000;\n",
       "        }    #T_138dc373_9535_11ea_81ac_00155dc2efd4row10_col0 {\n",
       "            font-size:  6pt;\n",
       "            background-color:  #ffffff;\n",
       "            color:  #000000;\n",
       "        }    #T_138dc373_9535_11ea_81ac_00155dc2efd4row10_col1 {\n",
       "            font-size:  6pt;\n",
       "            background-color:  #ffffff;\n",
       "            color:  #000000;\n",
       "        }    #T_138dc373_9535_11ea_81ac_00155dc2efd4row10_col2 {\n",
       "            font-size:  6pt;\n",
       "            background-color:  #464646;\n",
       "            color:  #f1f1f1;\n",
       "        }    #T_138dc373_9535_11ea_81ac_00155dc2efd4row10_col3 {\n",
       "            font-size:  6pt;\n",
       "            background-color:  #000000;\n",
       "            color:  #f1f1f1;\n",
       "        }    #T_138dc373_9535_11ea_81ac_00155dc2efd4row10_col4 {\n",
       "            font-size:  6pt;\n",
       "            background-color:  #505050;\n",
       "            color:  #f1f1f1;\n",
       "        }    #T_138dc373_9535_11ea_81ac_00155dc2efd4row10_col5 {\n",
       "            font-size:  6pt;\n",
       "            background-color:  #ffffff;\n",
       "            color:  #000000;\n",
       "        }    #T_138dc373_9535_11ea_81ac_00155dc2efd4row10_col6 {\n",
       "            font-size:  6pt;\n",
       "            background-color:  #ffffff;\n",
       "            color:  #000000;\n",
       "        }    #T_138dc373_9535_11ea_81ac_00155dc2efd4row10_col7 {\n",
       "            font-size:  6pt;\n",
       "            background-color:  #ffffff;\n",
       "            color:  #000000;\n",
       "        }    #T_138dc373_9535_11ea_81ac_00155dc2efd4row10_col8 {\n",
       "            font-size:  6pt;\n",
       "            background-color:  #ffffff;\n",
       "            color:  #000000;\n",
       "        }    #T_138dc373_9535_11ea_81ac_00155dc2efd4row10_col9 {\n",
       "            font-size:  6pt;\n",
       "            background-color:  #ffffff;\n",
       "            color:  #000000;\n",
       "        }    #T_138dc373_9535_11ea_81ac_00155dc2efd4row10_col10 {\n",
       "            font-size:  6pt;\n",
       "            background-color:  #ffffff;\n",
       "            color:  #000000;\n",
       "        }    #T_138dc373_9535_11ea_81ac_00155dc2efd4row10_col11 {\n",
       "            font-size:  6pt;\n",
       "            background-color:  #ffffff;\n",
       "            color:  #000000;\n",
       "        }    #T_138dc373_9535_11ea_81ac_00155dc2efd4row10_col12 {\n",
       "            font-size:  6pt;\n",
       "            background-color:  #ffffff;\n",
       "            color:  #000000;\n",
       "        }    #T_138dc373_9535_11ea_81ac_00155dc2efd4row10_col13 {\n",
       "            font-size:  6pt;\n",
       "            background-color:  #ffffff;\n",
       "            color:  #000000;\n",
       "        }    #T_138dc373_9535_11ea_81ac_00155dc2efd4row10_col14 {\n",
       "            font-size:  6pt;\n",
       "            background-color:  #ffffff;\n",
       "            color:  #000000;\n",
       "        }    #T_138dc373_9535_11ea_81ac_00155dc2efd4row10_col15 {\n",
       "            font-size:  6pt;\n",
       "            background-color:  #000000;\n",
       "            color:  #f1f1f1;\n",
       "        }    #T_138dc373_9535_11ea_81ac_00155dc2efd4row10_col16 {\n",
       "            font-size:  6pt;\n",
       "            background-color:  #000000;\n",
       "            color:  #f1f1f1;\n",
       "        }    #T_138dc373_9535_11ea_81ac_00155dc2efd4row10_col17 {\n",
       "            font-size:  6pt;\n",
       "            background-color:  #000000;\n",
       "            color:  #f1f1f1;\n",
       "        }    #T_138dc373_9535_11ea_81ac_00155dc2efd4row10_col18 {\n",
       "            font-size:  6pt;\n",
       "            background-color:  #ffffff;\n",
       "            color:  #000000;\n",
       "        }    #T_138dc373_9535_11ea_81ac_00155dc2efd4row10_col19 {\n",
       "            font-size:  6pt;\n",
       "            background-color:  #ffffff;\n",
       "            color:  #000000;\n",
       "        }    #T_138dc373_9535_11ea_81ac_00155dc2efd4row10_col20 {\n",
       "            font-size:  6pt;\n",
       "            background-color:  #ffffff;\n",
       "            color:  #000000;\n",
       "        }    #T_138dc373_9535_11ea_81ac_00155dc2efd4row11_col0 {\n",
       "            font-size:  6pt;\n",
       "            background-color:  #ffffff;\n",
       "            color:  #000000;\n",
       "        }    #T_138dc373_9535_11ea_81ac_00155dc2efd4row11_col1 {\n",
       "            font-size:  6pt;\n",
       "            background-color:  #222222;\n",
       "            color:  #f1f1f1;\n",
       "        }    #T_138dc373_9535_11ea_81ac_00155dc2efd4row11_col2 {\n",
       "            font-size:  6pt;\n",
       "            background-color:  #080808;\n",
       "            color:  #f1f1f1;\n",
       "        }    #T_138dc373_9535_11ea_81ac_00155dc2efd4row11_col3 {\n",
       "            font-size:  6pt;\n",
       "            background-color:  #010101;\n",
       "            color:  #f1f1f1;\n",
       "        }    #T_138dc373_9535_11ea_81ac_00155dc2efd4row11_col4 {\n",
       "            font-size:  6pt;\n",
       "            background-color:  #a8a8a8;\n",
       "            color:  #000000;\n",
       "        }    #T_138dc373_9535_11ea_81ac_00155dc2efd4row11_col5 {\n",
       "            font-size:  6pt;\n",
       "            background-color:  #ffffff;\n",
       "            color:  #000000;\n",
       "        }    #T_138dc373_9535_11ea_81ac_00155dc2efd4row11_col6 {\n",
       "            font-size:  6pt;\n",
       "            background-color:  #ffffff;\n",
       "            color:  #000000;\n",
       "        }    #T_138dc373_9535_11ea_81ac_00155dc2efd4row11_col7 {\n",
       "            font-size:  6pt;\n",
       "            background-color:  #ffffff;\n",
       "            color:  #000000;\n",
       "        }    #T_138dc373_9535_11ea_81ac_00155dc2efd4row11_col8 {\n",
       "            font-size:  6pt;\n",
       "            background-color:  #ffffff;\n",
       "            color:  #000000;\n",
       "        }    #T_138dc373_9535_11ea_81ac_00155dc2efd4row11_col9 {\n",
       "            font-size:  6pt;\n",
       "            background-color:  #ffffff;\n",
       "            color:  #000000;\n",
       "        }    #T_138dc373_9535_11ea_81ac_00155dc2efd4row11_col10 {\n",
       "            font-size:  6pt;\n",
       "            background-color:  #ffffff;\n",
       "            color:  #000000;\n",
       "        }    #T_138dc373_9535_11ea_81ac_00155dc2efd4row11_col11 {\n",
       "            font-size:  6pt;\n",
       "            background-color:  #ffffff;\n",
       "            color:  #000000;\n",
       "        }    #T_138dc373_9535_11ea_81ac_00155dc2efd4row11_col12 {\n",
       "            font-size:  6pt;\n",
       "            background-color:  #ffffff;\n",
       "            color:  #000000;\n",
       "        }    #T_138dc373_9535_11ea_81ac_00155dc2efd4row11_col13 {\n",
       "            font-size:  6pt;\n",
       "            background-color:  #ffffff;\n",
       "            color:  #000000;\n",
       "        }    #T_138dc373_9535_11ea_81ac_00155dc2efd4row11_col14 {\n",
       "            font-size:  6pt;\n",
       "            background-color:  #ffffff;\n",
       "            color:  #000000;\n",
       "        }    #T_138dc373_9535_11ea_81ac_00155dc2efd4row11_col15 {\n",
       "            font-size:  6pt;\n",
       "            background-color:  #020202;\n",
       "            color:  #f1f1f1;\n",
       "        }    #T_138dc373_9535_11ea_81ac_00155dc2efd4row11_col16 {\n",
       "            font-size:  6pt;\n",
       "            background-color:  #010101;\n",
       "            color:  #f1f1f1;\n",
       "        }    #T_138dc373_9535_11ea_81ac_00155dc2efd4row11_col17 {\n",
       "            font-size:  6pt;\n",
       "            background-color:  #505050;\n",
       "            color:  #f1f1f1;\n",
       "        }    #T_138dc373_9535_11ea_81ac_00155dc2efd4row11_col18 {\n",
       "            font-size:  6pt;\n",
       "            background-color:  #ffffff;\n",
       "            color:  #000000;\n",
       "        }    #T_138dc373_9535_11ea_81ac_00155dc2efd4row11_col19 {\n",
       "            font-size:  6pt;\n",
       "            background-color:  #ffffff;\n",
       "            color:  #000000;\n",
       "        }    #T_138dc373_9535_11ea_81ac_00155dc2efd4row11_col20 {\n",
       "            font-size:  6pt;\n",
       "            background-color:  #ffffff;\n",
       "            color:  #000000;\n",
       "        }    #T_138dc373_9535_11ea_81ac_00155dc2efd4row12_col0 {\n",
       "            font-size:  6pt;\n",
       "            background-color:  #ffffff;\n",
       "            color:  #000000;\n",
       "        }    #T_138dc373_9535_11ea_81ac_00155dc2efd4row12_col1 {\n",
       "            font-size:  6pt;\n",
       "            background-color:  #020202;\n",
       "            color:  #f1f1f1;\n",
       "        }    #T_138dc373_9535_11ea_81ac_00155dc2efd4row12_col2 {\n",
       "            font-size:  6pt;\n",
       "            background-color:  #010101;\n",
       "            color:  #f1f1f1;\n",
       "        }    #T_138dc373_9535_11ea_81ac_00155dc2efd4row12_col3 {\n",
       "            font-size:  6pt;\n",
       "            background-color:  #1b1b1b;\n",
       "            color:  #f1f1f1;\n",
       "        }    #T_138dc373_9535_11ea_81ac_00155dc2efd4row12_col4 {\n",
       "            font-size:  6pt;\n",
       "            background-color:  #f3f3f3;\n",
       "            color:  #000000;\n",
       "        }    #T_138dc373_9535_11ea_81ac_00155dc2efd4row12_col5 {\n",
       "            font-size:  6pt;\n",
       "            background-color:  #ffffff;\n",
       "            color:  #000000;\n",
       "        }    #T_138dc373_9535_11ea_81ac_00155dc2efd4row12_col6 {\n",
       "            font-size:  6pt;\n",
       "            background-color:  #ffffff;\n",
       "            color:  #000000;\n",
       "        }    #T_138dc373_9535_11ea_81ac_00155dc2efd4row12_col7 {\n",
       "            font-size:  6pt;\n",
       "            background-color:  #ffffff;\n",
       "            color:  #000000;\n",
       "        }    #T_138dc373_9535_11ea_81ac_00155dc2efd4row12_col8 {\n",
       "            font-size:  6pt;\n",
       "            background-color:  #ffffff;\n",
       "            color:  #000000;\n",
       "        }    #T_138dc373_9535_11ea_81ac_00155dc2efd4row12_col9 {\n",
       "            font-size:  6pt;\n",
       "            background-color:  #ffffff;\n",
       "            color:  #000000;\n",
       "        }    #T_138dc373_9535_11ea_81ac_00155dc2efd4row12_col10 {\n",
       "            font-size:  6pt;\n",
       "            background-color:  #ffffff;\n",
       "            color:  #000000;\n",
       "        }    #T_138dc373_9535_11ea_81ac_00155dc2efd4row12_col11 {\n",
       "            font-size:  6pt;\n",
       "            background-color:  #ffffff;\n",
       "            color:  #000000;\n",
       "        }    #T_138dc373_9535_11ea_81ac_00155dc2efd4row12_col12 {\n",
       "            font-size:  6pt;\n",
       "            background-color:  #ffffff;\n",
       "            color:  #000000;\n",
       "        }    #T_138dc373_9535_11ea_81ac_00155dc2efd4row12_col13 {\n",
       "            font-size:  6pt;\n",
       "            background-color:  #fcfcfc;\n",
       "            color:  #000000;\n",
       "        }    #T_138dc373_9535_11ea_81ac_00155dc2efd4row12_col14 {\n",
       "            font-size:  6pt;\n",
       "            background-color:  #8c8c8c;\n",
       "            color:  #000000;\n",
       "        }    #T_138dc373_9535_11ea_81ac_00155dc2efd4row12_col15 {\n",
       "            font-size:  6pt;\n",
       "            background-color:  #020202;\n",
       "            color:  #f1f1f1;\n",
       "        }    #T_138dc373_9535_11ea_81ac_00155dc2efd4row12_col16 {\n",
       "            font-size:  6pt;\n",
       "            background-color:  #555555;\n",
       "            color:  #f1f1f1;\n",
       "        }    #T_138dc373_9535_11ea_81ac_00155dc2efd4row12_col17 {\n",
       "            font-size:  6pt;\n",
       "            background-color:  #f8f8f8;\n",
       "            color:  #000000;\n",
       "        }    #T_138dc373_9535_11ea_81ac_00155dc2efd4row12_col18 {\n",
       "            font-size:  6pt;\n",
       "            background-color:  #ffffff;\n",
       "            color:  #000000;\n",
       "        }    #T_138dc373_9535_11ea_81ac_00155dc2efd4row12_col19 {\n",
       "            font-size:  6pt;\n",
       "            background-color:  #ffffff;\n",
       "            color:  #000000;\n",
       "        }    #T_138dc373_9535_11ea_81ac_00155dc2efd4row12_col20 {\n",
       "            font-size:  6pt;\n",
       "            background-color:  #ffffff;\n",
       "            color:  #000000;\n",
       "        }    #T_138dc373_9535_11ea_81ac_00155dc2efd4row13_col0 {\n",
       "            font-size:  6pt;\n",
       "            background-color:  #ffffff;\n",
       "            color:  #000000;\n",
       "        }    #T_138dc373_9535_11ea_81ac_00155dc2efd4row13_col1 {\n",
       "            font-size:  6pt;\n",
       "            background-color:  #020202;\n",
       "            color:  #f1f1f1;\n",
       "        }    #T_138dc373_9535_11ea_81ac_00155dc2efd4row13_col2 {\n",
       "            font-size:  6pt;\n",
       "            background-color:  #010101;\n",
       "            color:  #f1f1f1;\n",
       "        }    #T_138dc373_9535_11ea_81ac_00155dc2efd4row13_col3 {\n",
       "            font-size:  6pt;\n",
       "            background-color:  #232323;\n",
       "            color:  #f1f1f1;\n",
       "        }    #T_138dc373_9535_11ea_81ac_00155dc2efd4row13_col4 {\n",
       "            font-size:  6pt;\n",
       "            background-color:  #ffffff;\n",
       "            color:  #000000;\n",
       "        }    #T_138dc373_9535_11ea_81ac_00155dc2efd4row13_col5 {\n",
       "            font-size:  6pt;\n",
       "            background-color:  #ffffff;\n",
       "            color:  #000000;\n",
       "        }    #T_138dc373_9535_11ea_81ac_00155dc2efd4row13_col6 {\n",
       "            font-size:  6pt;\n",
       "            background-color:  #ffffff;\n",
       "            color:  #000000;\n",
       "        }    #T_138dc373_9535_11ea_81ac_00155dc2efd4row13_col7 {\n",
       "            font-size:  6pt;\n",
       "            background-color:  #ffffff;\n",
       "            color:  #000000;\n",
       "        }    #T_138dc373_9535_11ea_81ac_00155dc2efd4row13_col8 {\n",
       "            font-size:  6pt;\n",
       "            background-color:  #ffffff;\n",
       "            color:  #000000;\n",
       "        }    #T_138dc373_9535_11ea_81ac_00155dc2efd4row13_col9 {\n",
       "            font-size:  6pt;\n",
       "            background-color:  #ffffff;\n",
       "            color:  #000000;\n",
       "        }    #T_138dc373_9535_11ea_81ac_00155dc2efd4row13_col10 {\n",
       "            font-size:  6pt;\n",
       "            background-color:  #ffffff;\n",
       "            color:  #000000;\n",
       "        }    #T_138dc373_9535_11ea_81ac_00155dc2efd4row13_col11 {\n",
       "            font-size:  6pt;\n",
       "            background-color:  #ffffff;\n",
       "            color:  #000000;\n",
       "        }    #T_138dc373_9535_11ea_81ac_00155dc2efd4row13_col12 {\n",
       "            font-size:  6pt;\n",
       "            background-color:  #fcfcfc;\n",
       "            color:  #000000;\n",
       "        }    #T_138dc373_9535_11ea_81ac_00155dc2efd4row13_col13 {\n",
       "            font-size:  6pt;\n",
       "            background-color:  #909090;\n",
       "            color:  #000000;\n",
       "        }    #T_138dc373_9535_11ea_81ac_00155dc2efd4row13_col14 {\n",
       "            font-size:  6pt;\n",
       "            background-color:  #000000;\n",
       "            color:  #f1f1f1;\n",
       "        }    #T_138dc373_9535_11ea_81ac_00155dc2efd4row13_col15 {\n",
       "            font-size:  6pt;\n",
       "            background-color:  #232323;\n",
       "            color:  #f1f1f1;\n",
       "        }    #T_138dc373_9535_11ea_81ac_00155dc2efd4row13_col16 {\n",
       "            font-size:  6pt;\n",
       "            background-color:  #d3d3d3;\n",
       "            color:  #000000;\n",
       "        }    #T_138dc373_9535_11ea_81ac_00155dc2efd4row13_col17 {\n",
       "            font-size:  6pt;\n",
       "            background-color:  #ffffff;\n",
       "            color:  #000000;\n",
       "        }    #T_138dc373_9535_11ea_81ac_00155dc2efd4row13_col18 {\n",
       "            font-size:  6pt;\n",
       "            background-color:  #ffffff;\n",
       "            color:  #000000;\n",
       "        }    #T_138dc373_9535_11ea_81ac_00155dc2efd4row13_col19 {\n",
       "            font-size:  6pt;\n",
       "            background-color:  #ffffff;\n",
       "            color:  #000000;\n",
       "        }    #T_138dc373_9535_11ea_81ac_00155dc2efd4row13_col20 {\n",
       "            font-size:  6pt;\n",
       "            background-color:  #ffffff;\n",
       "            color:  #000000;\n",
       "        }    #T_138dc373_9535_11ea_81ac_00155dc2efd4row14_col0 {\n",
       "            font-size:  6pt;\n",
       "            background-color:  #ffffff;\n",
       "            color:  #000000;\n",
       "        }    #T_138dc373_9535_11ea_81ac_00155dc2efd4row14_col1 {\n",
       "            font-size:  6pt;\n",
       "            background-color:  #020202;\n",
       "            color:  #f1f1f1;\n",
       "        }    #T_138dc373_9535_11ea_81ac_00155dc2efd4row14_col2 {\n",
       "            font-size:  6pt;\n",
       "            background-color:  #010101;\n",
       "            color:  #f1f1f1;\n",
       "        }    #T_138dc373_9535_11ea_81ac_00155dc2efd4row14_col3 {\n",
       "            font-size:  6pt;\n",
       "            background-color:  #828282;\n",
       "            color:  #000000;\n",
       "        }    #T_138dc373_9535_11ea_81ac_00155dc2efd4row14_col4 {\n",
       "            font-size:  6pt;\n",
       "            background-color:  #ffffff;\n",
       "            color:  #000000;\n",
       "        }    #T_138dc373_9535_11ea_81ac_00155dc2efd4row14_col5 {\n",
       "            font-size:  6pt;\n",
       "            background-color:  #ffffff;\n",
       "            color:  #000000;\n",
       "        }    #T_138dc373_9535_11ea_81ac_00155dc2efd4row14_col6 {\n",
       "            font-size:  6pt;\n",
       "            background-color:  #ffffff;\n",
       "            color:  #000000;\n",
       "        }    #T_138dc373_9535_11ea_81ac_00155dc2efd4row14_col7 {\n",
       "            font-size:  6pt;\n",
       "            background-color:  #ffffff;\n",
       "            color:  #000000;\n",
       "        }    #T_138dc373_9535_11ea_81ac_00155dc2efd4row14_col8 {\n",
       "            font-size:  6pt;\n",
       "            background-color:  #ffffff;\n",
       "            color:  #000000;\n",
       "        }    #T_138dc373_9535_11ea_81ac_00155dc2efd4row14_col9 {\n",
       "            font-size:  6pt;\n",
       "            background-color:  #ffffff;\n",
       "            color:  #000000;\n",
       "        }    #T_138dc373_9535_11ea_81ac_00155dc2efd4row14_col10 {\n",
       "            font-size:  6pt;\n",
       "            background-color:  #ffffff;\n",
       "            color:  #000000;\n",
       "        }    #T_138dc373_9535_11ea_81ac_00155dc2efd4row14_col11 {\n",
       "            font-size:  6pt;\n",
       "            background-color:  #e4e4e4;\n",
       "            color:  #000000;\n",
       "        }    #T_138dc373_9535_11ea_81ac_00155dc2efd4row14_col12 {\n",
       "            font-size:  6pt;\n",
       "            background-color:  #6c6c6c;\n",
       "            color:  #000000;\n",
       "        }    #T_138dc373_9535_11ea_81ac_00155dc2efd4row14_col13 {\n",
       "            font-size:  6pt;\n",
       "            background-color:  #000000;\n",
       "            color:  #f1f1f1;\n",
       "        }    #T_138dc373_9535_11ea_81ac_00155dc2efd4row14_col14 {\n",
       "            font-size:  6pt;\n",
       "            background-color:  #636363;\n",
       "            color:  #f1f1f1;\n",
       "        }    #T_138dc373_9535_11ea_81ac_00155dc2efd4row14_col15 {\n",
       "            font-size:  6pt;\n",
       "            background-color:  #ffffff;\n",
       "            color:  #000000;\n",
       "        }    #T_138dc373_9535_11ea_81ac_00155dc2efd4row14_col16 {\n",
       "            font-size:  6pt;\n",
       "            background-color:  #ffffff;\n",
       "            color:  #000000;\n",
       "        }    #T_138dc373_9535_11ea_81ac_00155dc2efd4row14_col17 {\n",
       "            font-size:  6pt;\n",
       "            background-color:  #ffffff;\n",
       "            color:  #000000;\n",
       "        }    #T_138dc373_9535_11ea_81ac_00155dc2efd4row14_col18 {\n",
       "            font-size:  6pt;\n",
       "            background-color:  #ffffff;\n",
       "            color:  #000000;\n",
       "        }    #T_138dc373_9535_11ea_81ac_00155dc2efd4row14_col19 {\n",
       "            font-size:  6pt;\n",
       "            background-color:  #ffffff;\n",
       "            color:  #000000;\n",
       "        }    #T_138dc373_9535_11ea_81ac_00155dc2efd4row14_col20 {\n",
       "            font-size:  6pt;\n",
       "            background-color:  #ffffff;\n",
       "            color:  #000000;\n",
       "        }    #T_138dc373_9535_11ea_81ac_00155dc2efd4row15_col0 {\n",
       "            font-size:  6pt;\n",
       "            background-color:  #ffffff;\n",
       "            color:  #000000;\n",
       "        }    #T_138dc373_9535_11ea_81ac_00155dc2efd4row15_col1 {\n",
       "            font-size:  6pt;\n",
       "            background-color:  #000000;\n",
       "            color:  #f1f1f1;\n",
       "        }    #T_138dc373_9535_11ea_81ac_00155dc2efd4row15_col2 {\n",
       "            font-size:  6pt;\n",
       "            background-color:  #000000;\n",
       "            color:  #f1f1f1;\n",
       "        }    #T_138dc373_9535_11ea_81ac_00155dc2efd4row15_col3 {\n",
       "            font-size:  6pt;\n",
       "            background-color:  #212121;\n",
       "            color:  #f1f1f1;\n",
       "        }    #T_138dc373_9535_11ea_81ac_00155dc2efd4row15_col4 {\n",
       "            font-size:  6pt;\n",
       "            background-color:  #ffffff;\n",
       "            color:  #000000;\n",
       "        }    #T_138dc373_9535_11ea_81ac_00155dc2efd4row15_col5 {\n",
       "            font-size:  6pt;\n",
       "            background-color:  #ffffff;\n",
       "            color:  #000000;\n",
       "        }    #T_138dc373_9535_11ea_81ac_00155dc2efd4row15_col6 {\n",
       "            font-size:  6pt;\n",
       "            background-color:  #ffffff;\n",
       "            color:  #000000;\n",
       "        }    #T_138dc373_9535_11ea_81ac_00155dc2efd4row15_col7 {\n",
       "            font-size:  6pt;\n",
       "            background-color:  #ffffff;\n",
       "            color:  #000000;\n",
       "        }    #T_138dc373_9535_11ea_81ac_00155dc2efd4row15_col8 {\n",
       "            font-size:  6pt;\n",
       "            background-color:  #ffffff;\n",
       "            color:  #000000;\n",
       "        }    #T_138dc373_9535_11ea_81ac_00155dc2efd4row15_col9 {\n",
       "            font-size:  6pt;\n",
       "            background-color:  #ffffff;\n",
       "            color:  #000000;\n",
       "        }    #T_138dc373_9535_11ea_81ac_00155dc2efd4row15_col10 {\n",
       "            font-size:  6pt;\n",
       "            background-color:  #a5a5a5;\n",
       "            color:  #000000;\n",
       "        }    #T_138dc373_9535_11ea_81ac_00155dc2efd4row15_col11 {\n",
       "            font-size:  6pt;\n",
       "            background-color:  #111111;\n",
       "            color:  #f1f1f1;\n",
       "        }    #T_138dc373_9535_11ea_81ac_00155dc2efd4row15_col12 {\n",
       "            font-size:  6pt;\n",
       "            background-color:  #000000;\n",
       "            color:  #f1f1f1;\n",
       "        }    #T_138dc373_9535_11ea_81ac_00155dc2efd4row15_col13 {\n",
       "            font-size:  6pt;\n",
       "            background-color:  #6e6e6e;\n",
       "            color:  #000000;\n",
       "        }    #T_138dc373_9535_11ea_81ac_00155dc2efd4row15_col14 {\n",
       "            font-size:  6pt;\n",
       "            background-color:  #ffffff;\n",
       "            color:  #000000;\n",
       "        }    #T_138dc373_9535_11ea_81ac_00155dc2efd4row15_col15 {\n",
       "            font-size:  6pt;\n",
       "            background-color:  #ffffff;\n",
       "            color:  #000000;\n",
       "        }    #T_138dc373_9535_11ea_81ac_00155dc2efd4row15_col16 {\n",
       "            font-size:  6pt;\n",
       "            background-color:  #ffffff;\n",
       "            color:  #000000;\n",
       "        }    #T_138dc373_9535_11ea_81ac_00155dc2efd4row15_col17 {\n",
       "            font-size:  6pt;\n",
       "            background-color:  #ffffff;\n",
       "            color:  #000000;\n",
       "        }    #T_138dc373_9535_11ea_81ac_00155dc2efd4row15_col18 {\n",
       "            font-size:  6pt;\n",
       "            background-color:  #ffffff;\n",
       "            color:  #000000;\n",
       "        }    #T_138dc373_9535_11ea_81ac_00155dc2efd4row15_col19 {\n",
       "            font-size:  6pt;\n",
       "            background-color:  #ffffff;\n",
       "            color:  #000000;\n",
       "        }    #T_138dc373_9535_11ea_81ac_00155dc2efd4row15_col20 {\n",
       "            font-size:  6pt;\n",
       "            background-color:  #ffffff;\n",
       "            color:  #000000;\n",
       "        }    #T_138dc373_9535_11ea_81ac_00155dc2efd4row16_col0 {\n",
       "            font-size:  6pt;\n",
       "            background-color:  #ffffff;\n",
       "            color:  #000000;\n",
       "        }    #T_138dc373_9535_11ea_81ac_00155dc2efd4row16_col1 {\n",
       "            font-size:  6pt;\n",
       "            background-color:  #020202;\n",
       "            color:  #f1f1f1;\n",
       "        }    #T_138dc373_9535_11ea_81ac_00155dc2efd4row16_col2 {\n",
       "            font-size:  6pt;\n",
       "            background-color:  #010101;\n",
       "            color:  #f1f1f1;\n",
       "        }    #T_138dc373_9535_11ea_81ac_00155dc2efd4row16_col3 {\n",
       "            font-size:  6pt;\n",
       "            background-color:  #050505;\n",
       "            color:  #f1f1f1;\n",
       "        }    #T_138dc373_9535_11ea_81ac_00155dc2efd4row16_col4 {\n",
       "            font-size:  6pt;\n",
       "            background-color:  #7f7f7f;\n",
       "            color:  #000000;\n",
       "        }    #T_138dc373_9535_11ea_81ac_00155dc2efd4row16_col5 {\n",
       "            font-size:  6pt;\n",
       "            background-color:  #e4e4e4;\n",
       "            color:  #000000;\n",
       "        }    #T_138dc373_9535_11ea_81ac_00155dc2efd4row16_col6 {\n",
       "            font-size:  6pt;\n",
       "            background-color:  #f1f1f1;\n",
       "            color:  #000000;\n",
       "        }    #T_138dc373_9535_11ea_81ac_00155dc2efd4row16_col7 {\n",
       "            font-size:  6pt;\n",
       "            background-color:  #c5c5c5;\n",
       "            color:  #000000;\n",
       "        }    #T_138dc373_9535_11ea_81ac_00155dc2efd4row16_col8 {\n",
       "            font-size:  6pt;\n",
       "            background-color:  #5e5e5e;\n",
       "            color:  #f1f1f1;\n",
       "        }    #T_138dc373_9535_11ea_81ac_00155dc2efd4row16_col9 {\n",
       "            font-size:  6pt;\n",
       "            background-color:  #1f1f1f;\n",
       "            color:  #f1f1f1;\n",
       "        }    #T_138dc373_9535_11ea_81ac_00155dc2efd4row16_col10 {\n",
       "            font-size:  6pt;\n",
       "            background-color:  #000000;\n",
       "            color:  #f1f1f1;\n",
       "        }    #T_138dc373_9535_11ea_81ac_00155dc2efd4row16_col11 {\n",
       "            font-size:  6pt;\n",
       "            background-color:  #232323;\n",
       "            color:  #f1f1f1;\n",
       "        }    #T_138dc373_9535_11ea_81ac_00155dc2efd4row16_col12 {\n",
       "            font-size:  6pt;\n",
       "            background-color:  #6a6a6a;\n",
       "            color:  #000000;\n",
       "        }    #T_138dc373_9535_11ea_81ac_00155dc2efd4row16_col13 {\n",
       "            font-size:  6pt;\n",
       "            background-color:  #dfdfdf;\n",
       "            color:  #000000;\n",
       "        }    #T_138dc373_9535_11ea_81ac_00155dc2efd4row16_col14 {\n",
       "            font-size:  6pt;\n",
       "            background-color:  #ffffff;\n",
       "            color:  #000000;\n",
       "        }    #T_138dc373_9535_11ea_81ac_00155dc2efd4row16_col15 {\n",
       "            font-size:  6pt;\n",
       "            background-color:  #ffffff;\n",
       "            color:  #000000;\n",
       "        }    #T_138dc373_9535_11ea_81ac_00155dc2efd4row16_col16 {\n",
       "            font-size:  6pt;\n",
       "            background-color:  #ffffff;\n",
       "            color:  #000000;\n",
       "        }    #T_138dc373_9535_11ea_81ac_00155dc2efd4row16_col17 {\n",
       "            font-size:  6pt;\n",
       "            background-color:  #ffffff;\n",
       "            color:  #000000;\n",
       "        }    #T_138dc373_9535_11ea_81ac_00155dc2efd4row16_col18 {\n",
       "            font-size:  6pt;\n",
       "            background-color:  #ffffff;\n",
       "            color:  #000000;\n",
       "        }    #T_138dc373_9535_11ea_81ac_00155dc2efd4row16_col19 {\n",
       "            font-size:  6pt;\n",
       "            background-color:  #ffffff;\n",
       "            color:  #000000;\n",
       "        }    #T_138dc373_9535_11ea_81ac_00155dc2efd4row16_col20 {\n",
       "            font-size:  6pt;\n",
       "            background-color:  #ffffff;\n",
       "            color:  #000000;\n",
       "        }    #T_138dc373_9535_11ea_81ac_00155dc2efd4row17_col0 {\n",
       "            font-size:  6pt;\n",
       "            background-color:  #ffffff;\n",
       "            color:  #000000;\n",
       "        }    #T_138dc373_9535_11ea_81ac_00155dc2efd4row17_col1 {\n",
       "            font-size:  6pt;\n",
       "            background-color:  #020202;\n",
       "            color:  #f1f1f1;\n",
       "        }    #T_138dc373_9535_11ea_81ac_00155dc2efd4row17_col2 {\n",
       "            font-size:  6pt;\n",
       "            background-color:  #010101;\n",
       "            color:  #f1f1f1;\n",
       "        }    #T_138dc373_9535_11ea_81ac_00155dc2efd4row17_col3 {\n",
       "            font-size:  6pt;\n",
       "            background-color:  #010101;\n",
       "            color:  #f1f1f1;\n",
       "        }    #T_138dc373_9535_11ea_81ac_00155dc2efd4row17_col4 {\n",
       "            font-size:  6pt;\n",
       "            background-color:  #000000;\n",
       "            color:  #f1f1f1;\n",
       "        }    #T_138dc373_9535_11ea_81ac_00155dc2efd4row17_col5 {\n",
       "            font-size:  6pt;\n",
       "            background-color:  #1c1c1c;\n",
       "            color:  #f1f1f1;\n",
       "        }    #T_138dc373_9535_11ea_81ac_00155dc2efd4row17_col6 {\n",
       "            font-size:  6pt;\n",
       "            background-color:  #2c2c2c;\n",
       "            color:  #f1f1f1;\n",
       "        }    #T_138dc373_9535_11ea_81ac_00155dc2efd4row17_col7 {\n",
       "            font-size:  6pt;\n",
       "            background-color:  #010101;\n",
       "            color:  #f1f1f1;\n",
       "        }    #T_138dc373_9535_11ea_81ac_00155dc2efd4row17_col8 {\n",
       "            font-size:  6pt;\n",
       "            background-color:  #010101;\n",
       "            color:  #f1f1f1;\n",
       "        }    #T_138dc373_9535_11ea_81ac_00155dc2efd4row17_col9 {\n",
       "            font-size:  6pt;\n",
       "            background-color:  #000000;\n",
       "            color:  #f1f1f1;\n",
       "        }    #T_138dc373_9535_11ea_81ac_00155dc2efd4row17_col10 {\n",
       "            font-size:  6pt;\n",
       "            background-color:  #484848;\n",
       "            color:  #f1f1f1;\n",
       "        }    #T_138dc373_9535_11ea_81ac_00155dc2efd4row17_col11 {\n",
       "            font-size:  6pt;\n",
       "            background-color:  #929292;\n",
       "            color:  #000000;\n",
       "        }    #T_138dc373_9535_11ea_81ac_00155dc2efd4row17_col12 {\n",
       "            font-size:  6pt;\n",
       "            background-color:  #ffffff;\n",
       "            color:  #000000;\n",
       "        }    #T_138dc373_9535_11ea_81ac_00155dc2efd4row17_col13 {\n",
       "            font-size:  6pt;\n",
       "            background-color:  #ffffff;\n",
       "            color:  #000000;\n",
       "        }    #T_138dc373_9535_11ea_81ac_00155dc2efd4row17_col14 {\n",
       "            font-size:  6pt;\n",
       "            background-color:  #ffffff;\n",
       "            color:  #000000;\n",
       "        }    #T_138dc373_9535_11ea_81ac_00155dc2efd4row17_col15 {\n",
       "            font-size:  6pt;\n",
       "            background-color:  #ffffff;\n",
       "            color:  #000000;\n",
       "        }    #T_138dc373_9535_11ea_81ac_00155dc2efd4row17_col16 {\n",
       "            font-size:  6pt;\n",
       "            background-color:  #ffffff;\n",
       "            color:  #000000;\n",
       "        }    #T_138dc373_9535_11ea_81ac_00155dc2efd4row17_col17 {\n",
       "            font-size:  6pt;\n",
       "            background-color:  #ffffff;\n",
       "            color:  #000000;\n",
       "        }    #T_138dc373_9535_11ea_81ac_00155dc2efd4row17_col18 {\n",
       "            font-size:  6pt;\n",
       "            background-color:  #ffffff;\n",
       "            color:  #000000;\n",
       "        }    #T_138dc373_9535_11ea_81ac_00155dc2efd4row17_col19 {\n",
       "            font-size:  6pt;\n",
       "            background-color:  #ffffff;\n",
       "            color:  #000000;\n",
       "        }    #T_138dc373_9535_11ea_81ac_00155dc2efd4row17_col20 {\n",
       "            font-size:  6pt;\n",
       "            background-color:  #ffffff;\n",
       "            color:  #000000;\n",
       "        }    #T_138dc373_9535_11ea_81ac_00155dc2efd4row18_col0 {\n",
       "            font-size:  6pt;\n",
       "            background-color:  #ffffff;\n",
       "            color:  #000000;\n",
       "        }    #T_138dc373_9535_11ea_81ac_00155dc2efd4row18_col1 {\n",
       "            font-size:  6pt;\n",
       "            background-color:  #c8c8c8;\n",
       "            color:  #000000;\n",
       "        }    #T_138dc373_9535_11ea_81ac_00155dc2efd4row18_col2 {\n",
       "            font-size:  6pt;\n",
       "            background-color:  #444444;\n",
       "            color:  #f1f1f1;\n",
       "        }    #T_138dc373_9535_11ea_81ac_00155dc2efd4row18_col3 {\n",
       "            font-size:  6pt;\n",
       "            background-color:  #010101;\n",
       "            color:  #f1f1f1;\n",
       "        }    #T_138dc373_9535_11ea_81ac_00155dc2efd4row18_col4 {\n",
       "            font-size:  6pt;\n",
       "            background-color:  #000000;\n",
       "            color:  #f1f1f1;\n",
       "        }    #T_138dc373_9535_11ea_81ac_00155dc2efd4row18_col5 {\n",
       "            font-size:  6pt;\n",
       "            background-color:  #000000;\n",
       "            color:  #f1f1f1;\n",
       "        }    #T_138dc373_9535_11ea_81ac_00155dc2efd4row18_col6 {\n",
       "            font-size:  6pt;\n",
       "            background-color:  #000000;\n",
       "            color:  #f1f1f1;\n",
       "        }    #T_138dc373_9535_11ea_81ac_00155dc2efd4row18_col7 {\n",
       "            font-size:  6pt;\n",
       "            background-color:  #010101;\n",
       "            color:  #f1f1f1;\n",
       "        }    #T_138dc373_9535_11ea_81ac_00155dc2efd4row18_col8 {\n",
       "            font-size:  6pt;\n",
       "            background-color:  #171717;\n",
       "            color:  #f1f1f1;\n",
       "        }    #T_138dc373_9535_11ea_81ac_00155dc2efd4row18_col9 {\n",
       "            font-size:  6pt;\n",
       "            background-color:  #818181;\n",
       "            color:  #000000;\n",
       "        }    #T_138dc373_9535_11ea_81ac_00155dc2efd4row18_col10 {\n",
       "            font-size:  6pt;\n",
       "            background-color:  #ffffff;\n",
       "            color:  #000000;\n",
       "        }    #T_138dc373_9535_11ea_81ac_00155dc2efd4row18_col11 {\n",
       "            font-size:  6pt;\n",
       "            background-color:  #ffffff;\n",
       "            color:  #000000;\n",
       "        }    #T_138dc373_9535_11ea_81ac_00155dc2efd4row18_col12 {\n",
       "            font-size:  6pt;\n",
       "            background-color:  #ffffff;\n",
       "            color:  #000000;\n",
       "        }    #T_138dc373_9535_11ea_81ac_00155dc2efd4row18_col13 {\n",
       "            font-size:  6pt;\n",
       "            background-color:  #ffffff;\n",
       "            color:  #000000;\n",
       "        }    #T_138dc373_9535_11ea_81ac_00155dc2efd4row18_col14 {\n",
       "            font-size:  6pt;\n",
       "            background-color:  #ffffff;\n",
       "            color:  #000000;\n",
       "        }    #T_138dc373_9535_11ea_81ac_00155dc2efd4row18_col15 {\n",
       "            font-size:  6pt;\n",
       "            background-color:  #ffffff;\n",
       "            color:  #000000;\n",
       "        }    #T_138dc373_9535_11ea_81ac_00155dc2efd4row18_col16 {\n",
       "            font-size:  6pt;\n",
       "            background-color:  #ffffff;\n",
       "            color:  #000000;\n",
       "        }    #T_138dc373_9535_11ea_81ac_00155dc2efd4row18_col17 {\n",
       "            font-size:  6pt;\n",
       "            background-color:  #ffffff;\n",
       "            color:  #000000;\n",
       "        }    #T_138dc373_9535_11ea_81ac_00155dc2efd4row18_col18 {\n",
       "            font-size:  6pt;\n",
       "            background-color:  #ffffff;\n",
       "            color:  #000000;\n",
       "        }    #T_138dc373_9535_11ea_81ac_00155dc2efd4row18_col19 {\n",
       "            font-size:  6pt;\n",
       "            background-color:  #ffffff;\n",
       "            color:  #000000;\n",
       "        }    #T_138dc373_9535_11ea_81ac_00155dc2efd4row18_col20 {\n",
       "            font-size:  6pt;\n",
       "            background-color:  #ffffff;\n",
       "            color:  #000000;\n",
       "        }    #T_138dc373_9535_11ea_81ac_00155dc2efd4row19_col0 {\n",
       "            font-size:  6pt;\n",
       "            background-color:  #ffffff;\n",
       "            color:  #000000;\n",
       "        }    #T_138dc373_9535_11ea_81ac_00155dc2efd4row19_col1 {\n",
       "            font-size:  6pt;\n",
       "            background-color:  #ffffff;\n",
       "            color:  #000000;\n",
       "        }    #T_138dc373_9535_11ea_81ac_00155dc2efd4row19_col2 {\n",
       "            font-size:  6pt;\n",
       "            background-color:  #f3f3f3;\n",
       "            color:  #000000;\n",
       "        }    #T_138dc373_9535_11ea_81ac_00155dc2efd4row19_col3 {\n",
       "            font-size:  6pt;\n",
       "            background-color:  #949494;\n",
       "            color:  #000000;\n",
       "        }    #T_138dc373_9535_11ea_81ac_00155dc2efd4row19_col4 {\n",
       "            font-size:  6pt;\n",
       "            background-color:  #000000;\n",
       "            color:  #f1f1f1;\n",
       "        }    #T_138dc373_9535_11ea_81ac_00155dc2efd4row19_col5 {\n",
       "            font-size:  6pt;\n",
       "            background-color:  #000000;\n",
       "            color:  #f1f1f1;\n",
       "        }    #T_138dc373_9535_11ea_81ac_00155dc2efd4row19_col6 {\n",
       "            font-size:  6pt;\n",
       "            background-color:  #000000;\n",
       "            color:  #f1f1f1;\n",
       "        }    #T_138dc373_9535_11ea_81ac_00155dc2efd4row19_col7 {\n",
       "            font-size:  6pt;\n",
       "            background-color:  #868686;\n",
       "            color:  #000000;\n",
       "        }    #T_138dc373_9535_11ea_81ac_00155dc2efd4row19_col8 {\n",
       "            font-size:  6pt;\n",
       "            background-color:  #ececec;\n",
       "            color:  #000000;\n",
       "        }    #T_138dc373_9535_11ea_81ac_00155dc2efd4row19_col9 {\n",
       "            font-size:  6pt;\n",
       "            background-color:  #ffffff;\n",
       "            color:  #000000;\n",
       "        }    #T_138dc373_9535_11ea_81ac_00155dc2efd4row19_col10 {\n",
       "            font-size:  6pt;\n",
       "            background-color:  #ffffff;\n",
       "            color:  #000000;\n",
       "        }    #T_138dc373_9535_11ea_81ac_00155dc2efd4row19_col11 {\n",
       "            font-size:  6pt;\n",
       "            background-color:  #ffffff;\n",
       "            color:  #000000;\n",
       "        }    #T_138dc373_9535_11ea_81ac_00155dc2efd4row19_col12 {\n",
       "            font-size:  6pt;\n",
       "            background-color:  #ffffff;\n",
       "            color:  #000000;\n",
       "        }    #T_138dc373_9535_11ea_81ac_00155dc2efd4row19_col13 {\n",
       "            font-size:  6pt;\n",
       "            background-color:  #ffffff;\n",
       "            color:  #000000;\n",
       "        }    #T_138dc373_9535_11ea_81ac_00155dc2efd4row19_col14 {\n",
       "            font-size:  6pt;\n",
       "            background-color:  #ffffff;\n",
       "            color:  #000000;\n",
       "        }    #T_138dc373_9535_11ea_81ac_00155dc2efd4row19_col15 {\n",
       "            font-size:  6pt;\n",
       "            background-color:  #ffffff;\n",
       "            color:  #000000;\n",
       "        }    #T_138dc373_9535_11ea_81ac_00155dc2efd4row19_col16 {\n",
       "            font-size:  6pt;\n",
       "            background-color:  #ffffff;\n",
       "            color:  #000000;\n",
       "        }    #T_138dc373_9535_11ea_81ac_00155dc2efd4row19_col17 {\n",
       "            font-size:  6pt;\n",
       "            background-color:  #ffffff;\n",
       "            color:  #000000;\n",
       "        }    #T_138dc373_9535_11ea_81ac_00155dc2efd4row19_col18 {\n",
       "            font-size:  6pt;\n",
       "            background-color:  #ffffff;\n",
       "            color:  #000000;\n",
       "        }    #T_138dc373_9535_11ea_81ac_00155dc2efd4row19_col19 {\n",
       "            font-size:  6pt;\n",
       "            background-color:  #ffffff;\n",
       "            color:  #000000;\n",
       "        }    #T_138dc373_9535_11ea_81ac_00155dc2efd4row19_col20 {\n",
       "            font-size:  6pt;\n",
       "            background-color:  #ffffff;\n",
       "            color:  #000000;\n",
       "        }    #T_138dc373_9535_11ea_81ac_00155dc2efd4row20_col0 {\n",
       "            font-size:  6pt;\n",
       "            background-color:  #ffffff;\n",
       "            color:  #000000;\n",
       "        }    #T_138dc373_9535_11ea_81ac_00155dc2efd4row20_col1 {\n",
       "            font-size:  6pt;\n",
       "            background-color:  #ffffff;\n",
       "            color:  #000000;\n",
       "        }    #T_138dc373_9535_11ea_81ac_00155dc2efd4row20_col2 {\n",
       "            font-size:  6pt;\n",
       "            background-color:  #ffffff;\n",
       "            color:  #000000;\n",
       "        }    #T_138dc373_9535_11ea_81ac_00155dc2efd4row20_col3 {\n",
       "            font-size:  6pt;\n",
       "            background-color:  #ffffff;\n",
       "            color:  #000000;\n",
       "        }    #T_138dc373_9535_11ea_81ac_00155dc2efd4row20_col4 {\n",
       "            font-size:  6pt;\n",
       "            background-color:  #ffffff;\n",
       "            color:  #000000;\n",
       "        }    #T_138dc373_9535_11ea_81ac_00155dc2efd4row20_col5 {\n",
       "            font-size:  6pt;\n",
       "            background-color:  #ffffff;\n",
       "            color:  #000000;\n",
       "        }    #T_138dc373_9535_11ea_81ac_00155dc2efd4row20_col6 {\n",
       "            font-size:  6pt;\n",
       "            background-color:  #ffffff;\n",
       "            color:  #000000;\n",
       "        }    #T_138dc373_9535_11ea_81ac_00155dc2efd4row20_col7 {\n",
       "            font-size:  6pt;\n",
       "            background-color:  #ffffff;\n",
       "            color:  #000000;\n",
       "        }    #T_138dc373_9535_11ea_81ac_00155dc2efd4row20_col8 {\n",
       "            font-size:  6pt;\n",
       "            background-color:  #ffffff;\n",
       "            color:  #000000;\n",
       "        }    #T_138dc373_9535_11ea_81ac_00155dc2efd4row20_col9 {\n",
       "            font-size:  6pt;\n",
       "            background-color:  #ffffff;\n",
       "            color:  #000000;\n",
       "        }    #T_138dc373_9535_11ea_81ac_00155dc2efd4row20_col10 {\n",
       "            font-size:  6pt;\n",
       "            background-color:  #ffffff;\n",
       "            color:  #000000;\n",
       "        }    #T_138dc373_9535_11ea_81ac_00155dc2efd4row20_col11 {\n",
       "            font-size:  6pt;\n",
       "            background-color:  #ffffff;\n",
       "            color:  #000000;\n",
       "        }    #T_138dc373_9535_11ea_81ac_00155dc2efd4row20_col12 {\n",
       "            font-size:  6pt;\n",
       "            background-color:  #ffffff;\n",
       "            color:  #000000;\n",
       "        }    #T_138dc373_9535_11ea_81ac_00155dc2efd4row20_col13 {\n",
       "            font-size:  6pt;\n",
       "            background-color:  #ffffff;\n",
       "            color:  #000000;\n",
       "        }    #T_138dc373_9535_11ea_81ac_00155dc2efd4row20_col14 {\n",
       "            font-size:  6pt;\n",
       "            background-color:  #ffffff;\n",
       "            color:  #000000;\n",
       "        }    #T_138dc373_9535_11ea_81ac_00155dc2efd4row20_col15 {\n",
       "            font-size:  6pt;\n",
       "            background-color:  #ffffff;\n",
       "            color:  #000000;\n",
       "        }    #T_138dc373_9535_11ea_81ac_00155dc2efd4row20_col16 {\n",
       "            font-size:  6pt;\n",
       "            background-color:  #ffffff;\n",
       "            color:  #000000;\n",
       "        }    #T_138dc373_9535_11ea_81ac_00155dc2efd4row20_col17 {\n",
       "            font-size:  6pt;\n",
       "            background-color:  #ffffff;\n",
       "            color:  #000000;\n",
       "        }    #T_138dc373_9535_11ea_81ac_00155dc2efd4row20_col18 {\n",
       "            font-size:  6pt;\n",
       "            background-color:  #ffffff;\n",
       "            color:  #000000;\n",
       "        }    #T_138dc373_9535_11ea_81ac_00155dc2efd4row20_col19 {\n",
       "            font-size:  6pt;\n",
       "            background-color:  #ffffff;\n",
       "            color:  #000000;\n",
       "        }    #T_138dc373_9535_11ea_81ac_00155dc2efd4row20_col20 {\n",
       "            font-size:  6pt;\n",
       "            background-color:  #ffffff;\n",
       "            color:  #000000;\n",
       "        }    #T_138dc373_9535_11ea_81ac_00155dc2efd4row21_col0 {\n",
       "            font-size:  6pt;\n",
       "            background-color:  #ffffff;\n",
       "            color:  #000000;\n",
       "        }    #T_138dc373_9535_11ea_81ac_00155dc2efd4row21_col1 {\n",
       "            font-size:  6pt;\n",
       "            background-color:  #ffffff;\n",
       "            color:  #000000;\n",
       "        }    #T_138dc373_9535_11ea_81ac_00155dc2efd4row21_col2 {\n",
       "            font-size:  6pt;\n",
       "            background-color:  #ffffff;\n",
       "            color:  #000000;\n",
       "        }    #T_138dc373_9535_11ea_81ac_00155dc2efd4row21_col3 {\n",
       "            font-size:  6pt;\n",
       "            background-color:  #ffffff;\n",
       "            color:  #000000;\n",
       "        }    #T_138dc373_9535_11ea_81ac_00155dc2efd4row21_col4 {\n",
       "            font-size:  6pt;\n",
       "            background-color:  #ffffff;\n",
       "            color:  #000000;\n",
       "        }    #T_138dc373_9535_11ea_81ac_00155dc2efd4row21_col5 {\n",
       "            font-size:  6pt;\n",
       "            background-color:  #ffffff;\n",
       "            color:  #000000;\n",
       "        }    #T_138dc373_9535_11ea_81ac_00155dc2efd4row21_col6 {\n",
       "            font-size:  6pt;\n",
       "            background-color:  #ffffff;\n",
       "            color:  #000000;\n",
       "        }    #T_138dc373_9535_11ea_81ac_00155dc2efd4row21_col7 {\n",
       "            font-size:  6pt;\n",
       "            background-color:  #ffffff;\n",
       "            color:  #000000;\n",
       "        }    #T_138dc373_9535_11ea_81ac_00155dc2efd4row21_col8 {\n",
       "            font-size:  6pt;\n",
       "            background-color:  #ffffff;\n",
       "            color:  #000000;\n",
       "        }    #T_138dc373_9535_11ea_81ac_00155dc2efd4row21_col9 {\n",
       "            font-size:  6pt;\n",
       "            background-color:  #ffffff;\n",
       "            color:  #000000;\n",
       "        }    #T_138dc373_9535_11ea_81ac_00155dc2efd4row21_col10 {\n",
       "            font-size:  6pt;\n",
       "            background-color:  #ffffff;\n",
       "            color:  #000000;\n",
       "        }    #T_138dc373_9535_11ea_81ac_00155dc2efd4row21_col11 {\n",
       "            font-size:  6pt;\n",
       "            background-color:  #ffffff;\n",
       "            color:  #000000;\n",
       "        }    #T_138dc373_9535_11ea_81ac_00155dc2efd4row21_col12 {\n",
       "            font-size:  6pt;\n",
       "            background-color:  #ffffff;\n",
       "            color:  #000000;\n",
       "        }    #T_138dc373_9535_11ea_81ac_00155dc2efd4row21_col13 {\n",
       "            font-size:  6pt;\n",
       "            background-color:  #ffffff;\n",
       "            color:  #000000;\n",
       "        }    #T_138dc373_9535_11ea_81ac_00155dc2efd4row21_col14 {\n",
       "            font-size:  6pt;\n",
       "            background-color:  #ffffff;\n",
       "            color:  #000000;\n",
       "        }    #T_138dc373_9535_11ea_81ac_00155dc2efd4row21_col15 {\n",
       "            font-size:  6pt;\n",
       "            background-color:  #ffffff;\n",
       "            color:  #000000;\n",
       "        }    #T_138dc373_9535_11ea_81ac_00155dc2efd4row21_col16 {\n",
       "            font-size:  6pt;\n",
       "            background-color:  #ffffff;\n",
       "            color:  #000000;\n",
       "        }    #T_138dc373_9535_11ea_81ac_00155dc2efd4row21_col17 {\n",
       "            font-size:  6pt;\n",
       "            background-color:  #ffffff;\n",
       "            color:  #000000;\n",
       "        }    #T_138dc373_9535_11ea_81ac_00155dc2efd4row21_col18 {\n",
       "            font-size:  6pt;\n",
       "            background-color:  #ffffff;\n",
       "            color:  #000000;\n",
       "        }    #T_138dc373_9535_11ea_81ac_00155dc2efd4row21_col19 {\n",
       "            font-size:  6pt;\n",
       "            background-color:  #ffffff;\n",
       "            color:  #000000;\n",
       "        }    #T_138dc373_9535_11ea_81ac_00155dc2efd4row21_col20 {\n",
       "            font-size:  6pt;\n",
       "            background-color:  #ffffff;\n",
       "            color:  #000000;\n",
       "        }</style><table id=\"T_138dc373_9535_11ea_81ac_00155dc2efd4\" ><thead>    <tr>        <th class=\"blank level0\" ></th>        <th class=\"col_heading level0 col0\" >0</th>        <th class=\"col_heading level0 col1\" >1</th>        <th class=\"col_heading level0 col2\" >2</th>        <th class=\"col_heading level0 col3\" >3</th>        <th class=\"col_heading level0 col4\" >4</th>        <th class=\"col_heading level0 col5\" >5</th>        <th class=\"col_heading level0 col6\" >6</th>        <th class=\"col_heading level0 col7\" >7</th>        <th class=\"col_heading level0 col8\" >8</th>        <th class=\"col_heading level0 col9\" >9</th>        <th class=\"col_heading level0 col10\" >10</th>        <th class=\"col_heading level0 col11\" >11</th>        <th class=\"col_heading level0 col12\" >12</th>        <th class=\"col_heading level0 col13\" >13</th>        <th class=\"col_heading level0 col14\" >14</th>        <th class=\"col_heading level0 col15\" >15</th>        <th class=\"col_heading level0 col16\" >16</th>        <th class=\"col_heading level0 col17\" >17</th>        <th class=\"col_heading level0 col18\" >18</th>        <th class=\"col_heading level0 col19\" >19</th>        <th class=\"col_heading level0 col20\" >20</th>    </tr></thead><tbody>\n",
       "                <tr>\n",
       "                        <th id=\"T_138dc373_9535_11ea_81ac_00155dc2efd4level0_row0\" class=\"row_heading level0 row0\" >0</th>\n",
       "                        <td id=\"T_138dc373_9535_11ea_81ac_00155dc2efd4row0_col0\" class=\"data row0 col0\" >0.000000</td>\n",
       "                        <td id=\"T_138dc373_9535_11ea_81ac_00155dc2efd4row0_col1\" class=\"data row0 col1\" >0.000000</td>\n",
       "                        <td id=\"T_138dc373_9535_11ea_81ac_00155dc2efd4row0_col2\" class=\"data row0 col2\" >0.000000</td>\n",
       "                        <td id=\"T_138dc373_9535_11ea_81ac_00155dc2efd4row0_col3\" class=\"data row0 col3\" >0.000000</td>\n",
       "                        <td id=\"T_138dc373_9535_11ea_81ac_00155dc2efd4row0_col4\" class=\"data row0 col4\" >0.000000</td>\n",
       "                        <td id=\"T_138dc373_9535_11ea_81ac_00155dc2efd4row0_col5\" class=\"data row0 col5\" >0.000000</td>\n",
       "                        <td id=\"T_138dc373_9535_11ea_81ac_00155dc2efd4row0_col6\" class=\"data row0 col6\" >0.000000</td>\n",
       "                        <td id=\"T_138dc373_9535_11ea_81ac_00155dc2efd4row0_col7\" class=\"data row0 col7\" >0.000000</td>\n",
       "                        <td id=\"T_138dc373_9535_11ea_81ac_00155dc2efd4row0_col8\" class=\"data row0 col8\" >0.000000</td>\n",
       "                        <td id=\"T_138dc373_9535_11ea_81ac_00155dc2efd4row0_col9\" class=\"data row0 col9\" >0.000000</td>\n",
       "                        <td id=\"T_138dc373_9535_11ea_81ac_00155dc2efd4row0_col10\" class=\"data row0 col10\" >0.199219</td>\n",
       "                        <td id=\"T_138dc373_9535_11ea_81ac_00155dc2efd4row0_col11\" class=\"data row0 col11\" >0.621094</td>\n",
       "                        <td id=\"T_138dc373_9535_11ea_81ac_00155dc2efd4row0_col12\" class=\"data row0 col12\" >0.988281</td>\n",
       "                        <td id=\"T_138dc373_9535_11ea_81ac_00155dc2efd4row0_col13\" class=\"data row0 col13\" >0.621094</td>\n",
       "                        <td id=\"T_138dc373_9535_11ea_81ac_00155dc2efd4row0_col14\" class=\"data row0 col14\" >0.195312</td>\n",
       "                        <td id=\"T_138dc373_9535_11ea_81ac_00155dc2efd4row0_col15\" class=\"data row0 col15\" >0.000000</td>\n",
       "                        <td id=\"T_138dc373_9535_11ea_81ac_00155dc2efd4row0_col16\" class=\"data row0 col16\" >0.000000</td>\n",
       "                        <td id=\"T_138dc373_9535_11ea_81ac_00155dc2efd4row0_col17\" class=\"data row0 col17\" >0.000000</td>\n",
       "                        <td id=\"T_138dc373_9535_11ea_81ac_00155dc2efd4row0_col18\" class=\"data row0 col18\" >0.000000</td>\n",
       "                        <td id=\"T_138dc373_9535_11ea_81ac_00155dc2efd4row0_col19\" class=\"data row0 col19\" >0.000000</td>\n",
       "                        <td id=\"T_138dc373_9535_11ea_81ac_00155dc2efd4row0_col20\" class=\"data row0 col20\" >0.000000</td>\n",
       "            </tr>\n",
       "            <tr>\n",
       "                        <th id=\"T_138dc373_9535_11ea_81ac_00155dc2efd4level0_row1\" class=\"row_heading level0 row1\" >1</th>\n",
       "                        <td id=\"T_138dc373_9535_11ea_81ac_00155dc2efd4row1_col0\" class=\"data row1 col0\" >0.000000</td>\n",
       "                        <td id=\"T_138dc373_9535_11ea_81ac_00155dc2efd4row1_col1\" class=\"data row1 col1\" >0.000000</td>\n",
       "                        <td id=\"T_138dc373_9535_11ea_81ac_00155dc2efd4row1_col2\" class=\"data row1 col2\" >0.000000</td>\n",
       "                        <td id=\"T_138dc373_9535_11ea_81ac_00155dc2efd4row1_col3\" class=\"data row1 col3\" >0.000000</td>\n",
       "                        <td id=\"T_138dc373_9535_11ea_81ac_00155dc2efd4row1_col4\" class=\"data row1 col4\" >0.000000</td>\n",
       "                        <td id=\"T_138dc373_9535_11ea_81ac_00155dc2efd4row1_col5\" class=\"data row1 col5\" >0.000000</td>\n",
       "                        <td id=\"T_138dc373_9535_11ea_81ac_00155dc2efd4row1_col6\" class=\"data row1 col6\" >0.000000</td>\n",
       "                        <td id=\"T_138dc373_9535_11ea_81ac_00155dc2efd4row1_col7\" class=\"data row1 col7\" >0.000000</td>\n",
       "                        <td id=\"T_138dc373_9535_11ea_81ac_00155dc2efd4row1_col8\" class=\"data row1 col8\" >0.000000</td>\n",
       "                        <td id=\"T_138dc373_9535_11ea_81ac_00155dc2efd4row1_col9\" class=\"data row1 col9\" >0.187500</td>\n",
       "                        <td id=\"T_138dc373_9535_11ea_81ac_00155dc2efd4row1_col10\" class=\"data row1 col10\" >0.929688</td>\n",
       "                        <td id=\"T_138dc373_9535_11ea_81ac_00155dc2efd4row1_col11\" class=\"data row1 col11\" >0.984375</td>\n",
       "                        <td id=\"T_138dc373_9535_11ea_81ac_00155dc2efd4row1_col12\" class=\"data row1 col12\" >0.984375</td>\n",
       "                        <td id=\"T_138dc373_9535_11ea_81ac_00155dc2efd4row1_col13\" class=\"data row1 col13\" >0.984375</td>\n",
       "                        <td id=\"T_138dc373_9535_11ea_81ac_00155dc2efd4row1_col14\" class=\"data row1 col14\" >0.925781</td>\n",
       "                        <td id=\"T_138dc373_9535_11ea_81ac_00155dc2efd4row1_col15\" class=\"data row1 col15\" >0.000000</td>\n",
       "                        <td id=\"T_138dc373_9535_11ea_81ac_00155dc2efd4row1_col16\" class=\"data row1 col16\" >0.000000</td>\n",
       "                        <td id=\"T_138dc373_9535_11ea_81ac_00155dc2efd4row1_col17\" class=\"data row1 col17\" >0.000000</td>\n",
       "                        <td id=\"T_138dc373_9535_11ea_81ac_00155dc2efd4row1_col18\" class=\"data row1 col18\" >0.000000</td>\n",
       "                        <td id=\"T_138dc373_9535_11ea_81ac_00155dc2efd4row1_col19\" class=\"data row1 col19\" >0.000000</td>\n",
       "                        <td id=\"T_138dc373_9535_11ea_81ac_00155dc2efd4row1_col20\" class=\"data row1 col20\" >0.000000</td>\n",
       "            </tr>\n",
       "            <tr>\n",
       "                        <th id=\"T_138dc373_9535_11ea_81ac_00155dc2efd4level0_row2\" class=\"row_heading level0 row2\" >2</th>\n",
       "                        <td id=\"T_138dc373_9535_11ea_81ac_00155dc2efd4row2_col0\" class=\"data row2 col0\" >0.000000</td>\n",
       "                        <td id=\"T_138dc373_9535_11ea_81ac_00155dc2efd4row2_col1\" class=\"data row2 col1\" >0.000000</td>\n",
       "                        <td id=\"T_138dc373_9535_11ea_81ac_00155dc2efd4row2_col2\" class=\"data row2 col2\" >0.000000</td>\n",
       "                        <td id=\"T_138dc373_9535_11ea_81ac_00155dc2efd4row2_col3\" class=\"data row2 col3\" >0.000000</td>\n",
       "                        <td id=\"T_138dc373_9535_11ea_81ac_00155dc2efd4row2_col4\" class=\"data row2 col4\" >0.000000</td>\n",
       "                        <td id=\"T_138dc373_9535_11ea_81ac_00155dc2efd4row2_col5\" class=\"data row2 col5\" >0.000000</td>\n",
       "                        <td id=\"T_138dc373_9535_11ea_81ac_00155dc2efd4row2_col6\" class=\"data row2 col6\" >0.000000</td>\n",
       "                        <td id=\"T_138dc373_9535_11ea_81ac_00155dc2efd4row2_col7\" class=\"data row2 col7\" >0.000000</td>\n",
       "                        <td id=\"T_138dc373_9535_11ea_81ac_00155dc2efd4row2_col8\" class=\"data row2 col8\" >0.210938</td>\n",
       "                        <td id=\"T_138dc373_9535_11ea_81ac_00155dc2efd4row2_col9\" class=\"data row2 col9\" >0.886719</td>\n",
       "                        <td id=\"T_138dc373_9535_11ea_81ac_00155dc2efd4row2_col10\" class=\"data row2 col10\" >0.988281</td>\n",
       "                        <td id=\"T_138dc373_9535_11ea_81ac_00155dc2efd4row2_col11\" class=\"data row2 col11\" >0.984375</td>\n",
       "                        <td id=\"T_138dc373_9535_11ea_81ac_00155dc2efd4row2_col12\" class=\"data row2 col12\" >0.933594</td>\n",
       "                        <td id=\"T_138dc373_9535_11ea_81ac_00155dc2efd4row2_col13\" class=\"data row2 col13\" >0.910156</td>\n",
       "                        <td id=\"T_138dc373_9535_11ea_81ac_00155dc2efd4row2_col14\" class=\"data row2 col14\" >0.984375</td>\n",
       "                        <td id=\"T_138dc373_9535_11ea_81ac_00155dc2efd4row2_col15\" class=\"data row2 col15\" >0.222656</td>\n",
       "                        <td id=\"T_138dc373_9535_11ea_81ac_00155dc2efd4row2_col16\" class=\"data row2 col16\" >0.023438</td>\n",
       "                        <td id=\"T_138dc373_9535_11ea_81ac_00155dc2efd4row2_col17\" class=\"data row2 col17\" >0.000000</td>\n",
       "                        <td id=\"T_138dc373_9535_11ea_81ac_00155dc2efd4row2_col18\" class=\"data row2 col18\" >0.000000</td>\n",
       "                        <td id=\"T_138dc373_9535_11ea_81ac_00155dc2efd4row2_col19\" class=\"data row2 col19\" >0.000000</td>\n",
       "                        <td id=\"T_138dc373_9535_11ea_81ac_00155dc2efd4row2_col20\" class=\"data row2 col20\" >0.000000</td>\n",
       "            </tr>\n",
       "            <tr>\n",
       "                        <th id=\"T_138dc373_9535_11ea_81ac_00155dc2efd4level0_row3\" class=\"row_heading level0 row3\" >3</th>\n",
       "                        <td id=\"T_138dc373_9535_11ea_81ac_00155dc2efd4row3_col0\" class=\"data row3 col0\" >0.000000</td>\n",
       "                        <td id=\"T_138dc373_9535_11ea_81ac_00155dc2efd4row3_col1\" class=\"data row3 col1\" >0.000000</td>\n",
       "                        <td id=\"T_138dc373_9535_11ea_81ac_00155dc2efd4row3_col2\" class=\"data row3 col2\" >0.000000</td>\n",
       "                        <td id=\"T_138dc373_9535_11ea_81ac_00155dc2efd4row3_col3\" class=\"data row3 col3\" >0.000000</td>\n",
       "                        <td id=\"T_138dc373_9535_11ea_81ac_00155dc2efd4row3_col4\" class=\"data row3 col4\" >0.000000</td>\n",
       "                        <td id=\"T_138dc373_9535_11ea_81ac_00155dc2efd4row3_col5\" class=\"data row3 col5\" >0.000000</td>\n",
       "                        <td id=\"T_138dc373_9535_11ea_81ac_00155dc2efd4row3_col6\" class=\"data row3 col6\" >0.039062</td>\n",
       "                        <td id=\"T_138dc373_9535_11ea_81ac_00155dc2efd4row3_col7\" class=\"data row3 col7\" >0.234375</td>\n",
       "                        <td id=\"T_138dc373_9535_11ea_81ac_00155dc2efd4row3_col8\" class=\"data row3 col8\" >0.875000</td>\n",
       "                        <td id=\"T_138dc373_9535_11ea_81ac_00155dc2efd4row3_col9\" class=\"data row3 col9\" >0.984375</td>\n",
       "                        <td id=\"T_138dc373_9535_11ea_81ac_00155dc2efd4row3_col10\" class=\"data row3 col10\" >0.988281</td>\n",
       "                        <td id=\"T_138dc373_9535_11ea_81ac_00155dc2efd4row3_col11\" class=\"data row3 col11\" >0.984375</td>\n",
       "                        <td id=\"T_138dc373_9535_11ea_81ac_00155dc2efd4row3_col12\" class=\"data row3 col12\" >0.789062</td>\n",
       "                        <td id=\"T_138dc373_9535_11ea_81ac_00155dc2efd4row3_col13\" class=\"data row3 col13\" >0.328125</td>\n",
       "                        <td id=\"T_138dc373_9535_11ea_81ac_00155dc2efd4row3_col14\" class=\"data row3 col14\" >0.984375</td>\n",
       "                        <td id=\"T_138dc373_9535_11ea_81ac_00155dc2efd4row3_col15\" class=\"data row3 col15\" >0.988281</td>\n",
       "                        <td id=\"T_138dc373_9535_11ea_81ac_00155dc2efd4row3_col16\" class=\"data row3 col16\" >0.476562</td>\n",
       "                        <td id=\"T_138dc373_9535_11ea_81ac_00155dc2efd4row3_col17\" class=\"data row3 col17\" >0.000000</td>\n",
       "                        <td id=\"T_138dc373_9535_11ea_81ac_00155dc2efd4row3_col18\" class=\"data row3 col18\" >0.000000</td>\n",
       "                        <td id=\"T_138dc373_9535_11ea_81ac_00155dc2efd4row3_col19\" class=\"data row3 col19\" >0.000000</td>\n",
       "                        <td id=\"T_138dc373_9535_11ea_81ac_00155dc2efd4row3_col20\" class=\"data row3 col20\" >0.000000</td>\n",
       "            </tr>\n",
       "            <tr>\n",
       "                        <th id=\"T_138dc373_9535_11ea_81ac_00155dc2efd4level0_row4\" class=\"row_heading level0 row4\" >4</th>\n",
       "                        <td id=\"T_138dc373_9535_11ea_81ac_00155dc2efd4row4_col0\" class=\"data row4 col0\" >0.000000</td>\n",
       "                        <td id=\"T_138dc373_9535_11ea_81ac_00155dc2efd4row4_col1\" class=\"data row4 col1\" >0.000000</td>\n",
       "                        <td id=\"T_138dc373_9535_11ea_81ac_00155dc2efd4row4_col2\" class=\"data row4 col2\" >0.000000</td>\n",
       "                        <td id=\"T_138dc373_9535_11ea_81ac_00155dc2efd4row4_col3\" class=\"data row4 col3\" >0.000000</td>\n",
       "                        <td id=\"T_138dc373_9535_11ea_81ac_00155dc2efd4row4_col4\" class=\"data row4 col4\" >0.000000</td>\n",
       "                        <td id=\"T_138dc373_9535_11ea_81ac_00155dc2efd4row4_col5\" class=\"data row4 col5\" >0.000000</td>\n",
       "                        <td id=\"T_138dc373_9535_11ea_81ac_00155dc2efd4row4_col6\" class=\"data row4 col6\" >0.636719</td>\n",
       "                        <td id=\"T_138dc373_9535_11ea_81ac_00155dc2efd4row4_col7\" class=\"data row4 col7\" >0.984375</td>\n",
       "                        <td id=\"T_138dc373_9535_11ea_81ac_00155dc2efd4row4_col8\" class=\"data row4 col8\" >0.984375</td>\n",
       "                        <td id=\"T_138dc373_9535_11ea_81ac_00155dc2efd4row4_col9\" class=\"data row4 col9\" >0.984375</td>\n",
       "                        <td id=\"T_138dc373_9535_11ea_81ac_00155dc2efd4row4_col10\" class=\"data row4 col10\" >0.988281</td>\n",
       "                        <td id=\"T_138dc373_9535_11ea_81ac_00155dc2efd4row4_col11\" class=\"data row4 col11\" >0.984375</td>\n",
       "                        <td id=\"T_138dc373_9535_11ea_81ac_00155dc2efd4row4_col12\" class=\"data row4 col12\" >0.984375</td>\n",
       "                        <td id=\"T_138dc373_9535_11ea_81ac_00155dc2efd4row4_col13\" class=\"data row4 col13\" >0.375000</td>\n",
       "                        <td id=\"T_138dc373_9535_11ea_81ac_00155dc2efd4row4_col14\" class=\"data row4 col14\" >0.738281</td>\n",
       "                        <td id=\"T_138dc373_9535_11ea_81ac_00155dc2efd4row4_col15\" class=\"data row4 col15\" >0.988281</td>\n",
       "                        <td id=\"T_138dc373_9535_11ea_81ac_00155dc2efd4row4_col16\" class=\"data row4 col16\" >0.652344</td>\n",
       "                        <td id=\"T_138dc373_9535_11ea_81ac_00155dc2efd4row4_col17\" class=\"data row4 col17\" >0.000000</td>\n",
       "                        <td id=\"T_138dc373_9535_11ea_81ac_00155dc2efd4row4_col18\" class=\"data row4 col18\" >0.000000</td>\n",
       "                        <td id=\"T_138dc373_9535_11ea_81ac_00155dc2efd4row4_col19\" class=\"data row4 col19\" >0.000000</td>\n",
       "                        <td id=\"T_138dc373_9535_11ea_81ac_00155dc2efd4row4_col20\" class=\"data row4 col20\" >0.000000</td>\n",
       "            </tr>\n",
       "            <tr>\n",
       "                        <th id=\"T_138dc373_9535_11ea_81ac_00155dc2efd4level0_row5\" class=\"row_heading level0 row5\" >5</th>\n",
       "                        <td id=\"T_138dc373_9535_11ea_81ac_00155dc2efd4row5_col0\" class=\"data row5 col0\" >0.000000</td>\n",
       "                        <td id=\"T_138dc373_9535_11ea_81ac_00155dc2efd4row5_col1\" class=\"data row5 col1\" >0.000000</td>\n",
       "                        <td id=\"T_138dc373_9535_11ea_81ac_00155dc2efd4row5_col2\" class=\"data row5 col2\" >0.000000</td>\n",
       "                        <td id=\"T_138dc373_9535_11ea_81ac_00155dc2efd4row5_col3\" class=\"data row5 col3\" >0.000000</td>\n",
       "                        <td id=\"T_138dc373_9535_11ea_81ac_00155dc2efd4row5_col4\" class=\"data row5 col4\" >0.000000</td>\n",
       "                        <td id=\"T_138dc373_9535_11ea_81ac_00155dc2efd4row5_col5\" class=\"data row5 col5\" >0.199219</td>\n",
       "                        <td id=\"T_138dc373_9535_11ea_81ac_00155dc2efd4row5_col6\" class=\"data row5 col6\" >0.929688</td>\n",
       "                        <td id=\"T_138dc373_9535_11ea_81ac_00155dc2efd4row5_col7\" class=\"data row5 col7\" >0.988281</td>\n",
       "                        <td id=\"T_138dc373_9535_11ea_81ac_00155dc2efd4row5_col8\" class=\"data row5 col8\" >0.988281</td>\n",
       "                        <td id=\"T_138dc373_9535_11ea_81ac_00155dc2efd4row5_col9\" class=\"data row5 col9\" >0.742188</td>\n",
       "                        <td id=\"T_138dc373_9535_11ea_81ac_00155dc2efd4row5_col10\" class=\"data row5 col10\" >0.445312</td>\n",
       "                        <td id=\"T_138dc373_9535_11ea_81ac_00155dc2efd4row5_col11\" class=\"data row5 col11\" >0.988281</td>\n",
       "                        <td id=\"T_138dc373_9535_11ea_81ac_00155dc2efd4row5_col12\" class=\"data row5 col12\" >0.890625</td>\n",
       "                        <td id=\"T_138dc373_9535_11ea_81ac_00155dc2efd4row5_col13\" class=\"data row5 col13\" >0.183594</td>\n",
       "                        <td id=\"T_138dc373_9535_11ea_81ac_00155dc2efd4row5_col14\" class=\"data row5 col14\" >0.308594</td>\n",
       "                        <td id=\"T_138dc373_9535_11ea_81ac_00155dc2efd4row5_col15\" class=\"data row5 col15\" >0.996094</td>\n",
       "                        <td id=\"T_138dc373_9535_11ea_81ac_00155dc2efd4row5_col16\" class=\"data row5 col16\" >0.656250</td>\n",
       "                        <td id=\"T_138dc373_9535_11ea_81ac_00155dc2efd4row5_col17\" class=\"data row5 col17\" >0.000000</td>\n",
       "                        <td id=\"T_138dc373_9535_11ea_81ac_00155dc2efd4row5_col18\" class=\"data row5 col18\" >0.000000</td>\n",
       "                        <td id=\"T_138dc373_9535_11ea_81ac_00155dc2efd4row5_col19\" class=\"data row5 col19\" >0.000000</td>\n",
       "                        <td id=\"T_138dc373_9535_11ea_81ac_00155dc2efd4row5_col20\" class=\"data row5 col20\" >0.000000</td>\n",
       "            </tr>\n",
       "            <tr>\n",
       "                        <th id=\"T_138dc373_9535_11ea_81ac_00155dc2efd4level0_row6\" class=\"row_heading level0 row6\" >6</th>\n",
       "                        <td id=\"T_138dc373_9535_11ea_81ac_00155dc2efd4row6_col0\" class=\"data row6 col0\" >0.000000</td>\n",
       "                        <td id=\"T_138dc373_9535_11ea_81ac_00155dc2efd4row6_col1\" class=\"data row6 col1\" >0.000000</td>\n",
       "                        <td id=\"T_138dc373_9535_11ea_81ac_00155dc2efd4row6_col2\" class=\"data row6 col2\" >0.000000</td>\n",
       "                        <td id=\"T_138dc373_9535_11ea_81ac_00155dc2efd4row6_col3\" class=\"data row6 col3\" >0.000000</td>\n",
       "                        <td id=\"T_138dc373_9535_11ea_81ac_00155dc2efd4row6_col4\" class=\"data row6 col4\" >0.187500</td>\n",
       "                        <td id=\"T_138dc373_9535_11ea_81ac_00155dc2efd4row6_col5\" class=\"data row6 col5\" >0.929688</td>\n",
       "                        <td id=\"T_138dc373_9535_11ea_81ac_00155dc2efd4row6_col6\" class=\"data row6 col6\" >0.984375</td>\n",
       "                        <td id=\"T_138dc373_9535_11ea_81ac_00155dc2efd4row6_col7\" class=\"data row6 col7\" >0.984375</td>\n",
       "                        <td id=\"T_138dc373_9535_11ea_81ac_00155dc2efd4row6_col8\" class=\"data row6 col8\" >0.699219</td>\n",
       "                        <td id=\"T_138dc373_9535_11ea_81ac_00155dc2efd4row6_col9\" class=\"data row6 col9\" >0.046875</td>\n",
       "                        <td id=\"T_138dc373_9535_11ea_81ac_00155dc2efd4row6_col10\" class=\"data row6 col10\" >0.292969</td>\n",
       "                        <td id=\"T_138dc373_9535_11ea_81ac_00155dc2efd4row6_col11\" class=\"data row6 col11\" >0.472656</td>\n",
       "                        <td id=\"T_138dc373_9535_11ea_81ac_00155dc2efd4row6_col12\" class=\"data row6 col12\" >0.082031</td>\n",
       "                        <td id=\"T_138dc373_9535_11ea_81ac_00155dc2efd4row6_col13\" class=\"data row6 col13\" >0.000000</td>\n",
       "                        <td id=\"T_138dc373_9535_11ea_81ac_00155dc2efd4row6_col14\" class=\"data row6 col14\" >0.000000</td>\n",
       "                        <td id=\"T_138dc373_9535_11ea_81ac_00155dc2efd4row6_col15\" class=\"data row6 col15\" >0.988281</td>\n",
       "                        <td id=\"T_138dc373_9535_11ea_81ac_00155dc2efd4row6_col16\" class=\"data row6 col16\" >0.949219</td>\n",
       "                        <td id=\"T_138dc373_9535_11ea_81ac_00155dc2efd4row6_col17\" class=\"data row6 col17\" >0.195312</td>\n",
       "                        <td id=\"T_138dc373_9535_11ea_81ac_00155dc2efd4row6_col18\" class=\"data row6 col18\" >0.000000</td>\n",
       "                        <td id=\"T_138dc373_9535_11ea_81ac_00155dc2efd4row6_col19\" class=\"data row6 col19\" >0.000000</td>\n",
       "                        <td id=\"T_138dc373_9535_11ea_81ac_00155dc2efd4row6_col20\" class=\"data row6 col20\" >0.000000</td>\n",
       "            </tr>\n",
       "            <tr>\n",
       "                        <th id=\"T_138dc373_9535_11ea_81ac_00155dc2efd4level0_row7\" class=\"row_heading level0 row7\" >7</th>\n",
       "                        <td id=\"T_138dc373_9535_11ea_81ac_00155dc2efd4row7_col0\" class=\"data row7 col0\" >0.000000</td>\n",
       "                        <td id=\"T_138dc373_9535_11ea_81ac_00155dc2efd4row7_col1\" class=\"data row7 col1\" >0.000000</td>\n",
       "                        <td id=\"T_138dc373_9535_11ea_81ac_00155dc2efd4row7_col2\" class=\"data row7 col2\" >0.000000</td>\n",
       "                        <td id=\"T_138dc373_9535_11ea_81ac_00155dc2efd4row7_col3\" class=\"data row7 col3\" >0.148438</td>\n",
       "                        <td id=\"T_138dc373_9535_11ea_81ac_00155dc2efd4row7_col4\" class=\"data row7 col4\" >0.644531</td>\n",
       "                        <td id=\"T_138dc373_9535_11ea_81ac_00155dc2efd4row7_col5\" class=\"data row7 col5\" >0.988281</td>\n",
       "                        <td id=\"T_138dc373_9535_11ea_81ac_00155dc2efd4row7_col6\" class=\"data row7 col6\" >0.910156</td>\n",
       "                        <td id=\"T_138dc373_9535_11ea_81ac_00155dc2efd4row7_col7\" class=\"data row7 col7\" >0.812500</td>\n",
       "                        <td id=\"T_138dc373_9535_11ea_81ac_00155dc2efd4row7_col8\" class=\"data row7 col8\" >0.328125</td>\n",
       "                        <td id=\"T_138dc373_9535_11ea_81ac_00155dc2efd4row7_col9\" class=\"data row7 col9\" >0.000000</td>\n",
       "                        <td id=\"T_138dc373_9535_11ea_81ac_00155dc2efd4row7_col10\" class=\"data row7 col10\" >0.000000</td>\n",
       "                        <td id=\"T_138dc373_9535_11ea_81ac_00155dc2efd4row7_col11\" class=\"data row7 col11\" >0.000000</td>\n",
       "                        <td id=\"T_138dc373_9535_11ea_81ac_00155dc2efd4row7_col12\" class=\"data row7 col12\" >0.000000</td>\n",
       "                        <td id=\"T_138dc373_9535_11ea_81ac_00155dc2efd4row7_col13\" class=\"data row7 col13\" >0.000000</td>\n",
       "                        <td id=\"T_138dc373_9535_11ea_81ac_00155dc2efd4row7_col14\" class=\"data row7 col14\" >0.000000</td>\n",
       "                        <td id=\"T_138dc373_9535_11ea_81ac_00155dc2efd4row7_col15\" class=\"data row7 col15\" >0.988281</td>\n",
       "                        <td id=\"T_138dc373_9535_11ea_81ac_00155dc2efd4row7_col16\" class=\"data row7 col16\" >0.984375</td>\n",
       "                        <td id=\"T_138dc373_9535_11ea_81ac_00155dc2efd4row7_col17\" class=\"data row7 col17\" >0.644531</td>\n",
       "                        <td id=\"T_138dc373_9535_11ea_81ac_00155dc2efd4row7_col18\" class=\"data row7 col18\" >0.000000</td>\n",
       "                        <td id=\"T_138dc373_9535_11ea_81ac_00155dc2efd4row7_col19\" class=\"data row7 col19\" >0.000000</td>\n",
       "                        <td id=\"T_138dc373_9535_11ea_81ac_00155dc2efd4row7_col20\" class=\"data row7 col20\" >0.000000</td>\n",
       "            </tr>\n",
       "            <tr>\n",
       "                        <th id=\"T_138dc373_9535_11ea_81ac_00155dc2efd4level0_row8\" class=\"row_heading level0 row8\" >8</th>\n",
       "                        <td id=\"T_138dc373_9535_11ea_81ac_00155dc2efd4row8_col0\" class=\"data row8 col0\" >0.000000</td>\n",
       "                        <td id=\"T_138dc373_9535_11ea_81ac_00155dc2efd4row8_col1\" class=\"data row8 col1\" >0.000000</td>\n",
       "                        <td id=\"T_138dc373_9535_11ea_81ac_00155dc2efd4row8_col2\" class=\"data row8 col2\" >0.027344</td>\n",
       "                        <td id=\"T_138dc373_9535_11ea_81ac_00155dc2efd4row8_col3\" class=\"data row8 col3\" >0.695312</td>\n",
       "                        <td id=\"T_138dc373_9535_11ea_81ac_00155dc2efd4row8_col4\" class=\"data row8 col4\" >0.984375</td>\n",
       "                        <td id=\"T_138dc373_9535_11ea_81ac_00155dc2efd4row8_col5\" class=\"data row8 col5\" >0.937500</td>\n",
       "                        <td id=\"T_138dc373_9535_11ea_81ac_00155dc2efd4row8_col6\" class=\"data row8 col6\" >0.277344</td>\n",
       "                        <td id=\"T_138dc373_9535_11ea_81ac_00155dc2efd4row8_col7\" class=\"data row8 col7\" >0.074219</td>\n",
       "                        <td id=\"T_138dc373_9535_11ea_81ac_00155dc2efd4row8_col8\" class=\"data row8 col8\" >0.109375</td>\n",
       "                        <td id=\"T_138dc373_9535_11ea_81ac_00155dc2efd4row8_col9\" class=\"data row8 col9\" >0.000000</td>\n",
       "                        <td id=\"T_138dc373_9535_11ea_81ac_00155dc2efd4row8_col10\" class=\"data row8 col10\" >0.000000</td>\n",
       "                        <td id=\"T_138dc373_9535_11ea_81ac_00155dc2efd4row8_col11\" class=\"data row8 col11\" >0.000000</td>\n",
       "                        <td id=\"T_138dc373_9535_11ea_81ac_00155dc2efd4row8_col12\" class=\"data row8 col12\" >0.000000</td>\n",
       "                        <td id=\"T_138dc373_9535_11ea_81ac_00155dc2efd4row8_col13\" class=\"data row8 col13\" >0.000000</td>\n",
       "                        <td id=\"T_138dc373_9535_11ea_81ac_00155dc2efd4row8_col14\" class=\"data row8 col14\" >0.000000</td>\n",
       "                        <td id=\"T_138dc373_9535_11ea_81ac_00155dc2efd4row8_col15\" class=\"data row8 col15\" >0.988281</td>\n",
       "                        <td id=\"T_138dc373_9535_11ea_81ac_00155dc2efd4row8_col16\" class=\"data row8 col16\" >0.984375</td>\n",
       "                        <td id=\"T_138dc373_9535_11ea_81ac_00155dc2efd4row8_col17\" class=\"data row8 col17\" >0.761719</td>\n",
       "                        <td id=\"T_138dc373_9535_11ea_81ac_00155dc2efd4row8_col18\" class=\"data row8 col18\" >0.000000</td>\n",
       "                        <td id=\"T_138dc373_9535_11ea_81ac_00155dc2efd4row8_col19\" class=\"data row8 col19\" >0.000000</td>\n",
       "                        <td id=\"T_138dc373_9535_11ea_81ac_00155dc2efd4row8_col20\" class=\"data row8 col20\" >0.000000</td>\n",
       "            </tr>\n",
       "            <tr>\n",
       "                        <th id=\"T_138dc373_9535_11ea_81ac_00155dc2efd4level0_row9\" class=\"row_heading level0 row9\" >9</th>\n",
       "                        <td id=\"T_138dc373_9535_11ea_81ac_00155dc2efd4row9_col0\" class=\"data row9 col0\" >0.000000</td>\n",
       "                        <td id=\"T_138dc373_9535_11ea_81ac_00155dc2efd4row9_col1\" class=\"data row9 col1\" >0.000000</td>\n",
       "                        <td id=\"T_138dc373_9535_11ea_81ac_00155dc2efd4row9_col2\" class=\"data row9 col2\" >0.222656</td>\n",
       "                        <td id=\"T_138dc373_9535_11ea_81ac_00155dc2efd4row9_col3\" class=\"data row9 col3\" >0.984375</td>\n",
       "                        <td id=\"T_138dc373_9535_11ea_81ac_00155dc2efd4row9_col4\" class=\"data row9 col4\" >0.984375</td>\n",
       "                        <td id=\"T_138dc373_9535_11ea_81ac_00155dc2efd4row9_col5\" class=\"data row9 col5\" >0.246094</td>\n",
       "                        <td id=\"T_138dc373_9535_11ea_81ac_00155dc2efd4row9_col6\" class=\"data row9 col6\" >0.000000</td>\n",
       "                        <td id=\"T_138dc373_9535_11ea_81ac_00155dc2efd4row9_col7\" class=\"data row9 col7\" >0.000000</td>\n",
       "                        <td id=\"T_138dc373_9535_11ea_81ac_00155dc2efd4row9_col8\" class=\"data row9 col8\" >0.000000</td>\n",
       "                        <td id=\"T_138dc373_9535_11ea_81ac_00155dc2efd4row9_col9\" class=\"data row9 col9\" >0.000000</td>\n",
       "                        <td id=\"T_138dc373_9535_11ea_81ac_00155dc2efd4row9_col10\" class=\"data row9 col10\" >0.000000</td>\n",
       "                        <td id=\"T_138dc373_9535_11ea_81ac_00155dc2efd4row9_col11\" class=\"data row9 col11\" >0.000000</td>\n",
       "                        <td id=\"T_138dc373_9535_11ea_81ac_00155dc2efd4row9_col12\" class=\"data row9 col12\" >0.000000</td>\n",
       "                        <td id=\"T_138dc373_9535_11ea_81ac_00155dc2efd4row9_col13\" class=\"data row9 col13\" >0.000000</td>\n",
       "                        <td id=\"T_138dc373_9535_11ea_81ac_00155dc2efd4row9_col14\" class=\"data row9 col14\" >0.000000</td>\n",
       "                        <td id=\"T_138dc373_9535_11ea_81ac_00155dc2efd4row9_col15\" class=\"data row9 col15\" >0.988281</td>\n",
       "                        <td id=\"T_138dc373_9535_11ea_81ac_00155dc2efd4row9_col16\" class=\"data row9 col16\" >0.984375</td>\n",
       "                        <td id=\"T_138dc373_9535_11ea_81ac_00155dc2efd4row9_col17\" class=\"data row9 col17\" >0.761719</td>\n",
       "                        <td id=\"T_138dc373_9535_11ea_81ac_00155dc2efd4row9_col18\" class=\"data row9 col18\" >0.000000</td>\n",
       "                        <td id=\"T_138dc373_9535_11ea_81ac_00155dc2efd4row9_col19\" class=\"data row9 col19\" >0.000000</td>\n",
       "                        <td id=\"T_138dc373_9535_11ea_81ac_00155dc2efd4row9_col20\" class=\"data row9 col20\" >0.000000</td>\n",
       "            </tr>\n",
       "            <tr>\n",
       "                        <th id=\"T_138dc373_9535_11ea_81ac_00155dc2efd4level0_row10\" class=\"row_heading level0 row10\" >10</th>\n",
       "                        <td id=\"T_138dc373_9535_11ea_81ac_00155dc2efd4row10_col0\" class=\"data row10 col0\" >0.000000</td>\n",
       "                        <td id=\"T_138dc373_9535_11ea_81ac_00155dc2efd4row10_col1\" class=\"data row10 col1\" >0.000000</td>\n",
       "                        <td id=\"T_138dc373_9535_11ea_81ac_00155dc2efd4row10_col2\" class=\"data row10 col2\" >0.773438</td>\n",
       "                        <td id=\"T_138dc373_9535_11ea_81ac_00155dc2efd4row10_col3\" class=\"data row10 col3\" >0.988281</td>\n",
       "                        <td id=\"T_138dc373_9535_11ea_81ac_00155dc2efd4row10_col4\" class=\"data row10 col4\" >0.742188</td>\n",
       "                        <td id=\"T_138dc373_9535_11ea_81ac_00155dc2efd4row10_col5\" class=\"data row10 col5\" >0.000000</td>\n",
       "                        <td id=\"T_138dc373_9535_11ea_81ac_00155dc2efd4row10_col6\" class=\"data row10 col6\" >0.000000</td>\n",
       "                        <td id=\"T_138dc373_9535_11ea_81ac_00155dc2efd4row10_col7\" class=\"data row10 col7\" >0.000000</td>\n",
       "                        <td id=\"T_138dc373_9535_11ea_81ac_00155dc2efd4row10_col8\" class=\"data row10 col8\" >0.000000</td>\n",
       "                        <td id=\"T_138dc373_9535_11ea_81ac_00155dc2efd4row10_col9\" class=\"data row10 col9\" >0.000000</td>\n",
       "                        <td id=\"T_138dc373_9535_11ea_81ac_00155dc2efd4row10_col10\" class=\"data row10 col10\" >0.000000</td>\n",
       "                        <td id=\"T_138dc373_9535_11ea_81ac_00155dc2efd4row10_col11\" class=\"data row10 col11\" >0.000000</td>\n",
       "                        <td id=\"T_138dc373_9535_11ea_81ac_00155dc2efd4row10_col12\" class=\"data row10 col12\" >0.000000</td>\n",
       "                        <td id=\"T_138dc373_9535_11ea_81ac_00155dc2efd4row10_col13\" class=\"data row10 col13\" >0.000000</td>\n",
       "                        <td id=\"T_138dc373_9535_11ea_81ac_00155dc2efd4row10_col14\" class=\"data row10 col14\" >0.000000</td>\n",
       "                        <td id=\"T_138dc373_9535_11ea_81ac_00155dc2efd4row10_col15\" class=\"data row10 col15\" >0.996094</td>\n",
       "                        <td id=\"T_138dc373_9535_11ea_81ac_00155dc2efd4row10_col16\" class=\"data row10 col16\" >0.988281</td>\n",
       "                        <td id=\"T_138dc373_9535_11ea_81ac_00155dc2efd4row10_col17\" class=\"data row10 col17\" >0.765625</td>\n",
       "                        <td id=\"T_138dc373_9535_11ea_81ac_00155dc2efd4row10_col18\" class=\"data row10 col18\" >0.000000</td>\n",
       "                        <td id=\"T_138dc373_9535_11ea_81ac_00155dc2efd4row10_col19\" class=\"data row10 col19\" >0.000000</td>\n",
       "                        <td id=\"T_138dc373_9535_11ea_81ac_00155dc2efd4row10_col20\" class=\"data row10 col20\" >0.000000</td>\n",
       "            </tr>\n",
       "            <tr>\n",
       "                        <th id=\"T_138dc373_9535_11ea_81ac_00155dc2efd4level0_row11\" class=\"row_heading level0 row11\" >11</th>\n",
       "                        <td id=\"T_138dc373_9535_11ea_81ac_00155dc2efd4row11_col0\" class=\"data row11 col0\" >0.000000</td>\n",
       "                        <td id=\"T_138dc373_9535_11ea_81ac_00155dc2efd4row11_col1\" class=\"data row11 col1\" >0.296875</td>\n",
       "                        <td id=\"T_138dc373_9535_11ea_81ac_00155dc2efd4row11_col2\" class=\"data row11 col2\" >0.960938</td>\n",
       "                        <td id=\"T_138dc373_9535_11ea_81ac_00155dc2efd4row11_col3\" class=\"data row11 col3\" >0.984375</td>\n",
       "                        <td id=\"T_138dc373_9535_11ea_81ac_00155dc2efd4row11_col4\" class=\"data row11 col4\" >0.437500</td>\n",
       "                        <td id=\"T_138dc373_9535_11ea_81ac_00155dc2efd4row11_col5\" class=\"data row11 col5\" >0.000000</td>\n",
       "                        <td id=\"T_138dc373_9535_11ea_81ac_00155dc2efd4row11_col6\" class=\"data row11 col6\" >0.000000</td>\n",
       "                        <td id=\"T_138dc373_9535_11ea_81ac_00155dc2efd4row11_col7\" class=\"data row11 col7\" >0.000000</td>\n",
       "                        <td id=\"T_138dc373_9535_11ea_81ac_00155dc2efd4row11_col8\" class=\"data row11 col8\" >0.000000</td>\n",
       "                        <td id=\"T_138dc373_9535_11ea_81ac_00155dc2efd4row11_col9\" class=\"data row11 col9\" >0.000000</td>\n",
       "                        <td id=\"T_138dc373_9535_11ea_81ac_00155dc2efd4row11_col10\" class=\"data row11 col10\" >0.000000</td>\n",
       "                        <td id=\"T_138dc373_9535_11ea_81ac_00155dc2efd4row11_col11\" class=\"data row11 col11\" >0.000000</td>\n",
       "                        <td id=\"T_138dc373_9535_11ea_81ac_00155dc2efd4row11_col12\" class=\"data row11 col12\" >0.000000</td>\n",
       "                        <td id=\"T_138dc373_9535_11ea_81ac_00155dc2efd4row11_col13\" class=\"data row11 col13\" >0.000000</td>\n",
       "                        <td id=\"T_138dc373_9535_11ea_81ac_00155dc2efd4row11_col14\" class=\"data row11 col14\" >0.000000</td>\n",
       "                        <td id=\"T_138dc373_9535_11ea_81ac_00155dc2efd4row11_col15\" class=\"data row11 col15\" >0.988281</td>\n",
       "                        <td id=\"T_138dc373_9535_11ea_81ac_00155dc2efd4row11_col16\" class=\"data row11 col16\" >0.984375</td>\n",
       "                        <td id=\"T_138dc373_9535_11ea_81ac_00155dc2efd4row11_col17\" class=\"data row11 col17\" >0.578125</td>\n",
       "                        <td id=\"T_138dc373_9535_11ea_81ac_00155dc2efd4row11_col18\" class=\"data row11 col18\" >0.000000</td>\n",
       "                        <td id=\"T_138dc373_9535_11ea_81ac_00155dc2efd4row11_col19\" class=\"data row11 col19\" >0.000000</td>\n",
       "                        <td id=\"T_138dc373_9535_11ea_81ac_00155dc2efd4row11_col20\" class=\"data row11 col20\" >0.000000</td>\n",
       "            </tr>\n",
       "            <tr>\n",
       "                        <th id=\"T_138dc373_9535_11ea_81ac_00155dc2efd4level0_row12\" class=\"row_heading level0 row12\" >12</th>\n",
       "                        <td id=\"T_138dc373_9535_11ea_81ac_00155dc2efd4row12_col0\" class=\"data row12 col0\" >0.000000</td>\n",
       "                        <td id=\"T_138dc373_9535_11ea_81ac_00155dc2efd4row12_col1\" class=\"data row12 col1\" >0.332031</td>\n",
       "                        <td id=\"T_138dc373_9535_11ea_81ac_00155dc2efd4row12_col2\" class=\"data row12 col2\" >0.984375</td>\n",
       "                        <td id=\"T_138dc373_9535_11ea_81ac_00155dc2efd4row12_col3\" class=\"data row12 col3\" >0.898438</td>\n",
       "                        <td id=\"T_138dc373_9535_11ea_81ac_00155dc2efd4row12_col4\" class=\"data row12 col4\" >0.097656</td>\n",
       "                        <td id=\"T_138dc373_9535_11ea_81ac_00155dc2efd4row12_col5\" class=\"data row12 col5\" >0.000000</td>\n",
       "                        <td id=\"T_138dc373_9535_11ea_81ac_00155dc2efd4row12_col6\" class=\"data row12 col6\" >0.000000</td>\n",
       "                        <td id=\"T_138dc373_9535_11ea_81ac_00155dc2efd4row12_col7\" class=\"data row12 col7\" >0.000000</td>\n",
       "                        <td id=\"T_138dc373_9535_11ea_81ac_00155dc2efd4row12_col8\" class=\"data row12 col8\" >0.000000</td>\n",
       "                        <td id=\"T_138dc373_9535_11ea_81ac_00155dc2efd4row12_col9\" class=\"data row12 col9\" >0.000000</td>\n",
       "                        <td id=\"T_138dc373_9535_11ea_81ac_00155dc2efd4row12_col10\" class=\"data row12 col10\" >0.000000</td>\n",
       "                        <td id=\"T_138dc373_9535_11ea_81ac_00155dc2efd4row12_col11\" class=\"data row12 col11\" >0.000000</td>\n",
       "                        <td id=\"T_138dc373_9535_11ea_81ac_00155dc2efd4row12_col12\" class=\"data row12 col12\" >0.000000</td>\n",
       "                        <td id=\"T_138dc373_9535_11ea_81ac_00155dc2efd4row12_col13\" class=\"data row12 col13\" >0.027344</td>\n",
       "                        <td id=\"T_138dc373_9535_11ea_81ac_00155dc2efd4row12_col14\" class=\"data row12 col14\" >0.527344</td>\n",
       "                        <td id=\"T_138dc373_9535_11ea_81ac_00155dc2efd4row12_col15\" class=\"data row12 col15\" >0.988281</td>\n",
       "                        <td id=\"T_138dc373_9535_11ea_81ac_00155dc2efd4row12_col16\" class=\"data row12 col16\" >0.726562</td>\n",
       "                        <td id=\"T_138dc373_9535_11ea_81ac_00155dc2efd4row12_col17\" class=\"data row12 col17\" >0.046875</td>\n",
       "                        <td id=\"T_138dc373_9535_11ea_81ac_00155dc2efd4row12_col18\" class=\"data row12 col18\" >0.000000</td>\n",
       "                        <td id=\"T_138dc373_9535_11ea_81ac_00155dc2efd4row12_col19\" class=\"data row12 col19\" >0.000000</td>\n",
       "                        <td id=\"T_138dc373_9535_11ea_81ac_00155dc2efd4row12_col20\" class=\"data row12 col20\" >0.000000</td>\n",
       "            </tr>\n",
       "            <tr>\n",
       "                        <th id=\"T_138dc373_9535_11ea_81ac_00155dc2efd4level0_row13\" class=\"row_heading level0 row13\" >13</th>\n",
       "                        <td id=\"T_138dc373_9535_11ea_81ac_00155dc2efd4row13_col0\" class=\"data row13 col0\" >0.000000</td>\n",
       "                        <td id=\"T_138dc373_9535_11ea_81ac_00155dc2efd4row13_col1\" class=\"data row13 col1\" >0.332031</td>\n",
       "                        <td id=\"T_138dc373_9535_11ea_81ac_00155dc2efd4row13_col2\" class=\"data row13 col2\" >0.984375</td>\n",
       "                        <td id=\"T_138dc373_9535_11ea_81ac_00155dc2efd4row13_col3\" class=\"data row13 col3\" >0.871094</td>\n",
       "                        <td id=\"T_138dc373_9535_11ea_81ac_00155dc2efd4row13_col4\" class=\"data row13 col4\" >0.000000</td>\n",
       "                        <td id=\"T_138dc373_9535_11ea_81ac_00155dc2efd4row13_col5\" class=\"data row13 col5\" >0.000000</td>\n",
       "                        <td id=\"T_138dc373_9535_11ea_81ac_00155dc2efd4row13_col6\" class=\"data row13 col6\" >0.000000</td>\n",
       "                        <td id=\"T_138dc373_9535_11ea_81ac_00155dc2efd4row13_col7\" class=\"data row13 col7\" >0.000000</td>\n",
       "                        <td id=\"T_138dc373_9535_11ea_81ac_00155dc2efd4row13_col8\" class=\"data row13 col8\" >0.000000</td>\n",
       "                        <td id=\"T_138dc373_9535_11ea_81ac_00155dc2efd4row13_col9\" class=\"data row13 col9\" >0.000000</td>\n",
       "                        <td id=\"T_138dc373_9535_11ea_81ac_00155dc2efd4row13_col10\" class=\"data row13 col10\" >0.000000</td>\n",
       "                        <td id=\"T_138dc373_9535_11ea_81ac_00155dc2efd4row13_col11\" class=\"data row13 col11\" >0.000000</td>\n",
       "                        <td id=\"T_138dc373_9535_11ea_81ac_00155dc2efd4row13_col12\" class=\"data row13 col12\" >0.027344</td>\n",
       "                        <td id=\"T_138dc373_9535_11ea_81ac_00155dc2efd4row13_col13\" class=\"data row13 col13\" >0.511719</td>\n",
       "                        <td id=\"T_138dc373_9535_11ea_81ac_00155dc2efd4row13_col14\" class=\"data row13 col14\" >0.984375</td>\n",
       "                        <td id=\"T_138dc373_9535_11ea_81ac_00155dc2efd4row13_col15\" class=\"data row13 col15\" >0.878906</td>\n",
       "                        <td id=\"T_138dc373_9535_11ea_81ac_00155dc2efd4row13_col16\" class=\"data row13 col16\" >0.277344</td>\n",
       "                        <td id=\"T_138dc373_9535_11ea_81ac_00155dc2efd4row13_col17\" class=\"data row13 col17\" >0.000000</td>\n",
       "                        <td id=\"T_138dc373_9535_11ea_81ac_00155dc2efd4row13_col18\" class=\"data row13 col18\" >0.000000</td>\n",
       "                        <td id=\"T_138dc373_9535_11ea_81ac_00155dc2efd4row13_col19\" class=\"data row13 col19\" >0.000000</td>\n",
       "                        <td id=\"T_138dc373_9535_11ea_81ac_00155dc2efd4row13_col20\" class=\"data row13 col20\" >0.000000</td>\n",
       "            </tr>\n",
       "            <tr>\n",
       "                        <th id=\"T_138dc373_9535_11ea_81ac_00155dc2efd4level0_row14\" class=\"row_heading level0 row14\" >14</th>\n",
       "                        <td id=\"T_138dc373_9535_11ea_81ac_00155dc2efd4row14_col0\" class=\"data row14 col0\" >0.000000</td>\n",
       "                        <td id=\"T_138dc373_9535_11ea_81ac_00155dc2efd4row14_col1\" class=\"data row14 col1\" >0.332031</td>\n",
       "                        <td id=\"T_138dc373_9535_11ea_81ac_00155dc2efd4row14_col2\" class=\"data row14 col2\" >0.984375</td>\n",
       "                        <td id=\"T_138dc373_9535_11ea_81ac_00155dc2efd4row14_col3\" class=\"data row14 col3\" >0.566406</td>\n",
       "                        <td id=\"T_138dc373_9535_11ea_81ac_00155dc2efd4row14_col4\" class=\"data row14 col4\" >0.000000</td>\n",
       "                        <td id=\"T_138dc373_9535_11ea_81ac_00155dc2efd4row14_col5\" class=\"data row14 col5\" >0.000000</td>\n",
       "                        <td id=\"T_138dc373_9535_11ea_81ac_00155dc2efd4row14_col6\" class=\"data row14 col6\" >0.000000</td>\n",
       "                        <td id=\"T_138dc373_9535_11ea_81ac_00155dc2efd4row14_col7\" class=\"data row14 col7\" >0.000000</td>\n",
       "                        <td id=\"T_138dc373_9535_11ea_81ac_00155dc2efd4row14_col8\" class=\"data row14 col8\" >0.000000</td>\n",
       "                        <td id=\"T_138dc373_9535_11ea_81ac_00155dc2efd4row14_col9\" class=\"data row14 col9\" >0.000000</td>\n",
       "                        <td id=\"T_138dc373_9535_11ea_81ac_00155dc2efd4row14_col10\" class=\"data row14 col10\" >0.000000</td>\n",
       "                        <td id=\"T_138dc373_9535_11ea_81ac_00155dc2efd4row14_col11\" class=\"data row14 col11\" >0.187500</td>\n",
       "                        <td id=\"T_138dc373_9535_11ea_81ac_00155dc2efd4row14_col12\" class=\"data row14 col12\" >0.644531</td>\n",
       "                        <td id=\"T_138dc373_9535_11ea_81ac_00155dc2efd4row14_col13\" class=\"data row14 col13\" >0.984375</td>\n",
       "                        <td id=\"T_138dc373_9535_11ea_81ac_00155dc2efd4row14_col14\" class=\"data row14 col14\" >0.675781</td>\n",
       "                        <td id=\"T_138dc373_9535_11ea_81ac_00155dc2efd4row14_col15\" class=\"data row14 col15\" >0.000000</td>\n",
       "                        <td id=\"T_138dc373_9535_11ea_81ac_00155dc2efd4row14_col16\" class=\"data row14 col16\" >0.000000</td>\n",
       "                        <td id=\"T_138dc373_9535_11ea_81ac_00155dc2efd4row14_col17\" class=\"data row14 col17\" >0.000000</td>\n",
       "                        <td id=\"T_138dc373_9535_11ea_81ac_00155dc2efd4row14_col18\" class=\"data row14 col18\" >0.000000</td>\n",
       "                        <td id=\"T_138dc373_9535_11ea_81ac_00155dc2efd4row14_col19\" class=\"data row14 col19\" >0.000000</td>\n",
       "                        <td id=\"T_138dc373_9535_11ea_81ac_00155dc2efd4row14_col20\" class=\"data row14 col20\" >0.000000</td>\n",
       "            </tr>\n",
       "            <tr>\n",
       "                        <th id=\"T_138dc373_9535_11ea_81ac_00155dc2efd4level0_row15\" class=\"row_heading level0 row15\" >15</th>\n",
       "                        <td id=\"T_138dc373_9535_11ea_81ac_00155dc2efd4row15_col0\" class=\"data row15 col0\" >0.000000</td>\n",
       "                        <td id=\"T_138dc373_9535_11ea_81ac_00155dc2efd4row15_col1\" class=\"data row15 col1\" >0.335938</td>\n",
       "                        <td id=\"T_138dc373_9535_11ea_81ac_00155dc2efd4row15_col2\" class=\"data row15 col2\" >0.988281</td>\n",
       "                        <td id=\"T_138dc373_9535_11ea_81ac_00155dc2efd4row15_col3\" class=\"data row15 col3\" >0.878906</td>\n",
       "                        <td id=\"T_138dc373_9535_11ea_81ac_00155dc2efd4row15_col4\" class=\"data row15 col4\" >0.000000</td>\n",
       "                        <td id=\"T_138dc373_9535_11ea_81ac_00155dc2efd4row15_col5\" class=\"data row15 col5\" >0.000000</td>\n",
       "                        <td id=\"T_138dc373_9535_11ea_81ac_00155dc2efd4row15_col6\" class=\"data row15 col6\" >0.000000</td>\n",
       "                        <td id=\"T_138dc373_9535_11ea_81ac_00155dc2efd4row15_col7\" class=\"data row15 col7\" >0.000000</td>\n",
       "                        <td id=\"T_138dc373_9535_11ea_81ac_00155dc2efd4row15_col8\" class=\"data row15 col8\" >0.000000</td>\n",
       "                        <td id=\"T_138dc373_9535_11ea_81ac_00155dc2efd4row15_col9\" class=\"data row15 col9\" >0.000000</td>\n",
       "                        <td id=\"T_138dc373_9535_11ea_81ac_00155dc2efd4row15_col10\" class=\"data row15 col10\" >0.445312</td>\n",
       "                        <td id=\"T_138dc373_9535_11ea_81ac_00155dc2efd4row15_col11\" class=\"data row15 col11\" >0.929688</td>\n",
       "                        <td id=\"T_138dc373_9535_11ea_81ac_00155dc2efd4row15_col12\" class=\"data row15 col12\" >0.988281</td>\n",
       "                        <td id=\"T_138dc373_9535_11ea_81ac_00155dc2efd4row15_col13\" class=\"data row15 col13\" >0.632812</td>\n",
       "                        <td id=\"T_138dc373_9535_11ea_81ac_00155dc2efd4row15_col14\" class=\"data row15 col14\" >0.000000</td>\n",
       "                        <td id=\"T_138dc373_9535_11ea_81ac_00155dc2efd4row15_col15\" class=\"data row15 col15\" >0.000000</td>\n",
       "                        <td id=\"T_138dc373_9535_11ea_81ac_00155dc2efd4row15_col16\" class=\"data row15 col16\" >0.000000</td>\n",
       "                        <td id=\"T_138dc373_9535_11ea_81ac_00155dc2efd4row15_col17\" class=\"data row15 col17\" >0.000000</td>\n",
       "                        <td id=\"T_138dc373_9535_11ea_81ac_00155dc2efd4row15_col18\" class=\"data row15 col18\" >0.000000</td>\n",
       "                        <td id=\"T_138dc373_9535_11ea_81ac_00155dc2efd4row15_col19\" class=\"data row15 col19\" >0.000000</td>\n",
       "                        <td id=\"T_138dc373_9535_11ea_81ac_00155dc2efd4row15_col20\" class=\"data row15 col20\" >0.000000</td>\n",
       "            </tr>\n",
       "            <tr>\n",
       "                        <th id=\"T_138dc373_9535_11ea_81ac_00155dc2efd4level0_row16\" class=\"row_heading level0 row16\" >16</th>\n",
       "                        <td id=\"T_138dc373_9535_11ea_81ac_00155dc2efd4row16_col0\" class=\"data row16 col0\" >0.000000</td>\n",
       "                        <td id=\"T_138dc373_9535_11ea_81ac_00155dc2efd4row16_col1\" class=\"data row16 col1\" >0.332031</td>\n",
       "                        <td id=\"T_138dc373_9535_11ea_81ac_00155dc2efd4row16_col2\" class=\"data row16 col2\" >0.984375</td>\n",
       "                        <td id=\"T_138dc373_9535_11ea_81ac_00155dc2efd4row16_col3\" class=\"data row16 col3\" >0.972656</td>\n",
       "                        <td id=\"T_138dc373_9535_11ea_81ac_00155dc2efd4row16_col4\" class=\"data row16 col4\" >0.570312</td>\n",
       "                        <td id=\"T_138dc373_9535_11ea_81ac_00155dc2efd4row16_col5\" class=\"data row16 col5\" >0.187500</td>\n",
       "                        <td id=\"T_138dc373_9535_11ea_81ac_00155dc2efd4row16_col6\" class=\"data row16 col6\" >0.113281</td>\n",
       "                        <td id=\"T_138dc373_9535_11ea_81ac_00155dc2efd4row16_col7\" class=\"data row16 col7\" >0.332031</td>\n",
       "                        <td id=\"T_138dc373_9535_11ea_81ac_00155dc2efd4row16_col8\" class=\"data row16 col8\" >0.695312</td>\n",
       "                        <td id=\"T_138dc373_9535_11ea_81ac_00155dc2efd4row16_col9\" class=\"data row16 col9\" >0.878906</td>\n",
       "                        <td id=\"T_138dc373_9535_11ea_81ac_00155dc2efd4row16_col10\" class=\"data row16 col10\" >0.988281</td>\n",
       "                        <td id=\"T_138dc373_9535_11ea_81ac_00155dc2efd4row16_col11\" class=\"data row16 col11\" >0.871094</td>\n",
       "                        <td id=\"T_138dc373_9535_11ea_81ac_00155dc2efd4row16_col12\" class=\"data row16 col12\" >0.652344</td>\n",
       "                        <td id=\"T_138dc373_9535_11ea_81ac_00155dc2efd4row16_col13\" class=\"data row16 col13\" >0.218750</td>\n",
       "                        <td id=\"T_138dc373_9535_11ea_81ac_00155dc2efd4row16_col14\" class=\"data row16 col14\" >0.000000</td>\n",
       "                        <td id=\"T_138dc373_9535_11ea_81ac_00155dc2efd4row16_col15\" class=\"data row16 col15\" >0.000000</td>\n",
       "                        <td id=\"T_138dc373_9535_11ea_81ac_00155dc2efd4row16_col16\" class=\"data row16 col16\" >0.000000</td>\n",
       "                        <td id=\"T_138dc373_9535_11ea_81ac_00155dc2efd4row16_col17\" class=\"data row16 col17\" >0.000000</td>\n",
       "                        <td id=\"T_138dc373_9535_11ea_81ac_00155dc2efd4row16_col18\" class=\"data row16 col18\" >0.000000</td>\n",
       "                        <td id=\"T_138dc373_9535_11ea_81ac_00155dc2efd4row16_col19\" class=\"data row16 col19\" >0.000000</td>\n",
       "                        <td id=\"T_138dc373_9535_11ea_81ac_00155dc2efd4row16_col20\" class=\"data row16 col20\" >0.000000</td>\n",
       "            </tr>\n",
       "            <tr>\n",
       "                        <th id=\"T_138dc373_9535_11ea_81ac_00155dc2efd4level0_row17\" class=\"row_heading level0 row17\" >17</th>\n",
       "                        <td id=\"T_138dc373_9535_11ea_81ac_00155dc2efd4row17_col0\" class=\"data row17 col0\" >0.000000</td>\n",
       "                        <td id=\"T_138dc373_9535_11ea_81ac_00155dc2efd4row17_col1\" class=\"data row17 col1\" >0.332031</td>\n",
       "                        <td id=\"T_138dc373_9535_11ea_81ac_00155dc2efd4row17_col2\" class=\"data row17 col2\" >0.984375</td>\n",
       "                        <td id=\"T_138dc373_9535_11ea_81ac_00155dc2efd4row17_col3\" class=\"data row17 col3\" >0.984375</td>\n",
       "                        <td id=\"T_138dc373_9535_11ea_81ac_00155dc2efd4row17_col4\" class=\"data row17 col4\" >0.984375</td>\n",
       "                        <td id=\"T_138dc373_9535_11ea_81ac_00155dc2efd4row17_col5\" class=\"data row17 col5\" >0.894531</td>\n",
       "                        <td id=\"T_138dc373_9535_11ea_81ac_00155dc2efd4row17_col6\" class=\"data row17 col6\" >0.839844</td>\n",
       "                        <td id=\"T_138dc373_9535_11ea_81ac_00155dc2efd4row17_col7\" class=\"data row17 col7\" >0.984375</td>\n",
       "                        <td id=\"T_138dc373_9535_11ea_81ac_00155dc2efd4row17_col8\" class=\"data row17 col8\" >0.984375</td>\n",
       "                        <td id=\"T_138dc373_9535_11ea_81ac_00155dc2efd4row17_col9\" class=\"data row17 col9\" >0.984375</td>\n",
       "                        <td id=\"T_138dc373_9535_11ea_81ac_00155dc2efd4row17_col10\" class=\"data row17 col10\" >0.765625</td>\n",
       "                        <td id=\"T_138dc373_9535_11ea_81ac_00155dc2efd4row17_col11\" class=\"data row17 col11\" >0.507812</td>\n",
       "                        <td id=\"T_138dc373_9535_11ea_81ac_00155dc2efd4row17_col12\" class=\"data row17 col12\" >0.000000</td>\n",
       "                        <td id=\"T_138dc373_9535_11ea_81ac_00155dc2efd4row17_col13\" class=\"data row17 col13\" >0.000000</td>\n",
       "                        <td id=\"T_138dc373_9535_11ea_81ac_00155dc2efd4row17_col14\" class=\"data row17 col14\" >0.000000</td>\n",
       "                        <td id=\"T_138dc373_9535_11ea_81ac_00155dc2efd4row17_col15\" class=\"data row17 col15\" >0.000000</td>\n",
       "                        <td id=\"T_138dc373_9535_11ea_81ac_00155dc2efd4row17_col16\" class=\"data row17 col16\" >0.000000</td>\n",
       "                        <td id=\"T_138dc373_9535_11ea_81ac_00155dc2efd4row17_col17\" class=\"data row17 col17\" >0.000000</td>\n",
       "                        <td id=\"T_138dc373_9535_11ea_81ac_00155dc2efd4row17_col18\" class=\"data row17 col18\" >0.000000</td>\n",
       "                        <td id=\"T_138dc373_9535_11ea_81ac_00155dc2efd4row17_col19\" class=\"data row17 col19\" >0.000000</td>\n",
       "                        <td id=\"T_138dc373_9535_11ea_81ac_00155dc2efd4row17_col20\" class=\"data row17 col20\" >0.000000</td>\n",
       "            </tr>\n",
       "            <tr>\n",
       "                        <th id=\"T_138dc373_9535_11ea_81ac_00155dc2efd4level0_row18\" class=\"row_heading level0 row18\" >18</th>\n",
       "                        <td id=\"T_138dc373_9535_11ea_81ac_00155dc2efd4row18_col0\" class=\"data row18 col0\" >0.000000</td>\n",
       "                        <td id=\"T_138dc373_9535_11ea_81ac_00155dc2efd4row18_col1\" class=\"data row18 col1\" >0.109375</td>\n",
       "                        <td id=\"T_138dc373_9535_11ea_81ac_00155dc2efd4row18_col2\" class=\"data row18 col2\" >0.777344</td>\n",
       "                        <td id=\"T_138dc373_9535_11ea_81ac_00155dc2efd4row18_col3\" class=\"data row18 col3\" >0.984375</td>\n",
       "                        <td id=\"T_138dc373_9535_11ea_81ac_00155dc2efd4row18_col4\" class=\"data row18 col4\" >0.984375</td>\n",
       "                        <td id=\"T_138dc373_9535_11ea_81ac_00155dc2efd4row18_col5\" class=\"data row18 col5\" >0.988281</td>\n",
       "                        <td id=\"T_138dc373_9535_11ea_81ac_00155dc2efd4row18_col6\" class=\"data row18 col6\" >0.984375</td>\n",
       "                        <td id=\"T_138dc373_9535_11ea_81ac_00155dc2efd4row18_col7\" class=\"data row18 col7\" >0.984375</td>\n",
       "                        <td id=\"T_138dc373_9535_11ea_81ac_00155dc2efd4row18_col8\" class=\"data row18 col8\" >0.910156</td>\n",
       "                        <td id=\"T_138dc373_9535_11ea_81ac_00155dc2efd4row18_col9\" class=\"data row18 col9\" >0.566406</td>\n",
       "                        <td id=\"T_138dc373_9535_11ea_81ac_00155dc2efd4row18_col10\" class=\"data row18 col10\" >0.000000</td>\n",
       "                        <td id=\"T_138dc373_9535_11ea_81ac_00155dc2efd4row18_col11\" class=\"data row18 col11\" >0.000000</td>\n",
       "                        <td id=\"T_138dc373_9535_11ea_81ac_00155dc2efd4row18_col12\" class=\"data row18 col12\" >0.000000</td>\n",
       "                        <td id=\"T_138dc373_9535_11ea_81ac_00155dc2efd4row18_col13\" class=\"data row18 col13\" >0.000000</td>\n",
       "                        <td id=\"T_138dc373_9535_11ea_81ac_00155dc2efd4row18_col14\" class=\"data row18 col14\" >0.000000</td>\n",
       "                        <td id=\"T_138dc373_9535_11ea_81ac_00155dc2efd4row18_col15\" class=\"data row18 col15\" >0.000000</td>\n",
       "                        <td id=\"T_138dc373_9535_11ea_81ac_00155dc2efd4row18_col16\" class=\"data row18 col16\" >0.000000</td>\n",
       "                        <td id=\"T_138dc373_9535_11ea_81ac_00155dc2efd4row18_col17\" class=\"data row18 col17\" >0.000000</td>\n",
       "                        <td id=\"T_138dc373_9535_11ea_81ac_00155dc2efd4row18_col18\" class=\"data row18 col18\" >0.000000</td>\n",
       "                        <td id=\"T_138dc373_9535_11ea_81ac_00155dc2efd4row18_col19\" class=\"data row18 col19\" >0.000000</td>\n",
       "                        <td id=\"T_138dc373_9535_11ea_81ac_00155dc2efd4row18_col20\" class=\"data row18 col20\" >0.000000</td>\n",
       "            </tr>\n",
       "            <tr>\n",
       "                        <th id=\"T_138dc373_9535_11ea_81ac_00155dc2efd4level0_row19\" class=\"row_heading level0 row19\" >19</th>\n",
       "                        <td id=\"T_138dc373_9535_11ea_81ac_00155dc2efd4row19_col0\" class=\"data row19 col0\" >0.000000</td>\n",
       "                        <td id=\"T_138dc373_9535_11ea_81ac_00155dc2efd4row19_col1\" class=\"data row19 col1\" >0.000000</td>\n",
       "                        <td id=\"T_138dc373_9535_11ea_81ac_00155dc2efd4row19_col2\" class=\"data row19 col2\" >0.097656</td>\n",
       "                        <td id=\"T_138dc373_9535_11ea_81ac_00155dc2efd4row19_col3\" class=\"data row19 col3\" >0.500000</td>\n",
       "                        <td id=\"T_138dc373_9535_11ea_81ac_00155dc2efd4row19_col4\" class=\"data row19 col4\" >0.984375</td>\n",
       "                        <td id=\"T_138dc373_9535_11ea_81ac_00155dc2efd4row19_col5\" class=\"data row19 col5\" >0.988281</td>\n",
       "                        <td id=\"T_138dc373_9535_11ea_81ac_00155dc2efd4row19_col6\" class=\"data row19 col6\" >0.984375</td>\n",
       "                        <td id=\"T_138dc373_9535_11ea_81ac_00155dc2efd4row19_col7\" class=\"data row19 col7\" >0.550781</td>\n",
       "                        <td id=\"T_138dc373_9535_11ea_81ac_00155dc2efd4row19_col8\" class=\"data row19 col8\" >0.144531</td>\n",
       "                        <td id=\"T_138dc373_9535_11ea_81ac_00155dc2efd4row19_col9\" class=\"data row19 col9\" >0.000000</td>\n",
       "                        <td id=\"T_138dc373_9535_11ea_81ac_00155dc2efd4row19_col10\" class=\"data row19 col10\" >0.000000</td>\n",
       "                        <td id=\"T_138dc373_9535_11ea_81ac_00155dc2efd4row19_col11\" class=\"data row19 col11\" >0.000000</td>\n",
       "                        <td id=\"T_138dc373_9535_11ea_81ac_00155dc2efd4row19_col12\" class=\"data row19 col12\" >0.000000</td>\n",
       "                        <td id=\"T_138dc373_9535_11ea_81ac_00155dc2efd4row19_col13\" class=\"data row19 col13\" >0.000000</td>\n",
       "                        <td id=\"T_138dc373_9535_11ea_81ac_00155dc2efd4row19_col14\" class=\"data row19 col14\" >0.000000</td>\n",
       "                        <td id=\"T_138dc373_9535_11ea_81ac_00155dc2efd4row19_col15\" class=\"data row19 col15\" >0.000000</td>\n",
       "                        <td id=\"T_138dc373_9535_11ea_81ac_00155dc2efd4row19_col16\" class=\"data row19 col16\" >0.000000</td>\n",
       "                        <td id=\"T_138dc373_9535_11ea_81ac_00155dc2efd4row19_col17\" class=\"data row19 col17\" >0.000000</td>\n",
       "                        <td id=\"T_138dc373_9535_11ea_81ac_00155dc2efd4row19_col18\" class=\"data row19 col18\" >0.000000</td>\n",
       "                        <td id=\"T_138dc373_9535_11ea_81ac_00155dc2efd4row19_col19\" class=\"data row19 col19\" >0.000000</td>\n",
       "                        <td id=\"T_138dc373_9535_11ea_81ac_00155dc2efd4row19_col20\" class=\"data row19 col20\" >0.000000</td>\n",
       "            </tr>\n",
       "            <tr>\n",
       "                        <th id=\"T_138dc373_9535_11ea_81ac_00155dc2efd4level0_row20\" class=\"row_heading level0 row20\" >20</th>\n",
       "                        <td id=\"T_138dc373_9535_11ea_81ac_00155dc2efd4row20_col0\" class=\"data row20 col0\" >0.000000</td>\n",
       "                        <td id=\"T_138dc373_9535_11ea_81ac_00155dc2efd4row20_col1\" class=\"data row20 col1\" >0.000000</td>\n",
       "                        <td id=\"T_138dc373_9535_11ea_81ac_00155dc2efd4row20_col2\" class=\"data row20 col2\" >0.000000</td>\n",
       "                        <td id=\"T_138dc373_9535_11ea_81ac_00155dc2efd4row20_col3\" class=\"data row20 col3\" >0.000000</td>\n",
       "                        <td id=\"T_138dc373_9535_11ea_81ac_00155dc2efd4row20_col4\" class=\"data row20 col4\" >0.000000</td>\n",
       "                        <td id=\"T_138dc373_9535_11ea_81ac_00155dc2efd4row20_col5\" class=\"data row20 col5\" >0.000000</td>\n",
       "                        <td id=\"T_138dc373_9535_11ea_81ac_00155dc2efd4row20_col6\" class=\"data row20 col6\" >0.000000</td>\n",
       "                        <td id=\"T_138dc373_9535_11ea_81ac_00155dc2efd4row20_col7\" class=\"data row20 col7\" >0.000000</td>\n",
       "                        <td id=\"T_138dc373_9535_11ea_81ac_00155dc2efd4row20_col8\" class=\"data row20 col8\" >0.000000</td>\n",
       "                        <td id=\"T_138dc373_9535_11ea_81ac_00155dc2efd4row20_col9\" class=\"data row20 col9\" >0.000000</td>\n",
       "                        <td id=\"T_138dc373_9535_11ea_81ac_00155dc2efd4row20_col10\" class=\"data row20 col10\" >0.000000</td>\n",
       "                        <td id=\"T_138dc373_9535_11ea_81ac_00155dc2efd4row20_col11\" class=\"data row20 col11\" >0.000000</td>\n",
       "                        <td id=\"T_138dc373_9535_11ea_81ac_00155dc2efd4row20_col12\" class=\"data row20 col12\" >0.000000</td>\n",
       "                        <td id=\"T_138dc373_9535_11ea_81ac_00155dc2efd4row20_col13\" class=\"data row20 col13\" >0.000000</td>\n",
       "                        <td id=\"T_138dc373_9535_11ea_81ac_00155dc2efd4row20_col14\" class=\"data row20 col14\" >0.000000</td>\n",
       "                        <td id=\"T_138dc373_9535_11ea_81ac_00155dc2efd4row20_col15\" class=\"data row20 col15\" >0.000000</td>\n",
       "                        <td id=\"T_138dc373_9535_11ea_81ac_00155dc2efd4row20_col16\" class=\"data row20 col16\" >0.000000</td>\n",
       "                        <td id=\"T_138dc373_9535_11ea_81ac_00155dc2efd4row20_col17\" class=\"data row20 col17\" >0.000000</td>\n",
       "                        <td id=\"T_138dc373_9535_11ea_81ac_00155dc2efd4row20_col18\" class=\"data row20 col18\" >0.000000</td>\n",
       "                        <td id=\"T_138dc373_9535_11ea_81ac_00155dc2efd4row20_col19\" class=\"data row20 col19\" >0.000000</td>\n",
       "                        <td id=\"T_138dc373_9535_11ea_81ac_00155dc2efd4row20_col20\" class=\"data row20 col20\" >0.000000</td>\n",
       "            </tr>\n",
       "            <tr>\n",
       "                        <th id=\"T_138dc373_9535_11ea_81ac_00155dc2efd4level0_row21\" class=\"row_heading level0 row21\" >21</th>\n",
       "                        <td id=\"T_138dc373_9535_11ea_81ac_00155dc2efd4row21_col0\" class=\"data row21 col0\" >0.000000</td>\n",
       "                        <td id=\"T_138dc373_9535_11ea_81ac_00155dc2efd4row21_col1\" class=\"data row21 col1\" >0.000000</td>\n",
       "                        <td id=\"T_138dc373_9535_11ea_81ac_00155dc2efd4row21_col2\" class=\"data row21 col2\" >0.000000</td>\n",
       "                        <td id=\"T_138dc373_9535_11ea_81ac_00155dc2efd4row21_col3\" class=\"data row21 col3\" >0.000000</td>\n",
       "                        <td id=\"T_138dc373_9535_11ea_81ac_00155dc2efd4row21_col4\" class=\"data row21 col4\" >0.000000</td>\n",
       "                        <td id=\"T_138dc373_9535_11ea_81ac_00155dc2efd4row21_col5\" class=\"data row21 col5\" >0.000000</td>\n",
       "                        <td id=\"T_138dc373_9535_11ea_81ac_00155dc2efd4row21_col6\" class=\"data row21 col6\" >0.000000</td>\n",
       "                        <td id=\"T_138dc373_9535_11ea_81ac_00155dc2efd4row21_col7\" class=\"data row21 col7\" >0.000000</td>\n",
       "                        <td id=\"T_138dc373_9535_11ea_81ac_00155dc2efd4row21_col8\" class=\"data row21 col8\" >0.000000</td>\n",
       "                        <td id=\"T_138dc373_9535_11ea_81ac_00155dc2efd4row21_col9\" class=\"data row21 col9\" >0.000000</td>\n",
       "                        <td id=\"T_138dc373_9535_11ea_81ac_00155dc2efd4row21_col10\" class=\"data row21 col10\" >0.000000</td>\n",
       "                        <td id=\"T_138dc373_9535_11ea_81ac_00155dc2efd4row21_col11\" class=\"data row21 col11\" >0.000000</td>\n",
       "                        <td id=\"T_138dc373_9535_11ea_81ac_00155dc2efd4row21_col12\" class=\"data row21 col12\" >0.000000</td>\n",
       "                        <td id=\"T_138dc373_9535_11ea_81ac_00155dc2efd4row21_col13\" class=\"data row21 col13\" >0.000000</td>\n",
       "                        <td id=\"T_138dc373_9535_11ea_81ac_00155dc2efd4row21_col14\" class=\"data row21 col14\" >0.000000</td>\n",
       "                        <td id=\"T_138dc373_9535_11ea_81ac_00155dc2efd4row21_col15\" class=\"data row21 col15\" >0.000000</td>\n",
       "                        <td id=\"T_138dc373_9535_11ea_81ac_00155dc2efd4row21_col16\" class=\"data row21 col16\" >0.000000</td>\n",
       "                        <td id=\"T_138dc373_9535_11ea_81ac_00155dc2efd4row21_col17\" class=\"data row21 col17\" >0.000000</td>\n",
       "                        <td id=\"T_138dc373_9535_11ea_81ac_00155dc2efd4row21_col18\" class=\"data row21 col18\" >0.000000</td>\n",
       "                        <td id=\"T_138dc373_9535_11ea_81ac_00155dc2efd4row21_col19\" class=\"data row21 col19\" >0.000000</td>\n",
       "                        <td id=\"T_138dc373_9535_11ea_81ac_00155dc2efd4row21_col20\" class=\"data row21 col20\" >0.000000</td>\n",
       "            </tr>\n",
       "    </tbody></table>"
      ],
      "text/plain": [
       "<pandas.io.formats.style.Styler at 0x1f4558a0af0>"
      ]
     },
     "execution_count": 34,
     "metadata": {},
     "output_type": "execute_result"
    }
   ],
   "source": [
    "n_img = x_train[1].reshape(28,28)\n",
    "df = pd.DataFrame(n_img[4:26,5:26])\n",
    "df.style.set_properties(**{'font-size':'6pt'}).background_gradient('Greys')"
   ]
  },
  {
   "cell_type": "markdown",
   "metadata": {},
   "source": [
    "For Pytorch its necessary to convert the Numpy arrays into Tensors."
   ]
  },
  {
   "cell_type": "code",
   "execution_count": 35,
   "metadata": {},
   "outputs": [],
   "source": [
    "x_train, y_train, x_valid, y_valid = map(tensor, (x_train, y_train, x_valid, y_valid))"
   ]
  },
  {
   "cell_type": "code",
   "execution_count": 36,
   "metadata": {},
   "outputs": [],
   "source": [
    "x_train[0][:20]\n",
    "r,c = x_train.shape"
   ]
  },
  {
   "cell_type": "markdown",
   "metadata": {},
   "source": [
    "Each image has a corresponding y value - an integer between 0 and 9."
   ]
  },
  {
   "cell_type": "code",
   "execution_count": 37,
   "metadata": {},
   "outputs": [
    {
     "data": {
      "text/plain": [
       "tensor([5, 0, 4,  ..., 8, 4, 8])"
      ]
     },
     "execution_count": 37,
     "metadata": {},
     "output_type": "execute_result"
    }
   ],
   "source": [
    "y_train"
   ]
  },
  {
   "cell_type": "code",
   "execution_count": 38,
   "metadata": {},
   "outputs": [
    {
     "data": {
      "text/plain": [
       "(torch.Size([50000]), tensor(0), tensor(9))"
      ]
     },
     "execution_count": 38,
     "metadata": {},
     "output_type": "execute_result"
    }
   ],
   "source": [
    "y_train.shape, y_train.min(), y_train.max()"
   ]
  },
  {
   "cell_type": "code",
   "execution_count": 39,
   "metadata": {},
   "outputs": [],
   "source": [
    "assert r==y_train.shape[0]==50000\n",
    "test_eq(c,28*28)\n",
    "test_eq(y_train.min(),0)\n",
    "test_eq(y_train.max(),9)"
   ]
  },
  {
   "cell_type": "markdown",
   "metadata": {},
   "source": [
    "We can view the first training example by reshaping it into a 28x28 matrix and using `plt.imshow`"
   ]
  },
  {
   "cell_type": "code",
   "execution_count": 40,
   "metadata": {},
   "outputs": [
    {
     "data": {
      "text/plain": [
       "'torch.FloatTensor'"
      ]
     },
     "execution_count": 40,
     "metadata": {},
     "output_type": "execute_result"
    }
   ],
   "source": [
    "img = x_train[0].view(28,28)\n",
    "img.view(28,28).type()"
   ]
  },
  {
   "cell_type": "code",
   "execution_count": 41,
   "metadata": {},
   "outputs": [
    {
     "data": {
      "text/plain": [
       "<matplotlib.image.AxesImage at 0x1f4075a9ca0>"
      ]
     },
     "execution_count": 41,
     "metadata": {},
     "output_type": "execute_result"
    },
    {
     "data": {
      "image/png": "[encoded data removed]",
      "text/plain": [
       "<Figure size 432x288 with 1 Axes>"
      ]
     },
     "metadata": {
      "needs_background": "light"
     },
     "output_type": "display_data"
    }
   ],
   "source": [
    "plt.imshow(img)"
   ]
  },
  {
   "cell_type": "markdown",
   "metadata": {},
   "source": [
    "## Matrix Multiplication"
   ]
  },
  {
   "cell_type": "markdown",
   "metadata": {},
   "source": [
    "The backbone of deep learning is matrix multiplication. \n",
    "\n",
    "A matrix multiplication is a linear combination of the rows of some matrix, $X$ here, and the columns of a second matrix, $W$. \n",
    "\n",
    "Its \"linear\" because we are only multplying and adding - not exponents or anything fancy. \n",
    "\n",
    "<p> \n",
    "$$ \\begin{bmatrix} x_1 & x_2 & x_3  \\\\ x_4 & x_5 & x_6  \\\\ x_7 & x_8 & x_9 \\end{bmatrix} \\cdot \\begin{bmatrix} w_1 & w_2 \\\\  w_3 & w_4 \\\\ w_5 & w_6\\end{bmatrix} + \\begin{bmatrix} b_1 \\\\  b_2 \\\\ b_3 \\end{bmatrix} = \\begin{bmatrix} a_1 & a_2 \\\\a_3 & a_4 \\\\ a_5 & a_6\\end{bmatrix} $$\n",
    "</p>\n",
    "    \n",
    "The $b$ vector is the bias. We'll discuss that at a later point. \n",
    "\n",
    "For now its enough to imagine this fancy \"neural network\" being a box that takes inputs does some matrix multplication on them and outputs a prediction."
   ]
  },
  {
   "cell_type": "code",
   "execution_count": 42,
   "metadata": {},
   "outputs": [],
   "source": [
    "#export\n",
    "def gv(s): return graphviz.Source('digraph G{ rankdir=\"LR\"' + s + '; }')"
   ]
  },
  {
   "cell_type": "code",
   "execution_count": 43,
   "metadata": {
    "scrolled": true
   },
   "outputs": [
    {
     "data": {
      "image/svg+xml": [
       "<?xml version=\"1.0\" encoding=\"UTF-8\" standalone=\"no\"?>\r\n",
       "<!DOCTYPE svg PUBLIC \"-//W3C//DTD SVG 1.1//EN\"\r\n",
       " \"http://www.w3.org/Graphics/SVG/1.1/DTD/svg11.dtd\">\r\n",
       "<!-- Generated by graphviz version 2.38.0 (20140413.2041)\r\n",
       " -->\r\n",
       "<!-- Title: G Pages: 1 -->\r\n",
       "<svg width=\"376pt\" height=\"73pt\"\r\n",
       " viewBox=\"0.00 0.00 376.09 73.00\" xmlns=\"http://www.w3.org/2000/svg\" xmlns:xlink=\"http://www.w3.org/1999/xlink\">\r\n",
       "<g id=\"graph0\" class=\"graph\" transform=\"scale(1 1) rotate(0) translate(4 69)\">\r\n",
       "<title>G</title>\r\n",
       "<polygon fill=\"white\" stroke=\"none\" points=\"-4,4 -4,-69 372.087,-69 372.087,4 -4,4\"/>\r\n",
       "<!-- neural_network -->\r\n",
       "<g id=\"node1\" class=\"node\"><title>neural_network</title>\r\n",
       "<polygon fill=\"none\" stroke=\"black\" points=\"237.195,-65 97.1949,-65 93.1949,-61 93.1949,-0 233.195,-0 237.195,-4 237.195,-65\"/>\r\n",
       "<polyline fill=\"none\" stroke=\"black\" points=\"233.195,-61 93.1949,-61 \"/>\r\n",
       "<polyline fill=\"none\" stroke=\"black\" points=\"233.195,-61 233.195,-0 \"/>\r\n",
       "<polyline fill=\"none\" stroke=\"black\" points=\"233.195,-61 237.195,-65 \"/>\r\n",
       "<text text-anchor=\"middle\" x=\"165.195\" y=\"-28.8\" font-family=\"Times New Roman,serif\" font-size=\"14.00\">neural_network</text>\r\n",
       "</g>\r\n",
       "<!-- prediction -->\r\n",
       "<g id=\"node3\" class=\"node\"><title>prediction</title>\r\n",
       "<ellipse fill=\"none\" stroke=\"black\" cx=\"320.641\" cy=\"-32.5\" rx=\"47.3916\" ry=\"18\"/>\r\n",
       "<text text-anchor=\"middle\" x=\"320.641\" y=\"-28.8\" font-family=\"Times New Roman,serif\" font-size=\"14.00\">prediction</text>\r\n",
       "</g>\r\n",
       "<!-- neural_network&#45;&gt;prediction -->\r\n",
       "<g id=\"edge2\" class=\"edge\"><title>neural_network&#45;&gt;prediction</title>\r\n",
       "<path fill=\"none\" stroke=\"black\" d=\"M237.527,-32.5C246.002,-32.5 254.564,-32.5 262.799,-32.5\"/>\r\n",
       "<polygon fill=\"black\" stroke=\"black\" points=\"263.023,-36.0001 273.023,-32.5 263.023,-29.0001 263.023,-36.0001\"/>\r\n",
       "</g>\r\n",
       "<!-- input -->\r\n",
       "<g id=\"node2\" class=\"node\"><title>input</title>\r\n",
       "<ellipse fill=\"none\" stroke=\"black\" cx=\"28.5975\" cy=\"-32.5\" rx=\"28.6953\" ry=\"18\"/>\r\n",
       "<text text-anchor=\"middle\" x=\"28.5975\" y=\"-28.8\" font-family=\"Times New Roman,serif\" font-size=\"14.00\">input</text>\r\n",
       "</g>\r\n",
       "<!-- input&#45;&gt;neural_network -->\r\n",
       "<g id=\"edge1\" class=\"edge\"><title>input&#45;&gt;neural_network</title>\r\n",
       "<path fill=\"none\" stroke=\"black\" d=\"M57.4861,-32.5C65.0948,-32.5 73.7411,-32.5 82.7412,-32.5\"/>\r\n",
       "<polygon fill=\"black\" stroke=\"black\" points=\"83.0165,-36.0001 93.0164,-32.5 83.0164,-29.0001 83.0165,-36.0001\"/>\r\n",
       "</g>\r\n",
       "</g>\r\n",
       "</svg>\r\n"
      ],
      "text/plain": [
       "<graphviz.files.Source at 0x1f40e06f3a0>"
      ]
     },
     "execution_count": 43,
     "metadata": {},
     "output_type": "execute_result"
    }
   ],
   "source": [
    "gv('''neural_network[shape=box3d width=2 height=0.9]\n",
    "input->neural_network->prediction''')"
   ]
  },
  {
   "cell_type": "markdown",
   "metadata": {},
   "source": [
    "### Matrix Multiplication v1"
   ]
  },
  {
   "cell_type": "markdown",
   "metadata": {},
   "source": [
    "Now we'll start by writing a matrix multiplication function from scratch in pure Python."
   ]
  },
  {
   "cell_type": "code",
   "execution_count": 44,
   "metadata": {},
   "outputs": [],
   "source": [
    "def matmul(a,b):\n",
    "    \"\"\"Basic Matrix Multiplication in pure python\"\"\"\n",
    "    ar,ac = a.shape # num of rows x num of cols\n",
    "    br,bc = b.shape\n",
    "    assert ac==br # assert that there are the same number of columns in a as rows in b\n",
    "    c = torch.zeros(ar,bc) # initialize empty matrix for result\n",
    "    for i in range(ar):\n",
    "        for j in range(bc):\n",
    "            for k in range(ac):\n",
    "                c[i,j] += a[i,k] * b[k,j]\n",
    "    return c"
   ]
  },
  {
   "cell_type": "markdown",
   "metadata": {},
   "source": [
    "We'll test that it works on a toy example:\n",
    "<p>\n",
    "$$ \\begin{bmatrix} 1 & 2 & 3  \\\\ 4 &5 &6\\end{bmatrix} \\cdot \\begin{bmatrix} 2 & 3 \\\\2 & 3\\\\2 & 3\\end{bmatrix} = \\begin{bmatrix} 12 & 18\\\\30 & 45\\end{bmatrix} $$\n",
    "</p>"
   ]
  },
  {
   "cell_type": "code",
   "execution_count": 45,
   "metadata": {},
   "outputs": [
    {
     "data": {
      "text/plain": [
       "tensor([[12., 18.],\n",
       "        [30., 45.]])"
      ]
     },
     "execution_count": 45,
     "metadata": {},
     "output_type": "execute_result"
    }
   ],
   "source": [
    "a = tensor([[1,2,3],[4,5,6]])\n",
    "b = tensor([[2,3],[2,3], [2,3]])\n",
    "\n",
    "matmul(a,b)"
   ]
  },
  {
   "cell_type": "markdown",
   "metadata": {},
   "source": [
    "Okay, it works. But since this is such a core operation of deep learning, repeatedly used in every neural network often with millions of parameters, we need it to be fast - very fast. \n",
    "\n",
    "Let's make some matrices of random numbers as weights and use a few of our MNIST examples. "
   ]
  },
  {
   "cell_type": "code",
   "execution_count": 46,
   "metadata": {},
   "outputs": [],
   "source": [
    "weights = torch.randn(784, 10)\n",
    "bias = torch.zeros(10)"
   ]
  },
  {
   "cell_type": "code",
   "execution_count": 47,
   "metadata": {},
   "outputs": [
    {
     "data": {
      "text/plain": [
       "(tensor([[-1.7747,  1.1246,  0.0494,  ...,  0.3312,  1.1700, -0.5437],\n",
       "         [ 0.4733,  1.7568, -0.5510,  ..., -1.0462, -0.8708,  0.8382],\n",
       "         [-0.4069,  0.1494, -1.0096,  ..., -1.4336,  0.3325, -0.3415],\n",
       "         ...,\n",
       "         [-2.0761, -1.4836,  1.1158,  ..., -1.3155,  1.1339, -0.1648],\n",
       "         [ 1.4378,  0.2523, -0.1588,  ..., -1.3448,  1.4248, -0.9081],\n",
       "         [ 0.7327,  1.9936, -1.5039,  ..., -0.8908,  0.8055, -2.2542]]),\n",
       " tensor([0., 0., 0., 0., 0., 0., 0., 0., 0., 0.]))"
      ]
     },
     "execution_count": 47,
     "metadata": {},
     "output_type": "execute_result"
    }
   ],
   "source": [
    "weights, bias"
   ]
  },
  {
   "cell_type": "code",
   "execution_count": 48,
   "metadata": {},
   "outputs": [],
   "source": [
    "m1 = x_valid[:5]\n",
    "m2 = weights"
   ]
  },
  {
   "cell_type": "code",
   "execution_count": 49,
   "metadata": {},
   "outputs": [
    {
     "data": {
      "text/plain": [
       "(torch.Size([5, 784]), torch.Size([784, 10]))"
      ]
     },
     "execution_count": 49,
     "metadata": {},
     "output_type": "execute_result"
    }
   ],
   "source": [
    "m1.shape, m2.shape"
   ]
  },
  {
   "cell_type": "markdown",
   "metadata": {},
   "source": [
    "We'll use the builtin magic command `%time`: \n",
    "\n",
    "\"The CPU and wall clock times are printed, and the value of the expression (if any) is returned.\""
   ]
  },
  {
   "cell_type": "code",
   "execution_count": 50,
   "metadata": {},
   "outputs": [
    {
     "name": "stdout",
     "output_type": "stream",
     "text": [
      "Wall time: 779 ms\n"
     ]
    }
   ],
   "source": [
    "%time t1 = matmul(m1,m2)"
   ]
  },
  {
   "cell_type": "markdown",
   "metadata": {},
   "source": [
    "For this rather small matrix multplication the pure python implementation took roughly 1 second. \n",
    "\n",
    "We'll need to speed this up significantly."
   ]
  },
  {
   "cell_type": "code",
   "execution_count": 51,
   "metadata": {},
   "outputs": [
    {
     "data": {
      "text/plain": [
       "torch.Size([5, 10])"
      ]
     },
     "execution_count": 51,
     "metadata": {},
     "output_type": "execute_result"
    }
   ],
   "source": [
    "t1.shape # output shape"
   ]
  },
  {
   "cell_type": "markdown",
   "metadata": {},
   "source": [
    "### Matrix Multiplication v2: Elementwise"
   ]
  },
  {
   "cell_type": "markdown",
   "metadata": {},
   "source": [
    "The most obvious tweak we can make to the v1 is instead of multiplying and adding each element we can multiply rows and columns elementwise and then sum the results. "
   ]
  },
  {
   "cell_type": "code",
   "execution_count": 52,
   "metadata": {},
   "outputs": [],
   "source": [
    "def matmul(a,b):\n",
    "    \"\"\"Elmentwise matrix multiplication in pure python\"\"\"\n",
    "    ar,ac = a.shape # num of rows x num of cols\n",
    "    br,bc = b.shape\n",
    "    assert ac==br # assert that there are the same number of columns in a as rows in b\n",
    "    c = torch.zeros(ar,bc) # initialize empty matrix for result\n",
    "    for i in range(ar):\n",
    "        for k in range(bc):\n",
    "            c[i,k] = (a[i,:] * b[:,k]).sum()\n",
    "    return c"
   ]
  },
  {
   "cell_type": "code",
   "execution_count": 53,
   "metadata": {},
   "outputs": [
    {
     "data": {
      "text/plain": [
       "tensor([[12., 18.],\n",
       "        [30., 45.]])"
      ]
     },
     "execution_count": 53,
     "metadata": {},
     "output_type": "execute_result"
    }
   ],
   "source": [
    "matmul(a,b)"
   ]
  },
  {
   "cell_type": "markdown",
   "metadata": {},
   "source": [
    "Again it works now let's see if how much that improved the speed. "
   ]
  },
  {
   "cell_type": "code",
   "execution_count": 54,
   "metadata": {},
   "outputs": [
    {
     "name": "stdout",
     "output_type": "stream",
     "text": [
      "1.08 ms ± 29 µs per loop (mean ± std. dev. of 7 runs, 10 loops each)\n"
     ]
    }
   ],
   "source": [
    "%timeit -n 10 _= matmul(m1,m2)"
   ]
  },
  {
   "cell_type": "code",
   "execution_count": 55,
   "metadata": {},
   "outputs": [
    {
     "data": {
      "text/plain": [
       "657.0247933884298"
      ]
     },
     "execution_count": 55,
     "metadata": {},
     "output_type": "execute_result"
    }
   ],
   "source": [
    "795 / 1.21"
   ]
  },
  {
   "cell_type": "markdown",
   "metadata": {},
   "source": [
    "Wow. Simply utliziing elementwise multiplication and Pytorch `sum` improved the speed by 600x\n",
    "\n",
    "Let's create a quick test make sure our answers are (nearly) identical."
   ]
  },
  {
   "cell_type": "code",
   "execution_count": 56,
   "metadata": {},
   "outputs": [],
   "source": [
    "#export\n",
    "def near(a,b): \n",
    "    \"\"\"Test if two tensors are nearly identical\"\"\"\n",
    "    return torch.allclose(a,b, rtol=1e-03, atol=1e-05)\n",
    "\n",
    "def test_near(a,b): \n",
    "    test(a,b, near)"
   ]
  },
  {
   "cell_type": "code",
   "execution_count": 57,
   "metadata": {},
   "outputs": [],
   "source": [
    "test_near(matmul(m1, m2), t1)"
   ]
  },
  {
   "cell_type": "markdown",
   "metadata": {},
   "source": [
    "### Matrix Multiplication v3: Broadcasting"
   ]
  },
  {
   "cell_type": "markdown",
   "metadata": {},
   "source": [
    "Another way is to broadcast a row of `a` over `b`. \n",
    "\n",
    "If we reshape each row of `a` to be a column vector we get:"
   ]
  },
  {
   "cell_type": "code",
   "execution_count": 58,
   "metadata": {},
   "outputs": [
    {
     "data": {
      "text/plain": [
       "tensor([[1],\n",
       "        [2],\n",
       "        [3]])"
      ]
     },
     "execution_count": 58,
     "metadata": {},
     "output_type": "execute_result"
    }
   ],
   "source": [
    "a[0].unsqueeze(-1)"
   ]
  },
  {
   "cell_type": "markdown",
   "metadata": {},
   "source": [
    "Now that can be broadcast over `b` and we'll do an elementwise multiplication:"
   ]
  },
  {
   "cell_type": "code",
   "execution_count": 59,
   "metadata": {},
   "outputs": [
    {
     "data": {
      "text/plain": [
       "tensor([[2, 3],\n",
       "        [4, 6],\n",
       "        [6, 9]])"
      ]
     },
     "execution_count": 59,
     "metadata": {},
     "output_type": "execute_result"
    }
   ],
   "source": [
    "a[0].unsqueeze(-1) * b"
   ]
  },
  {
   "cell_type": "markdown",
   "metadata": {},
   "source": [
    "We can also use `None` to reshape `a` into a column vector."
   ]
  },
  {
   "cell_type": "code",
   "execution_count": 60,
   "metadata": {},
   "outputs": [
    {
     "data": {
      "text/plain": [
       "tensor([[2, 3],\n",
       "        [4, 6],\n",
       "        [6, 9]])"
      ]
     },
     "execution_count": 60,
     "metadata": {},
     "output_type": "execute_result"
    }
   ],
   "source": [
    "a[0, ..., None] * b"
   ]
  },
  {
   "cell_type": "markdown",
   "metadata": {},
   "source": [
    "We just need to sum over the columns:"
   ]
  },
  {
   "cell_type": "code",
   "execution_count": 61,
   "metadata": {},
   "outputs": [
    {
     "data": {
      "text/plain": [
       "tensor([12, 18])"
      ]
     },
     "execution_count": 61,
     "metadata": {},
     "output_type": "execute_result"
    }
   ],
   "source": [
    "(a[0].unsqueeze(-1) * b).sum(dim=0)"
   ]
  },
  {
   "cell_type": "markdown",
   "metadata": {},
   "source": [
    "And that gives us our first row of the product of `a` and `b`. \n",
    "\n",
    "We just need to iterate over each row of `a` and do this broadcast/elementwise operation. "
   ]
  },
  {
   "cell_type": "code",
   "execution_count": 62,
   "metadata": {},
   "outputs": [],
   "source": [
    "def matmul(a,b):\n",
    "    ar,ac = a.shape\n",
    "    br,bc = b.shape\n",
    "    assert ac==br\n",
    "    c = torch.zeros((ar, bc))\n",
    "    for i in range(ar):\n",
    "        c[i] = (a[i].unsqueeze(-1) * b).sum(dim=0)  \n",
    "    return c "
   ]
  },
  {
   "cell_type": "code",
   "execution_count": 63,
   "metadata": {},
   "outputs": [
    {
     "data": {
      "text/plain": [
       "tensor([[12., 18.],\n",
       "        [30., 45.]])"
      ]
     },
     "execution_count": 63,
     "metadata": {},
     "output_type": "execute_result"
    }
   ],
   "source": [
    "matmul(a,b)"
   ]
  },
  {
   "cell_type": "code",
   "execution_count": 64,
   "metadata": {},
   "outputs": [
    {
     "name": "stdout",
     "output_type": "stream",
     "text": [
      "280 µs ± 7.15 µs per loop (mean ± std. dev. of 7 runs, 10 loops each)\n"
     ]
    }
   ],
   "source": [
    "%timeit -n 10 _=matmul(m1, m2)"
   ]
  },
  {
   "cell_type": "markdown",
   "metadata": {},
   "source": [
    "By eliminating one of the loops and relying on broadcasting it's about 4 times faster than just doing elementwise multiplication."
   ]
  },
  {
   "cell_type": "code",
   "execution_count": 65,
   "metadata": {},
   "outputs": [
    {
     "data": {
      "text/plain": [
       "3022.813688212928"
      ]
     },
     "execution_count": 65,
     "metadata": {},
     "output_type": "execute_result"
    }
   ],
   "source": [
    "(795*1000) / 263"
   ]
  },
  {
   "cell_type": "markdown",
   "metadata": {},
   "source": [
    "We're about 3000x faster than python now. "
   ]
  },
  {
   "cell_type": "code",
   "execution_count": 66,
   "metadata": {},
   "outputs": [],
   "source": [
    "test_near(t1, matmul(m1, m2))"
   ]
  },
  {
   "cell_type": "markdown",
   "metadata": {},
   "source": [
    "### Matrix Multiplication v4: Einstein Summation"
   ]
  },
  {
   "cell_type": "markdown",
   "metadata": {},
   "source": [
    "Einstein summation (`einsum`) is a compact representation for combining products and sums in a general way. From the numpy docs:\n",
    "\n",
    "\"The subscripts string is a comma-separated list of subscript labels, where each label refers to a dimension of the corresponding operand. Whenever a label is repeated it is summed, so `np.einsum('i,i', a, b)` is equivalent to `np.inner(a,b)`. If a label appears only once, it is not summed, so `np.einsum('i', a)` produces a view of a with no changes.\""
   ]
  },
  {
   "cell_type": "code",
   "execution_count": 67,
   "metadata": {},
   "outputs": [],
   "source": [
    "def matmul(a,b): \n",
    "    return torch.einsum('ik,kj->ij', a, b)"
   ]
  },
  {
   "cell_type": "code",
   "execution_count": 68,
   "metadata": {},
   "outputs": [
    {
     "name": "stdout",
     "output_type": "stream",
     "text": [
      "39.5 µs ± 9.61 µs per loop (mean ± std. dev. of 7 runs, 10 loops each)\n"
     ]
    }
   ],
   "source": [
    "%timeit -n 10 _=matmul(m1, m2)"
   ]
  },
  {
   "cell_type": "markdown",
   "metadata": {},
   "source": [
    "It's even faster than v3... but the fundamentals are Pytorch. "
   ]
  },
  {
   "cell_type": "markdown",
   "metadata": {},
   "source": [
    "### Matrix Multiplication: Pytorch"
   ]
  },
  {
   "cell_type": "markdown",
   "metadata": {},
   "source": [
    "Now we'll use Pytorch's matrix multiplication function. \n",
    "\n",
    "Pytorch pushes the computation to a BLAS library called MKL (Math Kernel Library)"
   ]
  },
  {
   "cell_type": "code",
   "execution_count": 69,
   "metadata": {},
   "outputs": [
    {
     "data": {
      "text/plain": [
       "'PyTorch built with:\\n  - MSVC 191125547\\n  - Intel(R) Math Kernel Library Version 2019.0.4 Product Build 20190411 for Intel(R) 64 architecture applications\\n  - OpenMP 200203\\n  - CUDA Runtime 10.1\\n  - NVCC architecture flags: -gencode;arch=compute_37,code=sm_37;-gencode;arch=compute_50,code=sm_50;-gencode;arch=compute_60,code=sm_60;-gencode;arch=compute_61,code=sm_61;-gencode;arch=compute_70,code=sm_70;-gencode;arch=compute_75,code=sm_75;-gencode;arch=compute_37,code=compute_37\\n  - CuDNN 7.5.1\\n  - Magma 2.5.1\\n  - Build settings: BLAS=MKL, BUILD_NAMEDTENSOR=OFF, BUILD_TYPE=Release, CXX_FLAGS=/DWIN32 /D_WINDOWS  /GR  /w /EHa /MP /bigobj -openmp, DISABLE_NUMA=1, PERF_WITH_AVX=1, PERF_WITH_AVX2=1, USE_CUDA=ON, USE_EXCEPTION_PTR=1, USE_GFLAGS=OFF, USE_GLOG=OFF, USE_MKL=ON, USE_MKLDNN=OFF, USE_MPI=OFF, USE_NCCL=OFF, USE_NNPACK=OFF, USE_OPENMP=ON, USE_STATIC_DISPATCH=OFF, \\n'"
      ]
     },
     "execution_count": 69,
     "metadata": {},
     "output_type": "execute_result"
    }
   ],
   "source": [
    "torch.__config__.show()"
   ]
  },
  {
   "cell_type": "markdown",
   "metadata": {},
   "source": [
    "And its fast...."
   ]
  },
  {
   "cell_type": "code",
   "execution_count": 70,
   "metadata": {},
   "outputs": [
    {
     "name": "stdout",
     "output_type": "stream",
     "text": [
      "6.28 µs ± 3.17 µs per loop (mean ± std. dev. of 7 runs, 10 loops each)\n"
     ]
    }
   ],
   "source": [
    "%timeit -n 10 t2 = m1.matmul(m2)"
   ]
  },
  {
   "cell_type": "markdown",
   "metadata": {},
   "source": [
    "Compared to the triple loop pure python implementation Pytorch is 44,000 times faster!"
   ]
  },
  {
   "cell_type": "code",
   "execution_count": 71,
   "metadata": {},
   "outputs": [
    {
     "data": {
      "text/plain": [
       "44166.666666666664"
      ]
     },
     "execution_count": 71,
     "metadata": {},
     "output_type": "execute_result"
    }
   ],
   "source": [
    "(795*1000) /18"
   ]
  },
  {
   "cell_type": "code",
   "execution_count": 72,
   "metadata": {},
   "outputs": [],
   "source": [
    "t2 = m1@m2"
   ]
  },
  {
   "cell_type": "code",
   "execution_count": 73,
   "metadata": {},
   "outputs": [],
   "source": [
    "test_near(t1, t2)"
   ]
  },
  {
   "cell_type": "markdown",
   "metadata": {},
   "source": [
    "## '@'"
   ]
  },
  {
   "cell_type": "markdown",
   "metadata": {},
   "source": [
    "The `@` operater allows us to do vector-matrix operations, as well as matrix multiplications."
   ]
  },
  {
   "cell_type": "code",
   "execution_count": 74,
   "metadata": {},
   "outputs": [
    {
     "data": {
      "text/plain": [
       "(tensor([2, 6, 1]),\n",
       " tensor([[8, 8, 6],\n",
       "         [4, 4, 8],\n",
       "         [6, 1, 7]]))"
      ]
     },
     "execution_count": 74,
     "metadata": {},
     "output_type": "execute_result"
    }
   ],
   "source": [
    "a = torch.randint(1,9, (3,))\n",
    "b = torch.randint(1,9, (3,3)); a,b"
   ]
  },
  {
   "cell_type": "code",
   "execution_count": 75,
   "metadata": {},
   "outputs": [
    {
     "data": {
      "text/plain": [
       "tensor([46, 41, 67])"
      ]
     },
     "execution_count": 75,
     "metadata": {},
     "output_type": "execute_result"
    }
   ],
   "source": [
    "a@b"
   ]
  },
  {
   "cell_type": "code",
   "execution_count": 76,
   "metadata": {},
   "outputs": [
    {
     "data": {
      "text/plain": [
       "tensor([70, 40, 25])"
      ]
     },
     "execution_count": 76,
     "metadata": {},
     "output_type": "execute_result"
    }
   ],
   "source": [
    "b@a"
   ]
  },
  {
   "cell_type": "code",
   "execution_count": 77,
   "metadata": {},
   "outputs": [
    {
     "name": "stdout",
     "output_type": "stream",
     "text": [
      "Converted 01_tensors_matmul.ipynb to exp\\nb_01.py\n"
     ]
    }
   ],
   "source": [
    "!python notebook2script.py 01_tensors_matmul.ipynb"
   ]
  },
  {
   "cell_type": "code",
   "execution_count": null,
   "metadata": {},
   "outputs": [],
   "source": []
  }
 ],
 "metadata": {
  "kernelspec": {
   "display_name": "Python 3",
   "language": "python",
   "name": "python3"
  },
  "language_info": {
   "codemirror_mode": {
    "name": "ipython",
    "version": 3
   },
   "file_extension": ".py",
   "mimetype": "text/x-python",
   "name": "python",
   "nbconvert_exporter": "python",
   "pygments_lexer": "ipython3",
   "version": "3.8.2"
  },
  "toc": {
   "base_numbering": 1,
   "nav_menu": {},
   "number_sections": true,
   "sideBar": true,
   "skip_h1_title": false,
   "title_cell": "Table of Contents",
   "title_sidebar": "Contents",
   "toc_cell": false,
   "toc_position": {},
   "toc_section_display": true,
   "toc_window_display": false
  }
 },
 "nbformat": 4,
 "nbformat_minor": 2
}
