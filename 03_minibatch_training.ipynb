{
 "cells": [
  {
   "cell_type": "code",
   "execution_count": 1,
   "metadata": {},
   "outputs": [],
   "source": [
    "%reload_ext autoreload\n",
    "%autoreload 2\n",
    "%matplotlib inline"
   ]
  },
  {
   "cell_type": "markdown",
   "metadata": {},
   "source": [
    "# Mini Batch Training\n",
    "> Basic training loop, Parameters, and Optim"
   ]
  },
  {
   "cell_type": "markdown",
   "metadata": {},
   "source": [
    "We're going to start training!"
   ]
  },
  {
   "cell_type": "code",
   "execution_count": 2,
   "metadata": {},
   "outputs": [],
   "source": [
    "#export\n",
    "from exp.nb_02 import *\n",
    "\n",
    "import torch.nn as nn\n",
    "import torch.nn.functional as F\n",
    "from torch import optim\n",
    "from torch.utils.data import DataLoader, SequentialSampler, RandomSampler"
   ]
  },
  {
   "cell_type": "markdown",
   "metadata": {},
   "source": [
    "## Data"
   ]
  },
  {
   "cell_type": "code",
   "execution_count": 3,
   "metadata": {},
   "outputs": [],
   "source": [
    "x_train,y_train,x_valid,y_valid = get_data()"
   ]
  },
  {
   "cell_type": "code",
   "execution_count": 4,
   "metadata": {},
   "outputs": [
    {
     "data": {
      "text/plain": [
       "torch.Size([50000, 784])"
      ]
     },
     "execution_count": 4,
     "metadata": {},
     "output_type": "execute_result"
    }
   ],
   "source": [
    "x_train.shape"
   ]
  },
  {
   "cell_type": "code",
   "execution_count": 5,
   "metadata": {},
   "outputs": [],
   "source": [
    "n, m = x_train.shape"
   ]
  },
  {
   "cell_type": "code",
   "execution_count": 6,
   "metadata": {},
   "outputs": [
    {
     "data": {
      "text/plain": [
       "tensor(10)"
      ]
     },
     "execution_count": 6,
     "metadata": {},
     "output_type": "execute_result"
    }
   ],
   "source": [
    "c = y_train.max()+1;c "
   ]
  },
  {
   "cell_type": "markdown",
   "metadata": {},
   "source": [
    "## Basic Model and Preds"
   ]
  },
  {
   "cell_type": "code",
   "execution_count": 7,
   "metadata": {},
   "outputs": [],
   "source": [
    "nh = 50"
   ]
  },
  {
   "cell_type": "code",
   "execution_count": 8,
   "metadata": {},
   "outputs": [],
   "source": [
    "class Model(nn.Module):\n",
    "    def __init__(self, n_in, nh, n_out):\n",
    "        super().__init__()\n",
    "        self.layers = [nn.Linear(n_in, nh), nn.ReLU(), nn.Linear(nh, n_out)]\n",
    "    def __call__(self, x):\n",
    "        for l in self.layers: x = l(x)\n",
    "        return x"
   ]
  },
  {
   "cell_type": "code",
   "execution_count": 9,
   "metadata": {},
   "outputs": [],
   "source": [
    "model = Model(m, nh, 10)"
   ]
  },
  {
   "cell_type": "code",
   "execution_count": 10,
   "metadata": {},
   "outputs": [],
   "source": [
    "pred = model(x_train)"
   ]
  },
  {
   "cell_type": "markdown",
   "metadata": {},
   "source": [
    "## Loss Function: Cross Entropy Loss"
   ]
  },
  {
   "cell_type": "markdown",
   "metadata": {},
   "source": [
    "Each grayscale image of a handwritten shape in our dataset has exactly 1 correct answer - an integer between 0 and 9 - these are called the labels or targets. \n",
    "\n",
    "Our `y_train` is a tensor of integers that map to the `x_train` images. \n",
    "\n",
    "We can index into the `y_train` to see the labels to images 0, 1, and 2. "
   ]
  },
  {
   "cell_type": "code",
   "execution_count": 11,
   "metadata": {},
   "outputs": [
    {
     "data": {
      "text/plain": [
       "tensor([5, 0, 4])"
      ]
     },
     "execution_count": 11,
     "metadata": {},
     "output_type": "execute_result"
    }
   ],
   "source": [
    "y_train[:3]"
   ]
  },
  {
   "cell_type": "markdown",
   "metadata": {},
   "source": [
    "We could also think of these labels as one-hot encoded vectors of length 10 where the label corresponds to a 1 at the label's index and everything else is a zero."
   ]
  },
  {
   "cell_type": "code",
   "execution_count": 12,
   "metadata": {},
   "outputs": [
    {
     "data": {
      "text/plain": [
       "tensor([0., 0., 0., 0., 0., 1., 0., 0., 0., 0.])"
      ]
     },
     "execution_count": 12,
     "metadata": {},
     "output_type": "execute_result"
    }
   ],
   "source": [
    "y0 = torch.zeros(10)\n",
    "y0[y_train[0]] = 1\n",
    "y0"
   ]
  },
  {
   "cell_type": "markdown",
   "metadata": {},
   "source": [
    "The model's output is simply a length 10 vector for every example that is the result of numerous matrix multiplications:"
   ]
  },
  {
   "cell_type": "code",
   "execution_count": 13,
   "metadata": {},
   "outputs": [
    {
     "data": {
      "text/plain": [
       "tensor([ 0.0918,  0.0414,  0.1069, -0.1664,  0.0340,  0.1779,  0.0468, -0.0298,\n",
       "        -0.0210, -0.1646], grad_fn=<SelectBackward>)"
      ]
     },
     "execution_count": 13,
     "metadata": {},
     "output_type": "execute_result"
    }
   ],
   "source": [
    "pred[0]"
   ]
  },
  {
   "cell_type": "markdown",
   "metadata": {},
   "source": [
    "### Softmax"
   ]
  },
  {
   "cell_type": "markdown",
   "metadata": {},
   "source": [
    "What we would like is a probability distribution over each of our 10 classes: each class gets a probabilty, the highest corresponds to the class the model has learned is the most \"correct\". The model most therefore learn and adjust its parameters by quantifying how wrong its guess was.\n",
    "\n",
    "In order to accomplish this for our multi-class problem we'll use cross entropy loss.\n",
    "\n",
    "The first step is to scale the outputs by putting them through a softmax function:\n",
    "<p>\n",
    "$$\\hbox{softmax(x)}_{i} = \\frac{e^{x_{i}}}{\\sum_{0 \\leq j \\leq n-1} e^{x_{j}}}$$ \n",
    "</p>\n",
    "\n",
    "This turns our length 10 output vector into a probability distribution.\n",
    "\n",
    "For example, for the numerator, to raise the first two rows to the e is just:"
   ]
  },
  {
   "cell_type": "code",
   "execution_count": 14,
   "metadata": {},
   "outputs": [
    {
     "data": {
      "text/plain": [
       "tensor([[1.0962, 1.0423, 1.1129, 0.8467, 1.0346, 1.1947, 1.0479, 0.9706, 0.9792,\n",
       "         0.8483],\n",
       "        [1.0869, 1.0400, 1.1389, 0.9027, 1.0509, 1.3027, 1.1103, 1.0629, 1.0749,\n",
       "         0.8000]], grad_fn=<ExpBackward>)"
      ]
     },
     "execution_count": 14,
     "metadata": {},
     "output_type": "execute_result"
    }
   ],
   "source": [
    "pred[:2].exp()"
   ]
  },
  {
   "cell_type": "markdown",
   "metadata": {},
   "source": [
    "The denominator is trickier because we don't want to sum all of the rows together. We need divide each exponentiated value by its own row. \n",
    "\n",
    "Therefore, this won't work because it lumps everything together:"
   ]
  },
  {
   "cell_type": "code",
   "execution_count": 15,
   "metadata": {},
   "outputs": [
    {
     "data": {
      "text/plain": [
       "tensor(20.7437, grad_fn=<SumBackward0>)"
      ]
     },
     "execution_count": 15,
     "metadata": {},
     "output_type": "execute_result"
    }
   ],
   "source": [
    "pred[:2].exp().sum()"
   ]
  },
  {
   "cell_type": "markdown",
   "metadata": {},
   "source": [
    "Instead we need to pass `keepdim=True`"
   ]
  },
  {
   "cell_type": "code",
   "execution_count": 16,
   "metadata": {},
   "outputs": [
    {
     "data": {
      "text/plain": [
       "tensor([[10.1734],\n",
       "        [10.5703]], grad_fn=<SumBackward1>)"
      ]
     },
     "execution_count": 16,
     "metadata": {},
     "output_type": "execute_result"
    }
   ],
   "source": [
    "pred[:2].exp().sum(-1, keepdim=True)"
   ]
  },
  {
   "cell_type": "markdown",
   "metadata": {},
   "source": [
    "Finally, here are the first two rows softmaxed:"
   ]
  },
  {
   "cell_type": "code",
   "execution_count": 17,
   "metadata": {},
   "outputs": [
    {
     "data": {
      "text/plain": [
       "tensor([[0.1077, 0.1025, 0.1094, 0.0832, 0.1017, 0.1174, 0.1030, 0.0954, 0.0963,\n",
       "         0.0834],\n",
       "        [0.1068, 0.1022, 0.1119, 0.0887, 0.1033, 0.1281, 0.1091, 0.1045, 0.1057,\n",
       "         0.0786]], grad_fn=<DivBackward0>)"
      ]
     },
     "execution_count": 17,
     "metadata": {},
     "output_type": "execute_result"
    }
   ],
   "source": [
    "soft_preds = pred[:2].exp() / pred[0].exp().sum(-1, keepdim=True); soft_preds"
   ]
  },
  {
   "cell_type": "markdown",
   "metadata": {},
   "source": [
    "And if we sum a row we get 1:"
   ]
  },
  {
   "cell_type": "code",
   "execution_count": 18,
   "metadata": {},
   "outputs": [
    {
     "data": {
      "text/plain": [
       "tensor(1., grad_fn=<SumBackward0>)"
      ]
     },
     "execution_count": 18,
     "metadata": {},
     "output_type": "execute_result"
    }
   ],
   "source": [
    "soft_preds[0].sum()"
   ]
  },
  {
   "cell_type": "markdown",
   "metadata": {},
   "source": [
    "Here is our function:"
   ]
  },
  {
   "cell_type": "code",
   "execution_count": 19,
   "metadata": {},
   "outputs": [],
   "source": [
    "def log_softmax(x): return (x.exp() / (x.exp().sum(-1, keepdim=True))).log()"
   ]
  },
  {
   "cell_type": "code",
   "execution_count": 20,
   "metadata": {},
   "outputs": [],
   "source": [
    "soft_preds1 = log_softmax(pred)"
   ]
  },
  {
   "cell_type": "markdown",
   "metadata": {},
   "source": [
    "We can immediately refactor this by remembering that:\n",
    "\n",
    "<p>\n",
    "$$ \\log{\\frac{a}{b}} = \\log{a} - \\log{b} $$\n",
    "    \n",
    "</p>\n",
    "\n",
    "Therefore:\n",
    "\n",
    "<p>\n",
    "$$ \\displaystyle \\log{\\frac{e^x_i}{\\sum_{j=0}^{n-1} e^x_j}} = \\log{e^x} - \\log{\\sum_{j=0}^{n-1} e^x_j} = x  - \\log{\\sum_{j=0}^{n-1} e^x_j} $$\n",
    "</p>\n",
    "\n",
    "In code this is:"
   ]
  },
  {
   "cell_type": "code",
   "execution_count": 21,
   "metadata": {},
   "outputs": [],
   "source": [
    "def log_softmax(x): return x - x.exp().sum(-1,keepdim=True).log()"
   ]
  },
  {
   "cell_type": "code",
   "execution_count": 22,
   "metadata": {},
   "outputs": [],
   "source": [
    "soft_preds = log_softmax(pred)"
   ]
  },
  {
   "cell_type": "code",
   "execution_count": 23,
   "metadata": {},
   "outputs": [],
   "source": [
    "test_near(soft_preds, soft_preds1)"
   ]
  },
  {
   "cell_type": "markdown",
   "metadata": {},
   "source": [
    "Now that we have an output vector of predictions, $\\hat{y}$, in the form of a probability distribution over the possible classes of $y$ (0-9) we can use cross entropy loss to caculate just how far off our prediction is from the target value.\n",
    "\n",
    "We're trying to find how dissimilar our prediction is to the target. So we are comparing the two distributions. \n",
    "\n",
    "Assuming our $y$ is one-hot encoded, we calculate the cross entropy loss for a single example by taking the dot product of the two vectors:\n",
    "\n",
    "<p>\n",
    "$$  L =  -y \\cdot \\log{\\hat{y}} $$\n",
    "</p>"
   ]
  },
  {
   "cell_type": "code",
   "execution_count": 24,
   "metadata": {},
   "outputs": [
    {
     "data": {
      "text/plain": [
       "tensor(2.1419, grad_fn=<NegBackward>)"
      ]
     },
     "execution_count": 24,
     "metadata": {},
     "output_type": "execute_result"
    }
   ],
   "source": [
    "-(y0 @ soft_preds[0])"
   ]
  },
  {
   "cell_type": "markdown",
   "metadata": {},
   "source": [
    "But we can do this another way without having to one-hot encode our labels. \n",
    "\n",
    "We'll use integer array indexing - we can pass a list of integers for each dimension and get back those specific rows/columns."
   ]
  },
  {
   "cell_type": "code",
   "execution_count": 25,
   "metadata": {},
   "outputs": [
    {
     "data": {
      "text/plain": [
       "tensor([2.1419], grad_fn=<NegBackward>)"
      ]
     },
     "execution_count": 25,
     "metadata": {},
     "output_type": "execute_result"
    }
   ],
   "source": [
    "-soft_preds[[0],[y_train[0]]]"
   ]
  },
  {
   "cell_type": "markdown",
   "metadata": {},
   "source": [
    "Now we turn that into a proper loss function which takes averages all of the negative loss logs over the entire output."
   ]
  },
  {
   "cell_type": "code",
   "execution_count": 26,
   "metadata": {},
   "outputs": [],
   "source": [
    "def nll(input, target): return -input[range(target.shape[0]), target].mean()"
   ]
  },
  {
   "cell_type": "code",
   "execution_count": 27,
   "metadata": {},
   "outputs": [
    {
     "data": {
      "text/plain": [
       "tensor(2.3071, grad_fn=<NegBackward>)"
      ]
     },
     "execution_count": 27,
     "metadata": {},
     "output_type": "execute_result"
    }
   ],
   "source": [
    "loss = nll(soft_preds, y_train); loss"
   ]
  },
  {
   "cell_type": "markdown",
   "metadata": {},
   "source": [
    "#### LogSumExp Trick"
   ]
  },
  {
   "cell_type": "markdown",
   "metadata": {},
   "source": [
    "Then, there is a way to compute the log of the sum of exponentials in a more stable way, called the [LogSumExp trick](https://en.wikipedia.org/wiki/LogSumExp). The idea is to use the following formula:\n",
    "\n",
    "<p>\n",
    "$$\\log \\left ( \\sum_{j=1}^{n} e^{x_{j}} \\right ) = \\log \\left ( e^{a} \\sum_{j=1}^{n} e^{x_{j}-a} \\right ) = a + \\log \\left ( \\sum_{j=1}^{n} e^{x_{j}-a} \\right )$$\n",
    "</p>\n",
    "    \n",
    "    \n",
    "where a is the maximum of the $x_{j}$."
   ]
  },
  {
   "cell_type": "code",
   "execution_count": 28,
   "metadata": {},
   "outputs": [],
   "source": [
    "def logsumexp(x):\n",
    "    m = x.max(-1)[0] # grab the largest number in x\n",
    "    print(m)\n",
    "    return m + (x-m[:,None]).exp().sum(-1).log() # subtract it out and then add it back in the end"
   ]
  },
  {
   "cell_type": "markdown",
   "metadata": {},
   "source": [
    "### Pytorch F.cross_entropy"
   ]
  },
  {
   "cell_type": "markdown",
   "metadata": {},
   "source": [
    "We've now built our loss function so let's go ahead and use the Pytorch version which combines `log_softmax` and `nll_loss` in a single function."
   ]
  },
  {
   "cell_type": "code",
   "execution_count": 29,
   "metadata": {},
   "outputs": [
    {
     "data": {
      "text/plain": [
       "tensor(2.3070, grad_fn=<NllLossBackward>)"
      ]
     },
     "execution_count": 29,
     "metadata": {},
     "output_type": "execute_result"
    }
   ],
   "source": [
    "pyloss = F.cross_entropy(pred, y_train); pyloss"
   ]
  },
  {
   "cell_type": "code",
   "execution_count": 30,
   "metadata": {},
   "outputs": [],
   "source": [
    "test_near(pyloss, loss)"
   ]
  },
  {
   "cell_type": "markdown",
   "metadata": {},
   "source": [
    "It works!"
   ]
  },
  {
   "cell_type": "markdown",
   "metadata": {},
   "source": [
    "## Basic Training Loop"
   ]
  },
  {
   "cell_type": "markdown",
   "metadata": {},
   "source": [
    "We have all the parts now to create an algorithm!\n",
    "\n",
    "The training loop is combines everything we have done so far into an interative process. We loop over the data again and again to fine-tune our model's parameters. \n",
    "\n",
    "Here is what we need the training loop to do:\n",
    "\n",
    "- Get a batch of inputs and pass them to the model to get a batch of outputs\n",
    "- Compute the loss of by comparing the outputs to the labels\n",
    "- Calculate the gradients of the loss function with respect to the model parameters\n",
    "- Finally update the parameters using those gradients and a learning rate"
   ]
  },
  {
   "cell_type": "markdown",
   "metadata": {},
   "source": [
    "### Single Batch"
   ]
  },
  {
   "cell_type": "code",
   "execution_count": 31,
   "metadata": {},
   "outputs": [],
   "source": [
    "loss_func = F.cross_entropy"
   ]
  },
  {
   "cell_type": "markdown",
   "metadata": {},
   "source": [
    "It would be nice if we had some sort of metric to follow to see how many of the training examples we are getting correct. \n",
    "\n",
    "We'll start with accuracy."
   ]
  },
  {
   "cell_type": "code",
   "execution_count": 32,
   "metadata": {},
   "outputs": [
    {
     "data": {
      "text/plain": [
       "tensor([5, 5, 5, 6])"
      ]
     },
     "execution_count": 32,
     "metadata": {},
     "output_type": "execute_result"
    }
   ],
   "source": [
    "torch.argmax(pred, dim=1)[:4]"
   ]
  },
  {
   "cell_type": "code",
   "execution_count": 33,
   "metadata": {},
   "outputs": [],
   "source": [
    "#export\n",
    "def accuracy(yh, y): return (torch.argmax(yh, dim=1)==y).float().mean()"
   ]
  },
  {
   "cell_type": "markdown",
   "metadata": {},
   "source": [
    "Let's create a single mini-batch to test that it works:"
   ]
  },
  {
   "cell_type": "code",
   "execution_count": 34,
   "metadata": {},
   "outputs": [],
   "source": [
    "bs=128                  # batch size\n",
    "xb = x_train[0:bs]     # a mini-batch from x\n",
    "preds = model(xb)      # predictions"
   ]
  },
  {
   "cell_type": "markdown",
   "metadata": {},
   "source": [
    "This will give us 128 predictions - each prediction here being a vector of length 10."
   ]
  },
  {
   "cell_type": "code",
   "execution_count": 35,
   "metadata": {},
   "outputs": [
    {
     "data": {
      "text/plain": [
       "(tensor([ 0.0918,  0.0414,  0.1069, -0.1664,  0.0340,  0.1779,  0.0468, -0.0298,\n",
       "         -0.0210, -0.1646], grad_fn=<SelectBackward>),\n",
       " torch.Size([128, 10]))"
      ]
     },
     "execution_count": 35,
     "metadata": {},
     "output_type": "execute_result"
    }
   ],
   "source": [
    "preds[0], preds.shape"
   ]
  },
  {
   "cell_type": "markdown",
   "metadata": {},
   "source": [
    "Now we can put these predictions through our loss function with our labels and get some sort of measurement as to how far off they are:"
   ]
  },
  {
   "cell_type": "code",
   "execution_count": 36,
   "metadata": {},
   "outputs": [
    {
     "data": {
      "text/plain": [
       "tensor(2.3045, grad_fn=<NllLossBackward>)"
      ]
     },
     "execution_count": 36,
     "metadata": {},
     "output_type": "execute_result"
    }
   ],
   "source": [
    "yb = y_train[0:bs]\n",
    "loss = loss_func(preds, yb); loss"
   ]
  },
  {
   "cell_type": "code",
   "execution_count": 37,
   "metadata": {},
   "outputs": [
    {
     "data": {
      "text/plain": [
       "tensor(0.0469)"
      ]
     },
     "execution_count": 37,
     "metadata": {},
     "output_type": "execute_result"
    }
   ],
   "source": [
    "accuracy(preds, yb)"
   ]
  },
  {
   "cell_type": "markdown",
   "metadata": {},
   "source": [
    "About 10% accuracy, that's basically choosing randomly.\n",
    "\n",
    "We have a long way to go but at least everything appears to be working.\n",
    "\n",
    "Now let's look at our model's weights:"
   ]
  },
  {
   "cell_type": "code",
   "execution_count": 38,
   "metadata": {},
   "outputs": [
    {
     "data": {
      "text/plain": [
       "Parameter containing:\n",
       "tensor([[ 0.0302,  0.0338, -0.0123,  ..., -0.0202,  0.0214,  0.0049],\n",
       "        [-0.0146, -0.0077,  0.0349,  ...,  0.0049,  0.0070,  0.0019],\n",
       "        [ 0.0141,  0.0241, -0.0318,  ..., -0.0278,  0.0213, -0.0353],\n",
       "        ...,\n",
       "        [-0.0132, -0.0237, -0.0061,  ...,  0.0226, -0.0165, -0.0246],\n",
       "        [ 0.0126, -0.0019,  0.0001,  ...,  0.0199,  0.0091, -0.0242],\n",
       "        [ 0.0325, -0.0055, -0.0159,  ...,  0.0244,  0.0131,  0.0208]],\n",
       "       requires_grad=True)"
      ]
     },
     "execution_count": 38,
     "metadata": {},
     "output_type": "execute_result"
    }
   ],
   "source": [
    "model.layers[0].weight"
   ]
  },
  {
   "cell_type": "code",
   "execution_count": 39,
   "metadata": {},
   "outputs": [],
   "source": [
    "model.layers[0].weight.grad"
   ]
  },
  {
   "cell_type": "markdown",
   "metadata": {},
   "source": [
    "At this stage the gradients with respect to the loss have not been computed. \n",
    "\n",
    "Pytorch only computes them once `.backward` is called. Let's do that:"
   ]
  },
  {
   "cell_type": "code",
   "execution_count": 40,
   "metadata": {},
   "outputs": [],
   "source": [
    "loss.backward()"
   ]
  },
  {
   "cell_type": "code",
   "execution_count": 41,
   "metadata": {},
   "outputs": [
    {
     "data": {
      "text/plain": [
       "tensor([0.0000e+00, 0.0000e+00, 0.0000e+00, 0.0000e+00, 0.0000e+00, 0.0000e+00,\n",
       "        0.0000e+00, 0.0000e+00, 0.0000e+00, 0.0000e+00, 0.0000e+00, 0.0000e+00,\n",
       "        0.0000e+00, 0.0000e+00, 0.0000e+00, 0.0000e+00, 0.0000e+00, 0.0000e+00,\n",
       "        0.0000e+00, 0.0000e+00, 0.0000e+00, 0.0000e+00, 0.0000e+00, 0.0000e+00,\n",
       "        0.0000e+00, 0.0000e+00, 0.0000e+00, 0.0000e+00, 0.0000e+00, 0.0000e+00,\n",
       "        0.0000e+00, 0.0000e+00, 0.0000e+00, 0.0000e+00, 0.0000e+00, 0.0000e+00,\n",
       "        0.0000e+00, 0.0000e+00, 0.0000e+00, 0.0000e+00, 0.0000e+00, 0.0000e+00,\n",
       "        0.0000e+00, 0.0000e+00, 0.0000e+00, 0.0000e+00, 0.0000e+00, 0.0000e+00,\n",
       "        0.0000e+00, 0.0000e+00, 0.0000e+00, 0.0000e+00, 0.0000e+00, 0.0000e+00,\n",
       "        0.0000e+00, 0.0000e+00, 0.0000e+00, 0.0000e+00, 0.0000e+00, 0.0000e+00,\n",
       "        0.0000e+00, 0.0000e+00, 0.0000e+00, 0.0000e+00, 0.0000e+00, 0.0000e+00,\n",
       "        0.0000e+00, 0.0000e+00, 0.0000e+00, 0.0000e+00, 0.0000e+00, 1.6134e-05,\n",
       "        3.1168e-05, 2.7501e-05, 1.4667e-06, 0.0000e+00, 0.0000e+00, 0.0000e+00,\n",
       "        0.0000e+00, 0.0000e+00, 0.0000e+00, 0.0000e+00, 0.0000e+00, 0.0000e+00,\n",
       "        0.0000e+00, 0.0000e+00, 0.0000e+00, 0.0000e+00, 0.0000e+00, 0.0000e+00,\n",
       "        0.0000e+00, 0.0000e+00, 0.0000e+00, 0.0000e+00, 1.7038e-05, 1.6612e-04,\n",
       "        3.3224e-04, 4.4549e-04, 3.6706e-04, 1.2165e-04])"
      ]
     },
     "execution_count": 41,
     "metadata": {},
     "output_type": "execute_result"
    }
   ],
   "source": [
    "model.layers[0].weight.grad[0][:100]"
   ]
  },
  {
   "cell_type": "markdown",
   "metadata": {},
   "source": [
    "### Training Loop"
   ]
  },
  {
   "cell_type": "markdown",
   "metadata": {},
   "source": [
    "Let's finally begin to train. \n",
    "\n",
    "Three hyperparameters we need to set are the batch size, the learning rate and the number of epochs (the number of times we iterate through the entire dataset)"
   ]
  },
  {
   "cell_type": "code",
   "execution_count": 42,
   "metadata": {},
   "outputs": [],
   "source": [
    "bs = 64\n",
    "lr = 0.5\n",
    "epochs = 1"
   ]
  },
  {
   "cell_type": "code",
   "execution_count": 43,
   "metadata": {},
   "outputs": [],
   "source": [
    "for epoch in range(epochs):\n",
    "    for i in range(0,n,bs):\n",
    "        xb = x_train[i:i+bs]\n",
    "        yb = y_train[i:i+bs]\n",
    "        loss = loss_func(model(xb), yb)\n",
    "        loss.backward()\n",
    "        \n",
    "        with torch.no_grad():\n",
    "            for l in model.layers:\n",
    "                if hasattr(l, 'weight'):\n",
    "                    l.weight -= lr * l.weight.grad\n",
    "                    l.bias   -= l.bias.grad   * lr\n",
    "                    l.weight.grad.zero_()\n",
    "                    l.bias  .grad.zero_()"
   ]
  },
  {
   "cell_type": "code",
   "execution_count": 44,
   "metadata": {},
   "outputs": [
    {
     "data": {
      "text/plain": [
       "tensor(0.1821, grad_fn=<NllLossBackward>)"
      ]
     },
     "execution_count": 44,
     "metadata": {},
     "output_type": "execute_result"
    }
   ],
   "source": [
    "loss_func(model(xb), yb)"
   ]
  },
  {
   "cell_type": "markdown",
   "metadata": {},
   "source": [
    "And it's >90% accuracy. Not terrible for a simple neural net. "
   ]
  },
  {
   "cell_type": "code",
   "execution_count": 45,
   "metadata": {},
   "outputs": [
    {
     "data": {
      "text/plain": [
       "tensor(0.9316)"
      ]
     },
     "execution_count": 45,
     "metadata": {},
     "output_type": "execute_result"
    }
   ],
   "source": [
    "accuracy(model(x_train[:512]), y_train[:512])"
   ]
  },
  {
   "cell_type": "markdown",
   "metadata": {},
   "source": [
    "## Parameters"
   ]
  },
  {
   "cell_type": "markdown",
   "metadata": {},
   "source": [
    "### Parameters"
   ]
  },
  {
   "cell_type": "markdown",
   "metadata": {},
   "source": [
    "We'll start by no longer treating our Relu as a separate layer. Instead we'll use `F.relu` which is the functional form that returns activations. \n",
    "\n",
    "We then have two linear layers from `nn` these linear layers are automatically registered by the `nn.Module` class as the parameters of the model. \n",
    "\n",
    "We can call `model.parameters()` now and it will return a generator that does essentially what we were doing manually by iterating through the list of layers and checking for the `weight` attribute."
   ]
  },
  {
   "cell_type": "code",
   "execution_count": 46,
   "metadata": {},
   "outputs": [],
   "source": [
    "nh = 64"
   ]
  },
  {
   "cell_type": "code",
   "execution_count": 47,
   "metadata": {},
   "outputs": [],
   "source": [
    "class Model(nn.Module):\n",
    "    def __init__(self, n_in, n_out):\n",
    "        super().__init__()\n",
    "        self.l1 = nn.Linear(n_in, nh)\n",
    "        self.l2 = nn.Linear(nh, n_out)\n",
    "        \n",
    "    def forward(self, x):\n",
    "        return self.l2(F.relu(self.l1(x)))"
   ]
  },
  {
   "cell_type": "code",
   "execution_count": 48,
   "metadata": {},
   "outputs": [
    {
     "data": {
      "text/plain": [
       "(50000, 784)"
      ]
     },
     "execution_count": 48,
     "metadata": {},
     "output_type": "execute_result"
    }
   ],
   "source": [
    "n,m"
   ]
  },
  {
   "cell_type": "code",
   "execution_count": 49,
   "metadata": {},
   "outputs": [],
   "source": [
    "model = Model(m, 10)"
   ]
  },
  {
   "cell_type": "markdown",
   "metadata": {},
   "source": [
    "Let's take a look inside our model.\n",
    "\n",
    "We can do this by calling the `.named_children` method on the model.\n",
    "\n",
    "\n",
    "    Returns an iterator over immediate children modules, yielding both the name of the module as well as the module itself."
   ]
  },
  {
   "cell_type": "code",
   "execution_count": 50,
   "metadata": {},
   "outputs": [
    {
     "name": "stdout",
     "output_type": "stream",
     "text": [
      "l1 : Linear(in_features=784, out_features=64, bias=True)\n",
      "l2 : Linear(in_features=64, out_features=10, bias=True)\n"
     ]
    }
   ],
   "source": [
    "for l in model.named_children(): print(f\"{l[0]} : {l[1]}\")"
   ]
  },
  {
   "cell_type": "markdown",
   "metadata": {},
   "source": [
    "Pytorch's `nn.Module` has `__repr__` defined as the following:\n",
    "\n",
    "```python\n",
    "def __repr__(self):\n",
    "        # We treat the extra repr like the sub-module, one item per line\n",
    "        extra_lines = []\n",
    "        extra_repr = self.extra_repr()\n",
    "        # empty string will be split into list ['']\n",
    "        if extra_repr:\n",
    "            extra_lines = extra_repr.split('\\n')\n",
    "        child_lines = []\n",
    "        for key, module in self._modules.items():\n",
    "            mod_str = repr(module)\n",
    "            mod_str = _addindent(mod_str, 2)\n",
    "            child_lines.append('(' + key + '): ' + mod_str)\n",
    "        lines = extra_lines + child_lines\n",
    "\n",
    "        main_str = self._get_name() + '('\n",
    "        if lines:\n",
    "            # simple one-liner info, which most builtin Modules will use\n",
    "            if len(extra_lines) == 1 and not child_lines:\n",
    "                main_str += extra_lines[0]\n",
    "            else:\n",
    "                main_str += '\\n  ' + '\\n  '.join(lines) + '\\n'\n",
    "\n",
    "        main_str += ')'\n",
    "        return main_str`\n",
    "```"
   ]
  },
  {
   "cell_type": "code",
   "execution_count": 51,
   "metadata": {},
   "outputs": [
    {
     "data": {
      "text/plain": [
       "Model(\n",
       "  (l1): Linear(in_features=784, out_features=64, bias=True)\n",
       "  (l2): Linear(in_features=64, out_features=10, bias=True)\n",
       ")"
      ]
     },
     "execution_count": 51,
     "metadata": {},
     "output_type": "execute_result"
    }
   ],
   "source": [
    "model"
   ]
  },
  {
   "cell_type": "markdown",
   "metadata": {},
   "source": [
    "### Fit"
   ]
  },
  {
   "cell_type": "markdown",
   "metadata": {},
   "source": [
    "Let's create a function that we can call which will run our training loop. \n",
    "\n",
    "This is standard for Machine Learning libraries like Sklearn."
   ]
  },
  {
   "cell_type": "code",
   "execution_count": 52,
   "metadata": {
    "code_folding": []
   },
   "outputs": [],
   "source": [
    "def fit():\n",
    "    print(\"Training...\")\n",
    "    for epoch in range(epochs):\n",
    "        for i in range(0,n,bs):\n",
    "            end = i+bs if i+bs < n else n\n",
    "            xb = x_train[i:end]\n",
    "            yb = y_train[i:end]\n",
    "            preds = model(xb)\n",
    "            loss = loss_func(preds, yb)\n",
    "            \n",
    "            loss.backward()\n",
    "            \n",
    "            with torch.no_grad():\n",
    "                for p in model.parameters():\n",
    "                    p -= p.grad * lr\n",
    "                    model.zero_grad()"
   ]
  },
  {
   "cell_type": "code",
   "execution_count": 53,
   "metadata": {},
   "outputs": [
    {
     "name": "stdout",
     "output_type": "stream",
     "text": [
      "Training...\n"
     ]
    }
   ],
   "source": [
    "fit()"
   ]
  },
  {
   "cell_type": "code",
   "execution_count": 54,
   "metadata": {},
   "outputs": [
    {
     "data": {
      "text/plain": [
       "tensor(0.3917, grad_fn=<NllLossBackward>)"
      ]
     },
     "execution_count": 54,
     "metadata": {},
     "output_type": "execute_result"
    }
   ],
   "source": [
    "loss_func(model(xb),yb)"
   ]
  },
  {
   "cell_type": "code",
   "execution_count": 55,
   "metadata": {},
   "outputs": [
    {
     "data": {
      "text/plain": [
       "tensor(0.9116)"
      ]
     },
     "execution_count": 55,
     "metadata": {},
     "output_type": "execute_result"
    }
   ],
   "source": [
    "accuracy(model(x_valid), y_valid)"
   ]
  },
  {
   "cell_type": "markdown",
   "metadata": {},
   "source": [
    "Question: How does Pytorch know what attributes in `__init__` to set as the model parameters?"
   ]
  },
  {
   "cell_type": "markdown",
   "metadata": {},
   "source": [
    "In Python every time an attribute is assigned during a class initialization, `__setattr__()` is called. \n",
    "\n",
    "When we inherit from `nn.Module` and then execute `super().__init__()` Pytorch creates the following 'private' attributes: \n",
    "```python\n",
    "        self.training = True\n",
    "        self._parameters = OrderedDict()\n",
    "        self._buffers = OrderedDict()\n",
    "        self._backward_hooks = OrderedDict()\n",
    "        self._forward_hooks = OrderedDict()\n",
    "        self._forward_pre_hooks = OrderedDict()\n",
    "        self._state_dict_hooks = OrderedDict()\n",
    "        self._load_state_dict_pre_hooks = OrderedDict()\n",
    "        self._modules = OrderedDict()\n",
    "```"
   ]
  },
  {
   "cell_type": "markdown",
   "metadata": {},
   "source": [
    "When the model is instantiated from the `Model` class and `self.l1 = nn.Linear` is set as in attribute `__setattr__()` is called. \n",
    "\n",
    "Pytorch then does the following:\n",
    "\n",
    "- checks if the attribute is a Parameter or a Module\n",
    "- checks to make sure that `nn.Module` `__init__` was called\n",
    "- then registers the Parameter or (sub)Module"
   ]
  },
  {
   "cell_type": "markdown",
   "metadata": {},
   "source": [
    "```Python\n",
    "\n",
    "class Parameter\n",
    "\n",
    "    '''A kind of Tensor that is to be considered a module parameter.\n",
    "    \n",
    "    Parameters are ~torch.Tensor subclasses, that have a very special property when used with Module s - when they're assigned as Module attributes they are automatically added to the list of its parameters, and will appear e.g. in ~Module.parameters iterator. Assigning a Tensor doesn't have such effect. This is because one might want to cache some temporary state, like last hidden state of the RNN, in the model. If there was no such class as Parameter, these temporaries would get registered too.\n",
    "\n",
    "Arguments: data (Tensor): parameter tensor. requires_grad (bool, optional): if the parameter requires gradient. See excluding-subgraphs for more details. Default: True'''\n",
    "```"
   ]
  },
  {
   "cell_type": "markdown",
   "metadata": {},
   "source": [
    "```python\n",
    "class Module\n",
    "    \n",
    "    '''Base class for all neural network modules.\n",
    "\n",
    "    Your models should also subclass this class.\n",
    "    \n",
    "    Modules can also contain other Modules, allowing to nest them in a tree structure. You can assign the submodules as regular attributes:'''\n",
    "```"
   ]
  },
  {
   "cell_type": "markdown",
   "metadata": {},
   "source": [
    "We can demonstrate this by building a dummy module that has a dictionary called `_modules`"
   ]
  },
  {
   "cell_type": "code",
   "execution_count": 56,
   "metadata": {},
   "outputs": [],
   "source": [
    "class DummyModule():\n",
    "    def __init__(self, n_in, n_out):\n",
    "        self._modules = {}\n",
    "        self.l1 = nn.Linear(n_in, nh)\n",
    "        self.l2 = nn.Linear(nh, n_out)\n",
    "    \n",
    "    def __setattr__(self, k,v):\n",
    "        if not k.startswith(\"_\"): # register any keys that do not start with '_'\n",
    "            self._modules[k] = v # put it inside modules dict\n",
    "        super().__setattr__(k,v)\n",
    "    \n",
    "    def __repr__(self): return f'{self._modules}'\n",
    "    \n",
    "    def parameters(self):\n",
    "        for l in self._modules.values():\n",
    "            for p in l.parameters(): yield p"
   ]
  },
  {
   "cell_type": "code",
   "execution_count": 57,
   "metadata": {},
   "outputs": [],
   "source": [
    "mdl = DummyModule(m, 10)"
   ]
  },
  {
   "cell_type": "code",
   "execution_count": 58,
   "metadata": {},
   "outputs": [
    {
     "data": {
      "text/plain": [
       "{'l1': Linear(in_features=784, out_features=64, bias=True), 'l2': Linear(in_features=64, out_features=10, bias=True)}"
      ]
     },
     "execution_count": 58,
     "metadata": {},
     "output_type": "execute_result"
    }
   ],
   "source": [
    "mdl"
   ]
  },
  {
   "cell_type": "code",
   "execution_count": 59,
   "metadata": {},
   "outputs": [
    {
     "data": {
      "text/plain": [
       "[torch.Size([64, 784]),\n",
       " torch.Size([64]),\n",
       " torch.Size([10, 64]),\n",
       " torch.Size([10])]"
      ]
     },
     "execution_count": 59,
     "metadata": {},
     "output_type": "execute_result"
    }
   ],
   "source": [
    "[o.shape for o in mdl.parameters()]"
   ]
  },
  {
   "cell_type": "markdown",
   "metadata": {},
   "source": [
    "### Registering Modules"
   ]
  },
  {
   "cell_type": "markdown",
   "metadata": {},
   "source": [
    "Now let's say we wanted to use the layers approach that we wrote earlier. "
   ]
  },
  {
   "cell_type": "code",
   "execution_count": 60,
   "metadata": {},
   "outputs": [],
   "source": [
    "layers = [nn.Linear(m,nh), nn.ReLU(), nn.Linear(nh, 10)]"
   ]
  },
  {
   "cell_type": "code",
   "execution_count": 61,
   "metadata": {},
   "outputs": [],
   "source": [
    "class Model(nn.Module):\n",
    "        def __init__(self, layers):\n",
    "            super().__init__() # sets up the parameters module dict and other dicts\n",
    "            self.layers = layers\n",
    "            for i,l in enumerate(self.layers):\n",
    "                self.add_module(f'l{i}',l)\n",
    "            \n",
    "        def forward(self, x):\n",
    "            for l in self.layers: x = l(x)\n",
    "            return x"
   ]
  },
  {
   "cell_type": "markdown",
   "metadata": {},
   "source": []
  },
  {
   "cell_type": "code",
   "execution_count": 62,
   "metadata": {},
   "outputs": [],
   "source": [
    "model = Model(layers)"
   ]
  },
  {
   "cell_type": "code",
   "execution_count": 63,
   "metadata": {},
   "outputs": [
    {
     "data": {
      "text/plain": [
       "Model(\n",
       "  (l0): Linear(in_features=784, out_features=64, bias=True)\n",
       "  (l1): ReLU()\n",
       "  (l2): Linear(in_features=64, out_features=10, bias=True)\n",
       ")"
      ]
     },
     "execution_count": 63,
     "metadata": {},
     "output_type": "execute_result"
    }
   ],
   "source": [
    "model"
   ]
  },
  {
   "cell_type": "markdown",
   "metadata": {},
   "source": [
    "### nn.ModuleList"
   ]
  },
  {
   "cell_type": "markdown",
   "metadata": {},
   "source": [
    "If we insist on using the layers technique we can use the built in Pytorch `nn.ModuleList`"
   ]
  },
  {
   "cell_type": "code",
   "execution_count": 64,
   "metadata": {},
   "outputs": [],
   "source": [
    "class Model(nn.Module):\n",
    "    def __init__(self, layers):\n",
    "        super().__init__() \n",
    "        self.layers = nn.ModuleList(layers)\n",
    "    def forward(self, x):\n",
    "        for l in self.layers: x = l(x)\n",
    "        return x"
   ]
  },
  {
   "cell_type": "code",
   "execution_count": 65,
   "metadata": {},
   "outputs": [],
   "source": [
    "model = Model(layers)"
   ]
  },
  {
   "cell_type": "code",
   "execution_count": 66,
   "metadata": {},
   "outputs": [
    {
     "data": {
      "text/plain": [
       "Model(\n",
       "  (layers): ModuleList(\n",
       "    (0): Linear(in_features=784, out_features=64, bias=True)\n",
       "    (1): ReLU()\n",
       "    (2): Linear(in_features=64, out_features=10, bias=True)\n",
       "  )\n",
       ")"
      ]
     },
     "execution_count": 66,
     "metadata": {},
     "output_type": "execute_result"
    }
   ],
   "source": [
    "model"
   ]
  },
  {
   "cell_type": "code",
   "execution_count": 67,
   "metadata": {},
   "outputs": [
    {
     "name": "stdout",
     "output_type": "stream",
     "text": [
      "Training...\n"
     ]
    },
    {
     "data": {
      "text/plain": [
       "(tensor(0.4165, grad_fn=<NllLossBackward>), tensor(0.8750))"
      ]
     },
     "execution_count": 67,
     "metadata": {},
     "output_type": "execute_result"
    }
   ],
   "source": [
    "fit()\n",
    "loss_func(model(xb), yb), accuracy(model(xb), yb)"
   ]
  },
  {
   "cell_type": "markdown",
   "metadata": {},
   "source": [
    "### nn.Sequential"
   ]
  },
  {
   "cell_type": "markdown",
   "metadata": {},
   "source": [
    "Even easier would be to use the Pytorch `nn.Sequential`"
   ]
  },
  {
   "cell_type": "code",
   "execution_count": 68,
   "metadata": {},
   "outputs": [],
   "source": [
    "model = nn.Sequential(nn.Linear(m,nh), nn.ReLU(), nn.Linear(nh, 10))"
   ]
  },
  {
   "cell_type": "code",
   "execution_count": 69,
   "metadata": {},
   "outputs": [
    {
     "data": {
      "text/plain": [
       "Sequential(\n",
       "  (0): Linear(in_features=784, out_features=64, bias=True)\n",
       "  (1): ReLU()\n",
       "  (2): Linear(in_features=64, out_features=10, bias=True)\n",
       ")"
      ]
     },
     "execution_count": 69,
     "metadata": {},
     "output_type": "execute_result"
    }
   ],
   "source": [
    "model"
   ]
  },
  {
   "cell_type": "code",
   "execution_count": 70,
   "metadata": {},
   "outputs": [
    {
     "name": "stdout",
     "output_type": "stream",
     "text": [
      "Training...\n"
     ]
    },
    {
     "data": {
      "text/plain": [
       "(tensor(0.3879, grad_fn=<NllLossBackward>), tensor(0.8750))"
      ]
     },
     "execution_count": 70,
     "metadata": {},
     "output_type": "execute_result"
    }
   ],
   "source": [
    "fit()\n",
    "loss_func(model(xb), yb), accuracy(model(xb), yb)"
   ]
  },
  {
   "cell_type": "markdown",
   "metadata": {},
   "source": [
    "## Optim"
   ]
  },
  {
   "cell_type": "markdown",
   "metadata": {},
   "source": [
    "### Optimizer Step"
   ]
  },
  {
   "cell_type": "markdown",
   "metadata": {},
   "source": [
    "Let's refactor our optimization step. \n",
    "\n",
    "In our training loop we called backward on the loss to compute the gradients and then to make the actual updates to the weights we did the following:\n",
    "\n",
    "```python\n",
    "with torch.no_grad():\n",
    "    for p in model.parameters(): p -= p.grad * lr\n",
    "    model.zero_grad()\n",
    "```\n",
    "\n",
    "We can simplify this bit of the loop if we instead put this away into an `Optimizer` class which will then have two separate methods: \n",
    "\n",
    "```python\n",
    "opt.step()\n",
    "opt.zero_grad()\n",
    "```"
   ]
  },
  {
   "cell_type": "code",
   "execution_count": 71,
   "metadata": {},
   "outputs": [],
   "source": [
    "class Optimizer():\n",
    "    def __init__(self, model, lr):\n",
    "        self.model = model\n",
    "        self.lr = lr\n",
    "    \n",
    "    def step(self):        \n",
    "        with torch.no_grad():\n",
    "            for p in self.model.parameters():\n",
    "                p -= p.grad * self.lr\n",
    "        \n",
    "    def zero(self):\n",
    "        self.model.zero_grad()"
   ]
  },
  {
   "cell_type": "code",
   "execution_count": 72,
   "metadata": {},
   "outputs": [],
   "source": [
    "opt = Optimizer(model, lr)"
   ]
  },
  {
   "cell_type": "code",
   "execution_count": 73,
   "metadata": {},
   "outputs": [],
   "source": [
    "for epoch in range(epochs):\n",
    "    for i in range(0,n,bs):\n",
    "        end = i+bs if i+bs < n else n\n",
    "        xb = x_train[i:end]\n",
    "        yb = y_train[i:end]\n",
    "        loss = loss_func(model(xb), yb)\n",
    "        loss.backward()\n",
    "        opt.step()\n",
    "        opt.zero()"
   ]
  },
  {
   "cell_type": "code",
   "execution_count": 74,
   "metadata": {},
   "outputs": [
    {
     "data": {
      "text/plain": [
       "(tensor(0.2990, grad_fn=<NllLossBackward>), tensor(0.9375))"
      ]
     },
     "execution_count": 74,
     "metadata": {},
     "output_type": "execute_result"
    }
   ],
   "source": [
    "loss,acc = loss_func(model(xb), yb), accuracy(model(xb), yb)\n",
    "loss,acc"
   ]
  },
  {
   "cell_type": "markdown",
   "metadata": {},
   "source": [
    "### Pytorch Optim"
   ]
  },
  {
   "cell_type": "markdown",
   "metadata": {},
   "source": [
    "Now let's see the Pytorch version."
   ]
  },
  {
   "cell_type": "markdown",
   "metadata": {},
   "source": [
    "`optim.SGD.step` iterates through each `param_group` and then again through each group's `params` key which contain the layers in that group"
   ]
  },
  {
   "cell_type": "code",
   "execution_count": 75,
   "metadata": {},
   "outputs": [],
   "source": [
    "opt = optim.SGD(model.parameters(), lr=lr)"
   ]
  },
  {
   "cell_type": "code",
   "execution_count": 76,
   "metadata": {},
   "outputs": [
    {
     "data": {
      "text/plain": [
       "[{'params': [Parameter containing:\n",
       "   tensor([[ 0.0242, -0.0223,  0.0028,  ..., -0.0136, -0.0251,  0.0132],\n",
       "           [ 0.0249,  0.0300,  0.0280,  ..., -0.0090,  0.0227, -0.0340],\n",
       "           [ 0.0076,  0.0300,  0.0173,  ...,  0.0251, -0.0326, -0.0252],\n",
       "           ...,\n",
       "           [-0.0334,  0.0330, -0.0164,  ...,  0.0063,  0.0304,  0.0350],\n",
       "           [-0.0112,  0.0052, -0.0064,  ..., -0.0089,  0.0333,  0.0117],\n",
       "           [ 0.0170,  0.0224, -0.0226,  ...,  0.0107,  0.0014,  0.0281]],\n",
       "          requires_grad=True),\n",
       "   Parameter containing:\n",
       "   tensor([ 0.0695, -0.1221, -0.2036,  0.0419, -0.4452, -0.0561, -0.0798, -0.1187,\n",
       "           -0.3741,  0.0679, -0.1101, -0.1773, -0.3565, -0.2370, -0.0692, -0.1396,\n",
       "           -0.2085, -0.3121, -0.2558, -0.4352, -0.1824, -0.6495, -0.0619, -0.0654,\n",
       "           -0.5264, -0.1799, -0.5893, -0.1687, -0.0630, -0.0676, -0.0492, -0.2636,\n",
       "           -0.1226, -0.1610, -0.3492,  0.1063, -0.2487,  0.0685, -0.0983, -0.2556,\n",
       "           -0.0129, -0.2272, -0.1577, -0.4540,  0.1023, -0.3471, -0.4983, -0.3630,\n",
       "           -0.3642, -0.3852, -0.0962, -0.6883, -0.0752, -0.3145, -0.3133,  0.1807,\n",
       "            0.0232, -0.8394, -0.3073, -0.1410, -0.0365, -0.0309, -0.1918, -0.1322],\n",
       "          requires_grad=True),\n",
       "   Parameter containing:\n",
       "   tensor([[-5.8946e-01, -9.9541e-01, -6.1009e-01, -4.2944e-01, -1.7829e+00,\n",
       "            -6.1810e-01, -6.1268e-01, -1.7368e+00, -1.0910e+00, -2.5996e-01,\n",
       "            -1.2900e+00, -7.7910e-01, -2.1162e-01, -8.9763e-01, -4.3329e-01,\n",
       "            -6.6195e-02, -1.7197e+00, -2.4720e-01, -1.7300e+00, -5.7200e-01,\n",
       "            -3.8469e-01, -7.8608e-01, -5.5976e-01, -6.5411e-01, -1.3015e+00,\n",
       "            -1.0755e+00, -1.7504e+00, -1.4150e+00, -6.3110e-01, -1.2771e-01,\n",
       "            -7.4116e-01, -1.3314e+00, -8.8672e-01, -1.3139e+00, -8.2490e-01,\n",
       "            -2.8461e-01, -4.9979e-01, -6.2796e-01, -1.4646e+00, -9.5640e-01,\n",
       "            -7.2762e-01, -6.6643e-02, -4.1593e-01, -1.9768e+00, -3.8755e-01,\n",
       "             1.4441e-01, -1.1516e+00, -1.4967e+00,  4.4487e-02, -2.0674e+00,\n",
       "            -7.0269e-01, -6.4916e-01, -2.8970e-01, -9.1833e-01, -6.1617e-01,\n",
       "             1.4324e+00, -5.0992e-01, -6.8946e-01, -7.7389e-01, -6.2576e-01,\n",
       "            -5.6817e-01, -2.1706e-01, -5.1434e-01, -8.3437e-01],\n",
       "           [ 1.4736e-01,  6.1899e-01,  3.8367e-01,  2.0474e-01,  1.6234e-01,\n",
       "             1.9910e-02,  5.2521e-01,  2.0243e-01,  2.6336e-01,  4.8058e-01,\n",
       "             1.5212e-02,  2.9719e-01,  1.0465e-01,  3.9997e-01,  4.9179e-01,\n",
       "            -1.0686e-02, -6.3055e-02,  4.4104e-03,  6.9422e-01,  2.3276e-02,\n",
       "             2.0056e-01,  3.2635e-01, -1.3552e-01,  3.9350e-01,  1.8209e-01,\n",
       "            -1.5804e-02,  1.9072e-01,  6.3875e-01,  1.3378e-02,  7.5685e-01,\n",
       "            -2.3055e-01,  2.4656e-01,  5.6902e-03,  2.5361e-01,  4.1348e-01,\n",
       "             4.6413e-01, -4.2637e-03, -2.1373e-01,  2.5735e-01,  1.3779e-01,\n",
       "             1.3182e-01, -2.4420e-02,  8.3810e-02,  5.6315e-01, -3.9571e-01,\n",
       "             9.7058e-02,  7.2392e-02, -4.8051e-02,  6.7091e-02,  1.9506e-01,\n",
       "             4.7850e-01, -3.3020e-02, -9.9602e-02,  3.5028e-01,  4.6059e-01,\n",
       "            -7.0152e-01,  4.7127e-01,  1.1147e-01,  2.8727e-01,  2.7892e-01,\n",
       "            -3.2688e-01,  5.3405e-01, -7.7136e-02,  2.4380e-01],\n",
       "           [ 4.0262e-01,  5.9595e-01, -4.2393e-01,  4.8300e-01, -1.3116e-01,\n",
       "             9.7536e-03,  9.1390e-02, -2.7039e-01,  1.5303e-01, -5.3912e-01,\n",
       "            -4.6389e-01, -4.1841e-01, -4.4547e-01, -1.1236e-01, -3.9071e-01,\n",
       "             9.8153e-02, -4.9088e-01, -6.0300e-01, -6.4100e-01, -4.9705e-01,\n",
       "             3.4840e-01, -1.1200e+00, -2.0423e-01,  1.0177e+00, -9.5590e-01,\n",
       "            -4.3663e-01, -1.1467e+00, -5.8674e-02, -2.6659e-01, -1.6858e-01,\n",
       "             2.0244e-02, -2.0337e-01,  1.6642e-01, -3.7115e-02, -6.8630e-01,\n",
       "             8.4875e-02, -6.8238e-02,  9.7729e-01,  1.4652e-01,  5.0473e-01,\n",
       "            -4.2074e-01, -4.3144e-01, -2.6734e-01, -5.8175e-01, -2.7036e-02,\n",
       "            -6.0768e-01, -9.1842e-01, -5.3203e-01, -4.9638e-01, -4.7890e-02,\n",
       "             1.8399e-01, -9.6529e-01, -2.9659e-02, -6.1856e-01, -5.7741e-01,\n",
       "            -6.6060e-02,  2.8556e-01, -1.2753e+00, -5.6649e-01,  5.9104e-01,\n",
       "             4.1077e-01, -4.5074e-02,  3.8024e-01, -4.5037e-01],\n",
       "           [-3.4428e-01, -1.0206e-01,  2.9607e-01, -2.7795e-01,  1.2728e-01,\n",
       "            -1.9542e-02,  1.0291e-01,  3.2123e-01,  5.2703e-01,  2.4541e-01,\n",
       "             1.4009e-01,  7.8937e-01,  4.4860e-01,  4.9172e-01, -9.6546e-02,\n",
       "             6.3077e-02,  3.0765e-01, -1.3423e-02,  2.5715e-01,  3.6962e-01,\n",
       "            -2.0634e-01,  7.7443e-01,  6.7656e-01,  5.8094e-01,  7.5473e-01,\n",
       "             3.5015e-01,  5.9438e-01, -6.5608e-02, -3.5443e-01, -4.7868e-01,\n",
       "            -5.5013e-02,  1.6557e-01,  3.7571e-01,  3.1492e-01,  6.6933e-01,\n",
       "            -4.0002e-01, -6.3331e-03,  1.8645e-01, -3.0906e-01,  3.5314e-01,\n",
       "             1.1049e-02,  6.4653e-01,  2.7413e-01,  1.9415e-01,  3.1959e-01,\n",
       "             2.0268e-01,  7.6408e-02,  3.0792e-01,  2.5554e-01,  6.0842e-01,\n",
       "            -8.5416e-02,  9.1566e-01,  2.6886e-02,  1.5939e-02,  3.4539e-01,\n",
       "            -1.2341e-01,  4.3908e-02,  8.9834e-01,  6.8286e-01,  5.7730e-01,\n",
       "             5.5149e-01,  1.5502e-01, -1.0673e-01, -5.5822e-02],\n",
       "           [ 7.0161e-01, -2.3185e-01,  6.5047e-04, -2.0168e-01,  5.5600e-01,\n",
       "            -4.4161e-01, -1.6711e-01,  3.2967e-01, -1.3243e-01, -2.8431e-01,\n",
       "            -9.2141e-02,  8.8790e-02,  6.1324e-02,  3.6411e-01,  4.3315e-02,\n",
       "             1.8284e-02,  5.3717e-01,  1.3777e-01,  1.6545e-01,  3.1119e-01,\n",
       "             2.7656e-01,  6.6881e-02, -2.6726e-01, -4.3709e-01,  4.8675e-01,\n",
       "             6.8670e-02,  7.0873e-01, -1.3129e-01,  7.4835e-01,  3.6377e-02,\n",
       "             4.3994e-01,  4.1828e-01,  3.0104e-02,  4.7315e-01, -1.7206e-02,\n",
       "            -2.2307e-01,  4.4726e-01,  5.2594e-01,  5.9244e-01, -3.3652e-01,\n",
       "             4.2258e-01, -3.2600e-01, -1.1081e-01,  4.4143e-01, -8.5929e-01,\n",
       "            -2.9924e-03,  6.4564e-01,  1.1503e+00, -1.4358e-02,  1.8174e-01,\n",
       "             4.0991e-03,  3.5616e-01, -5.7668e-01,  2.3412e-01, -6.7599e-02,\n",
       "            -9.3872e-02,  5.4544e-01,  6.1371e-02,  7.4929e-02, -1.0204e-01,\n",
       "            -1.2033e-01,  1.0361e-02,  4.8076e-02, -4.3451e-01],\n",
       "           [-2.8586e-01, -1.0493e-01,  1.5313e-01,  5.1876e-01, -2.7053e-02,\n",
       "             2.3112e-01, -2.2397e-02, -4.4221e-01,  1.8422e-01,  1.0377e+00,\n",
       "             6.4909e-01,  8.7938e-01,  2.5460e-01, -8.8508e-01,  1.6931e-01,\n",
       "            -2.4048e-02, -1.1946e-01,  2.0680e-01,  3.1130e-01,  6.5575e-02,\n",
       "            -5.3606e-01,  4.9214e-01,  9.3470e-01, -1.2098e-01,  3.6280e-01,\n",
       "            -9.6916e-02,  4.7032e-01,  1.7976e-01, -4.9625e-02, -2.8532e-02,\n",
       "            -6.5478e-01,  1.2713e-01,  1.4377e-01,  1.0490e-01,  2.0465e-01,\n",
       "             9.6936e-01, -9.6575e-04,  4.1975e-02, -1.5567e-02, -5.7961e-01,\n",
       "             4.5192e-01, -4.6537e-02,  1.0483e-01,  5.3052e-01,  8.8192e-01,\n",
       "             5.4756e-03,  2.5424e-01,  2.8760e-01, -5.3971e-03,  2.0757e-01,\n",
       "             3.2294e-02,  8.1343e-02,  6.6076e-02,  4.6617e-01,  6.1208e-02,\n",
       "            -3.6865e-01, -2.9696e-01,  5.9388e-01,  3.7265e-01, -2.7830e-01,\n",
       "             1.9883e-01,  1.6172e-01, -2.1520e-03,  9.0075e-01],\n",
       "           [-9.1282e-02,  4.0880e-01,  8.2211e-02,  3.0096e-01,  3.7115e-01,\n",
       "            -9.8904e-02, -2.1929e-01, -1.0130e-01, -3.6477e-01,  1.3295e-02,\n",
       "            -4.1978e-02, -4.8751e-01,  2.0952e-01, -2.7447e-01,  2.2419e-01,\n",
       "            -8.7202e-02,  5.7381e-01,  3.2917e-01,  4.6564e-01,  5.6258e-02,\n",
       "            -2.4680e-02,  3.2448e-01, -3.9930e-01, -3.8917e-01,  1.1917e-01,\n",
       "             6.8916e-01,  3.6015e-01,  5.6923e-01,  2.6191e-01, -9.5089e-02,\n",
       "             1.0289e-01,  7.6509e-01,  3.7471e-01, -5.8906e-02,  3.1100e-02,\n",
       "             7.6729e-02,  5.6047e-01, -1.4122e-01,  1.0862e+00, -1.5297e-01,\n",
       "            -6.3105e-01,  1.3481e-01,  1.4453e-01,  8.2898e-01, -3.8684e-01,\n",
       "            -3.4918e-02,  6.7828e-01, -1.3000e-02,  1.0571e-01,  7.2519e-01,\n",
       "             1.2002e-01,  9.8705e-02,  9.7753e-01,  7.2115e-01, -5.7575e-02,\n",
       "             1.0517e-01,  6.6588e-02,  5.9058e-01, -4.9168e-02, -2.9221e-01,\n",
       "             1.8939e-01,  6.1547e-02,  5.0224e-01,  7.5143e-01],\n",
       "           [ 4.1170e-01,  1.8943e-01,  8.4494e-02, -4.3106e-02,  3.9995e-01,\n",
       "             9.0398e-01,  3.0760e-01,  6.2089e-01, -3.3350e-01, -4.0979e-01,\n",
       "             1.1549e+00, -1.8415e-01,  7.0240e-02,  3.7650e-01,  7.4481e-02,\n",
       "             9.1855e-02,  1.1725e+00, -6.7355e-02,  7.0285e-01,  6.1826e-01,\n",
       "             2.8183e-01,  4.5938e-02,  1.9428e-01,  7.8283e-01,  5.6588e-01,\n",
       "             4.8374e-01,  3.0270e-01,  3.0356e-02,  4.4761e-01,  9.5450e-02,\n",
       "             3.5232e-01, -1.4289e-02,  2.1719e-01,  4.4987e-01,  1.1990e-01,\n",
       "             6.2204e-03, -4.1448e-02, -1.6078e-01,  3.0546e-02,  3.2224e-01,\n",
       "            -2.7919e-01,  3.4560e-01,  5.0986e-02, -6.4437e-02,  5.2357e-01,\n",
       "            -2.4402e-02,  5.2329e-01,  5.7898e-01,  5.6708e-01, -3.8952e-02,\n",
       "            -6.0671e-02,  3.7673e-01, -2.2042e-02,  5.4958e-02,  4.3768e-01,\n",
       "            -3.5846e-01, -2.2302e-02,  2.4984e-01,  3.2075e-01, -1.8855e-01,\n",
       "             1.9209e-01, -1.0522e-01,  2.1145e-01,  1.6874e-01],\n",
       "           [-8.1021e-01,  2.2114e-01,  1.8591e-01, -8.1978e-02,  4.9352e-01,\n",
       "            -1.9985e-01,  6.9653e-02, -4.3725e-02,  8.2376e-01, -6.6659e-01,\n",
       "            -1.8166e-02, -1.3726e-01,  2.5030e-01,  1.6389e-02,  7.7665e-03,\n",
       "            -1.5684e-02,  9.6094e-03, -3.1759e-02,  2.6580e-01,  1.8628e-01,\n",
       "             5.9159e-01,  6.8857e-01, -5.3471e-01, -4.5519e-01,  3.4545e-01,\n",
       "             7.2116e-02,  6.4954e-01,  3.2246e-01, -2.8353e-01, -1.6343e-01,\n",
       "            -3.6800e-01,  3.6197e-01,  2.6918e-03,  1.8404e-01,  3.9387e-01,\n",
       "            -6.0155e-01, -6.1931e-02, -4.9957e-01, -1.6377e-01,  5.7892e-01,\n",
       "             7.9558e-01,  2.6996e-01,  2.1753e-01,  4.7850e-01,  5.7942e-02,\n",
       "             2.3656e-01,  4.3513e-01,  1.6962e-01,  2.4515e-02,  5.4271e-01,\n",
       "             3.2875e-01,  3.7127e-01, -1.6970e-01,  1.6154e-01,  2.3152e-01,\n",
       "             9.4109e-02, -4.7913e-01,  4.6616e-01,  4.3372e-01, -4.2300e-02,\n",
       "            -8.9089e-02, -1.3694e-01,  3.9908e-01, -1.6736e-01],\n",
       "           [ 9.2075e-01, -5.6832e-02, -2.8283e-01, -6.8762e-01, -2.2668e-01,\n",
       "             3.4088e-03, -2.3074e-01,  1.0204e+00,  2.2800e-01,  4.2704e-01,\n",
       "            -3.4855e-01,  8.0587e-02, -1.7857e-01,  3.5792e-01, -1.3834e-01,\n",
       "            -2.4196e-01, -3.3001e-01, -2.1850e-01, -2.4889e-01, -5.5780e-01,\n",
       "            -3.3461e-01, -4.5469e-01,  4.0390e-01, -4.9752e-01, -3.5803e-01,\n",
       "            -2.7136e-01, -5.5564e-01, -2.8440e-01,  2.3450e-01,  1.3883e-01,\n",
       "             7.6729e-01, -3.0211e-01,  3.9496e-02, -3.4222e-01, -3.5777e-01,\n",
       "            -2.4313e-02, -1.4975e-01, -2.1483e-01, -9.4760e-02,  5.4784e-02,\n",
       "             3.8679e-01, -2.7771e-01, -2.2867e-01, -6.5055e-01,  1.1780e-01,\n",
       "            -3.0037e-01, -3.5958e-01, -5.4361e-01, -3.9687e-01, -1.7567e-01,\n",
       "            -2.7514e-01, -5.5101e-01, -4.3651e-01, -2.8556e-01, -3.7651e-01,\n",
       "             1.3694e-01, -3.5114e-01, -6.7469e-01, -4.7721e-01, -2.8824e-01,\n",
       "            -2.7694e-01,  6.9140e-03, -6.8546e-01, -2.0507e-01]],\n",
       "          requires_grad=True),\n",
       "   Parameter containing:\n",
       "   tensor([ 1.3408, -0.5579, -0.0957, -0.4227, -0.1308,  0.3742, -0.3239, -0.4748,\n",
       "            0.1084,  0.1185], requires_grad=True)],\n",
       "  'lr': 0.5,\n",
       "  'momentum': 0,\n",
       "  'dampening': 0,\n",
       "  'weight_decay': 0,\n",
       "  'nesterov': False}]"
      ]
     },
     "execution_count": 76,
     "metadata": {},
     "output_type": "execute_result"
    }
   ],
   "source": [
    "opt.param_groups"
   ]
  },
  {
   "cell_type": "markdown",
   "metadata": {},
   "source": [
    "Let's make a quick function to get model and an optimizer:"
   ]
  },
  {
   "cell_type": "code",
   "execution_count": 77,
   "metadata": {},
   "outputs": [],
   "source": [
    "#export\n",
    "def get_model():\n",
    "    model = nn.Sequential(nn.Linear(m, nh), nn.ReLU(), nn.Linear(nh, 10))\n",
    "    return model, optim.SGD(model.parameters(), lr=lr)"
   ]
  },
  {
   "cell_type": "code",
   "execution_count": 78,
   "metadata": {},
   "outputs": [],
   "source": [
    "model, opt = get_model()"
   ]
  },
  {
   "cell_type": "code",
   "execution_count": 79,
   "metadata": {},
   "outputs": [],
   "source": [
    "for epoch in range(epochs):\n",
    "    for i in range(0,n,bs):\n",
    "        end = i+bs if i+bs < n else n\n",
    "        xb=x_train[i:end]\n",
    "        yb=y_train[i:end]\n",
    "        preds = model(xb)\n",
    "        loss = loss_func(preds, yb)\n",
    "        loss.backward()\n",
    "        opt.step()\n",
    "        opt.zero_grad()"
   ]
  },
  {
   "cell_type": "code",
   "execution_count": 80,
   "metadata": {},
   "outputs": [
    {
     "data": {
      "text/plain": [
       "(tensor(0.1690, grad_fn=<NllLossBackward>), tensor(0.9511))"
      ]
     },
     "execution_count": 80,
     "metadata": {},
     "output_type": "execute_result"
    }
   ],
   "source": [
    "vpreds = model(x_valid)\n",
    "loss,acc = loss_func(vpreds, y_valid), accuracy(vpreds, y_valid)\n",
    "loss,acc"
   ]
  },
  {
   "cell_type": "markdown",
   "metadata": {},
   "source": [
    "## Dataset and DataLoader"
   ]
  },
  {
   "cell_type": "markdown",
   "metadata": {},
   "source": [
    "### Dataset"
   ]
  },
  {
   "cell_type": "markdown",
   "metadata": {},
   "source": [
    "Another part of our training loop we can improve is:\n",
    "\n",
    "```python\n",
    "    for i in range(0,n,bs):\n",
    "        end = i+bs if i+bs < n else n\n",
    "        xb=x_train[i:end]\n",
    "        yb=y_train[i:end]\n",
    "```\n",
    "\n",
    "Let's build a `Dataset` class that will hold the `x`'s and `y`'s in one object. \n",
    "\n",
    "```python\n",
    "xb, yb = train_ds[i:end]\n",
    "```"
   ]
  },
  {
   "cell_type": "code",
   "execution_count": 81,
   "metadata": {},
   "outputs": [],
   "source": [
    "#export\n",
    "class Dataset():\n",
    "    def __init__(self, x, y):\n",
    "        self.x, self.y = x,y\n",
    "    \n",
    "    def __len__(self):\n",
    "        return len(self.x)\n",
    "    \n",
    "    def __getitem__(self,key): \n",
    "        return self.x[key], self.y[key]"
   ]
  },
  {
   "cell_type": "code",
   "execution_count": 82,
   "metadata": {},
   "outputs": [],
   "source": [
    "train_ds, valid_ds = Dataset(x_train, y_train), Dataset(x_valid, y_valid)"
   ]
  },
  {
   "cell_type": "code",
   "execution_count": 83,
   "metadata": {},
   "outputs": [],
   "source": [
    "assert len(train_ds) == len(x_train)"
   ]
  },
  {
   "cell_type": "code",
   "execution_count": 84,
   "metadata": {},
   "outputs": [
    {
     "data": {
      "text/plain": [
       "(tensor([[0., 0., 0.,  ..., 0., 0., 0.],\n",
       "         [0., 0., 0.,  ..., 0., 0., 0.],\n",
       "         [0., 0., 0.,  ..., 0., 0., 0.],\n",
       "         [0., 0., 0.,  ..., 0., 0., 0.],\n",
       "         [0., 0., 0.,  ..., 0., 0., 0.]]),\n",
       " tensor([5, 0, 4, 1, 9]))"
      ]
     },
     "execution_count": 84,
     "metadata": {},
     "output_type": "execute_result"
    }
   ],
   "source": [
    "xb,yb = train_ds[0:5]\n",
    "assert xb.shape==(5,28*28)\n",
    "assert yb.shape==(5,)\n",
    "xb,yb"
   ]
  },
  {
   "cell_type": "code",
   "execution_count": 85,
   "metadata": {},
   "outputs": [],
   "source": [
    "model, opt = get_model()"
   ]
  },
  {
   "cell_type": "code",
   "execution_count": 86,
   "metadata": {},
   "outputs": [],
   "source": [
    "for epoch in range(epochs):\n",
    "    for i in range(0,n,bs):\n",
    "        end = i+bs if i+bs < n else n\n",
    "        xb, yb = train_ds[i:end]\n",
    "        loss = loss_func(model(xb), yb)\n",
    "        loss.backward()\n",
    "        opt.step()\n",
    "        opt.zero_grad()"
   ]
  },
  {
   "cell_type": "code",
   "execution_count": 87,
   "metadata": {},
   "outputs": [
    {
     "data": {
      "text/plain": [
       "(tensor(0.2110, grad_fn=<NllLossBackward>), tensor(0.9360))"
      ]
     },
     "execution_count": 87,
     "metadata": {},
     "output_type": "execute_result"
    }
   ],
   "source": [
    "vpreds = model(x_valid)\n",
    "loss,acc = loss_func(vpreds, y_valid), accuracy(vpreds, y_valid)\n",
    "loss,acc"
   ]
  },
  {
   "cell_type": "markdown",
   "metadata": {},
   "source": [
    "### DataLoader from Scratch"
   ]
  },
  {
   "cell_type": "markdown",
   "metadata": {},
   "source": [
    "And we can use the same refactoring logic to make it so we can simply pull `x` and `y` batches out of a `DataLoader` class that holds the `Dataset` class we just made. \n",
    "\n",
    "```python\n",
    "for xb, yb in train_dl:\n",
    "    preds = model(xb)\n",
    "    loss = loss_func(preds, yb)\n",
    "```"
   ]
  },
  {
   "cell_type": "code",
   "execution_count": 88,
   "metadata": {},
   "outputs": [],
   "source": [
    "class DataLoader():\n",
    "    def __init__(self, ds, bs):\n",
    "        self.ds = ds\n",
    "        self.bs = bs\n",
    "\n",
    "    def __len__(self): \n",
    "        return len(self.ds/self.bs)\n",
    "    \n",
    "    def __iter__(self):\n",
    "        for i in range(0, len(self.ds), self.bs): \n",
    "            yield self.ds[i:i+self.bs]"
   ]
  },
  {
   "cell_type": "code",
   "execution_count": 89,
   "metadata": {},
   "outputs": [],
   "source": [
    "train_dl = DataLoader(train_ds, 64)\n",
    "valid_dl = DataLoader(valid_ds, 128)"
   ]
  },
  {
   "cell_type": "code",
   "execution_count": 90,
   "metadata": {},
   "outputs": [],
   "source": [
    "xb, yb = next(iter(valid_dl))"
   ]
  },
  {
   "cell_type": "code",
   "execution_count": 91,
   "metadata": {},
   "outputs": [],
   "source": [
    "assert xb.shape == (128, 28*28)"
   ]
  },
  {
   "cell_type": "code",
   "execution_count": 92,
   "metadata": {},
   "outputs": [
    {
     "data": {
      "text/plain": [
       "<matplotlib.image.AxesImage at 0x26d50eaa430>"
      ]
     },
     "execution_count": 92,
     "metadata": {},
     "output_type": "execute_result"
    },
    {
     "data": {
      "image/png": "[encoded data removed]",
      "text/plain": [
       "<Figure size 432x288 with 1 Axes>"
      ]
     },
     "metadata": {
      "needs_background": "light"
     },
     "output_type": "display_data"
    }
   ],
   "source": [
    "plt.imshow(xb[0].view(28, 28))"
   ]
  },
  {
   "cell_type": "code",
   "execution_count": 93,
   "metadata": {},
   "outputs": [
    {
     "data": {
      "text/plain": [
       "tensor(3)"
      ]
     },
     "execution_count": 93,
     "metadata": {},
     "output_type": "execute_result"
    }
   ],
   "source": [
    "yb[0]"
   ]
  },
  {
   "cell_type": "code",
   "execution_count": 94,
   "metadata": {},
   "outputs": [],
   "source": [
    "model, opt = get_model()"
   ]
  },
  {
   "cell_type": "code",
   "execution_count": 95,
   "metadata": {},
   "outputs": [],
   "source": [
    "def fit():\n",
    "    for epoch in range(epochs):\n",
    "        for xb, yb in train_dl:\n",
    "            loss = loss_func(model(xb), yb)\n",
    "            loss.backward()\n",
    "            opt.step()\n",
    "            opt.zero_grad()"
   ]
  },
  {
   "cell_type": "code",
   "execution_count": 96,
   "metadata": {},
   "outputs": [],
   "source": [
    "fit()"
   ]
  },
  {
   "cell_type": "code",
   "execution_count": 97,
   "metadata": {},
   "outputs": [
    {
     "data": {
      "text/plain": [
       "(tensor(0.1685, grad_fn=<NllLossBackward>), tensor(0.9529))"
      ]
     },
     "execution_count": 97,
     "metadata": {},
     "output_type": "execute_result"
    }
   ],
   "source": [
    "vpreds = model(x_valid)\n",
    "loss,acc = loss_func(vpreds, y_valid), accuracy(vpreds, y_valid)\n",
    "loss,acc"
   ]
  },
  {
   "cell_type": "markdown",
   "metadata": {},
   "source": [
    "### Random Sampling v1"
   ]
  },
  {
   "cell_type": "markdown",
   "metadata": {},
   "source": [
    "For certain datasets where the dependent variable is in a specific order we would want to shuffle the data before loading it into batches and putting it through the model. \n",
    "\n",
    "Every epoch we'll iterate through the entire dataset randomly. The model will get to see each training example once but the order will be different each time. \n",
    "\n",
    "To do this we need our `Dataloader` to send a batch size of random integers that are within the range of the dataset. \n",
    "\n",
    "We'll need permutations:"
   ]
  },
  {
   "cell_type": "code",
   "execution_count": 98,
   "metadata": {},
   "outputs": [
    {
     "data": {
      "text/plain": [
       "tensor([3, 7, 0, 4, 5, 2, 6, 1, 8, 9])"
      ]
     },
     "execution_count": 98,
     "metadata": {},
     "output_type": "execute_result"
    }
   ],
   "source": [
    "torch.randperm(10)"
   ]
  },
  {
   "cell_type": "code",
   "execution_count": 99,
   "metadata": {},
   "outputs": [],
   "source": [
    "class DataLoader():\n",
    "    def __init__(self, ds, bs, shuffle=False):\n",
    "        self.ds = ds\n",
    "        self.bs = bs\n",
    "        self.shuffle = shuffle\n",
    "    \n",
    "    def __iter__(self):\n",
    "        if self.shuffle:\n",
    "            perms = torch.randperm(len(self.ds))\n",
    "            for i in range(0, len(perms), bs): yield self.ds[perms[i:self.bs]]\n",
    "        else:\n",
    "            for i in range(0, len(self.ds), self.bs): yield self.ds[i:i+self.bs]"
   ]
  },
  {
   "cell_type": "code",
   "execution_count": 100,
   "metadata": {},
   "outputs": [],
   "source": [
    "test_dl = DataLoader(train_ds, 128, shuffle=True)\n",
    "test_valid_dl = DataLoader(valid_ds, 128, shuffle=False)"
   ]
  },
  {
   "cell_type": "code",
   "execution_count": 101,
   "metadata": {},
   "outputs": [
    {
     "data": {
      "text/plain": [
       "<matplotlib.image.AxesImage at 0x26d59a1c1c0>"
      ]
     },
     "execution_count": 101,
     "metadata": {},
     "output_type": "execute_result"
    },
    {
     "data": {
      "image/png": "[encoded data removed]",
      "text/plain": [
       "<Figure size 432x288 with 1 Axes>"
      ]
     },
     "metadata": {
      "needs_background": "light"
     },
     "output_type": "display_data"
    }
   ],
   "source": [
    "xb, yb = next(iter(test_dl))\n",
    "plt.imshow(xb[0].view(28,28))"
   ]
  },
  {
   "cell_type": "code",
   "execution_count": 102,
   "metadata": {},
   "outputs": [
    {
     "data": {
      "text/plain": [
       "<matplotlib.image.AxesImage at 0x26d59a63280>"
      ]
     },
     "execution_count": 102,
     "metadata": {},
     "output_type": "execute_result"
    },
    {
     "data": {
      "image/png": "[encoded data removed]",
      "text/plain": [
       "<Figure size 432x288 with 1 Axes>"
      ]
     },
     "metadata": {
      "needs_background": "light"
     },
     "output_type": "display_data"
    }
   ],
   "source": [
    "xb, yb = next(iter(test_dl))\n",
    "plt.imshow(xb[0].view(28,28))"
   ]
  },
  {
   "cell_type": "code",
   "execution_count": 103,
   "metadata": {},
   "outputs": [
    {
     "data": {
      "text/plain": [
       "<matplotlib.image.AxesImage at 0x26d59abc850>"
      ]
     },
     "execution_count": 103,
     "metadata": {},
     "output_type": "execute_result"
    },
    {
     "data": {
      "image/png": "[encoded data removed]",
      "text/plain": [
       "<Figure size 432x288 with 1 Axes>"
      ]
     },
     "metadata": {
      "needs_background": "light"
     },
     "output_type": "display_data"
    }
   ],
   "source": [
    "xb, yb = next(iter(test_dl))\n",
    "plt.imshow(xb[0].view(28,28))"
   ]
  },
  {
   "cell_type": "code",
   "execution_count": 104,
   "metadata": {},
   "outputs": [],
   "source": [
    "model, opt = get_model()\n",
    "fit()"
   ]
  },
  {
   "cell_type": "code",
   "execution_count": 105,
   "metadata": {},
   "outputs": [
    {
     "data": {
      "text/plain": [
       "(tensor(0.1671, grad_fn=<NllLossBackward>), tensor(0.9487))"
      ]
     },
     "execution_count": 105,
     "metadata": {},
     "output_type": "execute_result"
    }
   ],
   "source": [
    "vpreds = model(x_valid)\n",
    "loss,acc = loss_func(vpreds, y_valid), accuracy(vpreds, y_valid)\n",
    "loss,acc"
   ]
  },
  {
   "cell_type": "markdown",
   "metadata": {},
   "source": [
    "### Random Sampler v2"
   ]
  },
  {
   "cell_type": "code",
   "execution_count": 106,
   "metadata": {},
   "outputs": [],
   "source": [
    "class Sampler():\n",
    "    def __init__(self, ds, bs, shuffle=False):\n",
    "        self.n = len(ds) # just the length of the dataset not the whole dataset\n",
    "        self.bs = bs\n",
    "        self.shuffle = shuffle\n",
    "        \n",
    "    def __iter__(self):\n",
    "        self.idxs = torch.randperm(self.n) if self.shuffle else torch.arange(self.n)\n",
    "        for i in range(0, self.n, self.bs): yield self.idxs[i:i+self.bs]"
   ]
  },
  {
   "cell_type": "code",
   "execution_count": 107,
   "metadata": {},
   "outputs": [],
   "source": [
    "small_ds = Dataset(*train_ds[:10])"
   ]
  },
  {
   "cell_type": "markdown",
   "metadata": {},
   "source": [
    "To test this out let's see when `shuffle=False`"
   ]
  },
  {
   "cell_type": "code",
   "execution_count": 108,
   "metadata": {},
   "outputs": [
    {
     "data": {
      "text/plain": [
       "[tensor([0, 1, 2]), tensor([3, 4, 5]), tensor([6, 7, 8]), tensor([9])]"
      ]
     },
     "execution_count": 108,
     "metadata": {},
     "output_type": "execute_result"
    }
   ],
   "source": [
    "s = Sampler(small_ds, 3, False)\n",
    "[x for x in s]"
   ]
  },
  {
   "cell_type": "code",
   "execution_count": 109,
   "metadata": {},
   "outputs": [
    {
     "data": {
      "text/plain": [
       "[tensor([7, 1, 4]), tensor([9, 2, 0]), tensor([8, 5, 6]), tensor([3])]"
      ]
     },
     "execution_count": 109,
     "metadata": {},
     "output_type": "execute_result"
    }
   ],
   "source": [
    "s = Sampler(small_ds, 3, True)\n",
    "[x for x in s]"
   ]
  },
  {
   "cell_type": "code",
   "execution_count": 110,
   "metadata": {},
   "outputs": [],
   "source": [
    "def collate(b):\n",
    "    xs, ys = zip(*b)\n",
    "    return torch.stack(xs), torch.stack(ys)\n",
    "\n",
    "class DataLoader():\n",
    "    def __init__(self, ds, sampler, collate_fn=collate):\n",
    "        self.ds = ds\n",
    "        self.sampler = sampler\n",
    "        self.collate_fn = collate_fn\n",
    "    \n",
    "    def __iter__(self):\n",
    "        for s in self.sampler: yield self.collate_fn([self.ds[i] for i in s])"
   ]
  },
  {
   "cell_type": "code",
   "execution_count": 111,
   "metadata": {},
   "outputs": [],
   "source": [
    "train_samp = Sampler(train_ds, bs, shuffle=True)\n",
    "valid_samp = Sampler(valid_ds, bs, shuffle=False)"
   ]
  },
  {
   "cell_type": "code",
   "execution_count": 112,
   "metadata": {},
   "outputs": [],
   "source": [
    "train_dl = DataLoader(train_ds, sampler=train_samp, collate_fn=collate)\n",
    "valid_dl = DataLoader(valid_ds, sampler=valid_samp, collate_fn=collate)"
   ]
  },
  {
   "cell_type": "code",
   "execution_count": 113,
   "metadata": {},
   "outputs": [
    {
     "data": {
      "text/plain": [
       "<matplotlib.image.AxesImage at 0x26d59b12e20>"
      ]
     },
     "execution_count": 113,
     "metadata": {},
     "output_type": "execute_result"
    },
    {
     "data": {
      "image/png": "[encoded data removed]",
      "text/plain": [
       "<Figure size 432x288 with 1 Axes>"
      ]
     },
     "metadata": {
      "needs_background": "light"
     },
     "output_type": "display_data"
    }
   ],
   "source": [
    "xb, yb = next(iter(train_dl))\n",
    "plt.imshow(xb[0].view(28,28))"
   ]
  },
  {
   "cell_type": "code",
   "execution_count": 114,
   "metadata": {},
   "outputs": [
    {
     "data": {
      "text/plain": [
       "<matplotlib.image.AxesImage at 0x26d59b6c070>"
      ]
     },
     "execution_count": 114,
     "metadata": {},
     "output_type": "execute_result"
    },
    {
     "data": {
      "image/png": "[encoded data removed]",
      "text/plain": [
       "<Figure size 432x288 with 1 Axes>"
      ]
     },
     "metadata": {
      "needs_background": "light"
     },
     "output_type": "display_data"
    }
   ],
   "source": [
    "xb, yb = next(iter(train_dl))\n",
    "plt.imshow(xb[0].view(28,28))"
   ]
  },
  {
   "cell_type": "markdown",
   "metadata": {},
   "source": [
    "### Pytorch DataLoader"
   ]
  },
  {
   "cell_type": "markdown",
   "metadata": {},
   "source": [
    "Now we'll use the Pytorch version. \n",
    "\n",
    "It has a couple of particularly interesting args:\n",
    "\n",
    "- `drop_last` : drop the last incomplete batch \n",
    "-  `num_workers`: how many subprocesses to use for data loading. ``0`` means that the data will be loaded in the main process."
   ]
  },
  {
   "cell_type": "code",
   "execution_count": 116,
   "metadata": {},
   "outputs": [],
   "source": [
    "from torch.utils.data import DataLoader, SequentialSampler, RandomSampler\n",
    "\n",
    "train_dl = DataLoader(train_ds, bs, shuffle=True)\n",
    "valid_dl = DataLoader(valid_ds, 128, shuffle=False)"
   ]
  },
  {
   "cell_type": "code",
   "execution_count": 117,
   "metadata": {},
   "outputs": [],
   "source": [
    "model, opt = get_model()\n",
    "fit()"
   ]
  },
  {
   "cell_type": "code",
   "execution_count": 118,
   "metadata": {},
   "outputs": [
    {
     "data": {
      "text/plain": [
       "(tensor(0.4490, grad_fn=<NllLossBackward>), tensor(0.8611))"
      ]
     },
     "execution_count": 118,
     "metadata": {},
     "output_type": "execute_result"
    }
   ],
   "source": [
    "vpreds = model(x_valid)\n",
    "loss,acc = loss_func(vpreds, y_valid), accuracy(vpreds, y_valid)\n",
    "loss,acc"
   ]
  },
  {
   "cell_type": "markdown",
   "metadata": {},
   "source": [
    "## Validation"
   ]
  },
  {
   "cell_type": "markdown",
   "metadata": {},
   "source": [
    "A validation set is a key component to training properly: it is the only real indication we have that the model learning something useful. \n",
    "\n",
    "Specifically, it signals to us whether or not the model is overfitting to the training data. \n",
    "\n",
    "If we were to simply watch the training accuracy we would mostly likely see a continual improvement, as the loss diminishes and the accuracy increases to nearly 100%. \n",
    "\n",
    "That only indicates the performance of the model on labelled data. If the model's learning algorithm is powerful and it has enough parameters it can memorize the training data. \n",
    "\n",
    "But then, during inference time, when it is used to make predictions on unseen data, i.e. generalize, it may do horribly. \n",
    "\n",
    "So let's build a more complete training loop that includes a validation error:"
   ]
  },
  {
   "cell_type": "markdown",
   "metadata": {},
   "source": [
    "(Note: `model.train()` and `model.eval()` are used to turn on and off certain types of layers like Dropout and BatchNorm.)"
   ]
  },
  {
   "cell_type": "code",
   "execution_count": 119,
   "metadata": {},
   "outputs": [],
   "source": [
    "def fit(epochs, model, loss_func, opt, train_dl, valid_dl):\n",
    "    for epoch in range(epochs):\n",
    "        \n",
    "        model.train()\n",
    "        \n",
    "        for xb, yb in train_dl:\n",
    "            loss = loss_func(model(xb), yb)\n",
    "            loss.backward()\n",
    "            opt.step()\n",
    "            opt.zero_grad()\n",
    "            \n",
    "\n",
    "        model.eval()\n",
    "        vloss=[]\n",
    "        acc=[]\n",
    "        with torch.no_grad():\n",
    "            for xb,yb in valid_dl:\n",
    "                preds = model(xb)\n",
    "                vloss.append(loss_func(preds, yb))\n",
    "                acc.append(accuracy(preds, yb))\n",
    "        print('loss:', sum([i.item() for i in vloss])/len(valid_dl))\n",
    "        print('accuracy:', sum([i.item() for i in acc])/len(valid_dl))"
   ]
  },
  {
   "cell_type": "code",
   "execution_count": 120,
   "metadata": {},
   "outputs": [
    {
     "name": "stdout",
     "output_type": "stream",
     "text": [
      "loss: 0.1706093008146633\n",
      "accuracy: 0.9481803797468354\n",
      "loss: 0.19026051393321045\n",
      "accuracy: 0.9396756329113924\n"
     ]
    }
   ],
   "source": [
    "model, opt = get_model()\n",
    "fit(2, model, loss_func, opt, train_dl, valid_dl)"
   ]
  },
  {
   "cell_type": "code",
   "execution_count": 121,
   "metadata": {},
   "outputs": [],
   "source": [
    "#export\n",
    "def get_dls(train_ds, valid_ds, bs, **kwargs):\n",
    "    return (DataLoader(train_ds, batch_size=bs, shuffle=True, **kwargs),\n",
    "            DataLoader(valid_ds, batch_size=bs*2, **kwargs))"
   ]
  },
  {
   "cell_type": "markdown",
   "metadata": {},
   "source": [
    "Creating our dataloaders, getting a model and optimizer, and training can be run in three lines of code:"
   ]
  },
  {
   "cell_type": "code",
   "execution_count": 122,
   "metadata": {},
   "outputs": [
    {
     "name": "stdout",
     "output_type": "stream",
     "text": [
      "loss: 0.21858973362589185\n",
      "accuracy: 0.9353243670886076\n",
      "loss: 0.11040582522584856\n",
      "accuracy: 0.9675632911392406\n",
      "loss: 0.11853115729798999\n",
      "accuracy: 0.9622231012658228\n",
      "loss: 0.1047832053537846\n",
      "accuracy: 0.9698378164556962\n"
     ]
    }
   ],
   "source": [
    "get_dls(train_ds, valid_ds, 128)\n",
    "model, opt = get_model()\n",
    "fit(4, model, loss_func, opt, train_dl, valid_dl)"
   ]
  },
  {
   "cell_type": "code",
   "execution_count": 123,
   "metadata": {},
   "outputs": [
    {
     "name": "stdout",
     "output_type": "stream",
     "text": [
      "Converted 03_minibatch_training.ipynb to exp\\nb_03.py\n"
     ]
    }
   ],
   "source": [
    "!python notebook2script.py 03_minibatch_training.ipynb"
   ]
  },
  {
   "cell_type": "code",
   "execution_count": null,
   "metadata": {},
   "outputs": [],
   "source": []
  }
 ],
 "metadata": {
  "kernelspec": {
   "display_name": "Python 3",
   "language": "python",
   "name": "python3"
  },
  "language_info": {
   "codemirror_mode": {
    "name": "ipython",
    "version": 3
   },
   "file_extension": ".py",
   "mimetype": "text/x-python",
   "name": "python",
   "nbconvert_exporter": "python",
   "pygments_lexer": "ipython3",
   "version": "3.8.2"
  },
  "toc": {
   "base_numbering": 1,
   "nav_menu": {},
   "number_sections": true,
   "sideBar": true,
   "skip_h1_title": false,
   "title_cell": "Table of Contents",
   "title_sidebar": "Contents",
   "toc_cell": false,
   "toc_position": {},
   "toc_section_display": true,
   "toc_window_display": false
  }
 },
 "nbformat": 4,
 "nbformat_minor": 4
}
