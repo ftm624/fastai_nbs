{
 "cells": [
  {
   "cell_type": "code",
   "execution_count": 1,
   "metadata": {},
   "outputs": [],
   "source": [
    "%reload_ext autoreload\n",
    "%autoreload 2\n",
    "%matplotlib inline"
   ]
  },
  {
   "cell_type": "markdown",
   "metadata": {},
   "source": [
    "# Recorder and Annealing\n",
    "> Parameter Scheduling"
   ]
  },
  {
   "cell_type": "code",
   "execution_count": 2,
   "metadata": {},
   "outputs": [],
   "source": [
    "#export\n",
    "\n",
    "from exp.nb_04 import *\n",
    "\n",
    "import torch.nn.functional as F\n",
    "import torch.nn as nn\n",
    "from functools import partial"
   ]
  },
  {
   "cell_type": "markdown",
   "metadata": {},
   "source": [
    "## Get Data"
   ]
  },
  {
   "cell_type": "code",
   "execution_count": 3,
   "metadata": {},
   "outputs": [],
   "source": [
    "x_train, y_train, x_valid, y_valid = get_data()\n",
    "train_ds, valid_ds = Dataset(x_train, y_train), Dataset(x_valid, y_valid)\n",
    "nh = 50\n",
    "bs = 512\n",
    "c = y_train.max().item()+1\n",
    "loss_func = F.cross_entropy"
   ]
  },
  {
   "cell_type": "code",
   "execution_count": 4,
   "metadata": {},
   "outputs": [],
   "source": [
    "data = DataBunch(*get_dls(train_ds, valid_ds, bs), c=c)"
   ]
  },
  {
   "cell_type": "markdown",
   "metadata": {},
   "source": [
    "### Create Learner and Test"
   ]
  },
  {
   "cell_type": "code",
   "execution_count": 5,
   "metadata": {},
   "outputs": [],
   "source": [
    "#export \n",
    "def create_learner(model_func, loss_func, data):\n",
    "    return Learner(*model_func(data),loss_func, data)"
   ]
  },
  {
   "cell_type": "code",
   "execution_count": 6,
   "metadata": {},
   "outputs": [],
   "source": [
    "learn = create_learner(get_model, loss_func, data)\n",
    "run = Runner(cbs=[AvgStatsCallback(accuracy)])"
   ]
  },
  {
   "cell_type": "code",
   "execution_count": 7,
   "metadata": {},
   "outputs": [
    {
     "name": "stdout",
     "output_type": "stream",
     "text": [
      "train: [0.667735703125, tensor(0.8055)]\n",
      "valid: [0.33708525390625, tensor(0.8984)]\n",
      "train: [0.30191533203125, tensor(0.9112)]\n",
      "valid: [0.243979052734375, tensor(0.9282)]\n",
      "train: [0.24016150390625, tensor(0.9305)]\n",
      "valid: [0.202760400390625, tensor(0.9431)]\n"
     ]
    }
   ],
   "source": [
    "run.fit(3, learn)"
   ]
  },
  {
   "cell_type": "markdown",
   "metadata": {},
   "source": [
    "To change the learning rate we need to change the `get_model` default arg and pass it along to `create_learner` we do this with a partial:"
   ]
  },
  {
   "cell_type": "code",
   "execution_count": 8,
   "metadata": {},
   "outputs": [],
   "source": [
    "learn = create_learner(partial(get_model, lr=0.3), loss_func, data)"
   ]
  },
  {
   "cell_type": "code",
   "execution_count": 9,
   "metadata": {},
   "outputs": [
    {
     "name": "stdout",
     "output_type": "stream",
     "text": [
      "train: [0.77007109375, tensor(0.7936)]\n",
      "valid: [0.369775732421875, tensor(0.8933)]\n",
      "train: [0.346526640625, tensor(0.9011)]\n",
      "valid: [0.2892301513671875, tensor(0.9174)]\n",
      "train: [0.29322056640625, tensor(0.9165)]\n",
      "valid: [0.251543115234375, tensor(0.9279)]\n"
     ]
    }
   ],
   "source": [
    "run = Runner(cbs=[AvgStatsCallback(accuracy)])\n",
    "run.fit(3, learn)"
   ]
  },
  {
   "cell_type": "markdown",
   "metadata": {},
   "source": [
    "So we can wrap that partial in a function:"
   ]
  },
  {
   "cell_type": "code",
   "execution_count": 10,
   "metadata": {},
   "outputs": [],
   "source": [
    "#export\n",
    "def get_model_func(lr=0.5): return partial(get_model, lr=lr)"
   ]
  },
  {
   "cell_type": "markdown",
   "metadata": {},
   "source": [
    "## Recorder & Parameter Scheduling"
   ]
  },
  {
   "cell_type": "markdown",
   "metadata": {},
   "source": [
    "Recent research has demonstrated the importance of varying certain parameters over the course of a training epoch. \n",
    "\n",
    "Hyper-parameters like learning rate, momentum, and weight decay should be tuned and change according to the position in the training.\n",
    "\n",
    "To do this we'll make two callbacks:\n",
    "\n",
    "- `Recorder` which will track (or record) the loss and any other parameter we want\n",
    "- `ParamScheduler` which will change any parameter that is registered in our optimizer param dict. \n",
    "\n",
    "Let's start with the `Recorder`"
   ]
  },
  {
   "cell_type": "code",
   "execution_count": 11,
   "metadata": {},
   "outputs": [],
   "source": [
    "#export\n",
    "class Callback():\n",
    "\n",
    "    _order = 0\n",
    "\n",
    "    def set_runner(self, run):\n",
    "        self.run = run\n",
    "\n",
    "    def __getattr__(self, k):\n",
    "        return getattr(self.run, k)\n",
    "\n",
    "    @property\n",
    "    def name(self):\n",
    "        name = re.sub(r'Callback$', '', self.__class__.__name__) # removes Callback from custom callback class name\n",
    "        return camel2snake(name or \"callback\")"
   ]
  },
  {
   "cell_type": "code",
   "execution_count": 12,
   "metadata": {},
   "outputs": [],
   "source": [
    "#export\n",
    "class Recorder(Callback):\n",
    "    def begin_fit(self):\n",
    "        self.losses = []\n",
    "        self.lrs = []\n",
    "    \n",
    "    def after_step(self):\n",
    "        if not self.in_train: return # don't \n",
    "        self.losses.append(self.loss.detach().cpu())\n",
    "        self.lrs.append(self.opt.param_groups[-1]['lr'])\n",
    "    \n",
    "    def plot_losses(self):\n",
    "        plt.plot(self.losses)\n",
    "        \n",
    "    def plot_lr(self):\n",
    "        plt.plot(self.lrs)"
   ]
  },
  {
   "cell_type": "code",
   "execution_count": 13,
   "metadata": {},
   "outputs": [
    {
     "name": "stdout",
     "output_type": "stream",
     "text": [
      "train: [0.67179203125, tensor(0.8049)]\n",
      "valid: [0.3221376953125, tensor(0.9067)]\n",
      "train: [0.29242376953125, tensor(0.9155)]\n",
      "valid: [0.2788956787109375, tensor(0.9176)]\n",
      "train: [0.23997259765625, tensor(0.9303)]\n",
      "valid: [0.2074302734375, tensor(0.9439)]\n"
     ]
    }
   ],
   "source": [
    "learn = create_learner(get_model_func(), loss_func, data)\n",
    "run = Runner(cb_funcs=[AvgStatsCallback(accuracy), Recorder()])\n",
    "run.fit(3, learn)"
   ]
  },
  {
   "cell_type": "markdown",
   "metadata": {},
   "source": [
    "Alright our recorder is working. We can plot the losses:"
   ]
  },
  {
   "cell_type": "code",
   "execution_count": 14,
   "metadata": {},
   "outputs": [
    {
     "data": {
      "image/png": "[encoded data removed]",
      "text/plain": [
       "<Figure size 432x288 with 1 Axes>"
      ]
     },
     "metadata": {
      "needs_background": "light"
     },
     "output_type": "display_data"
    }
   ],
   "source": [
    "run.recorder.plot_losses()"
   ]
  },
  {
   "cell_type": "markdown",
   "metadata": {},
   "source": [
    "We can also plot the learning rate:"
   ]
  },
  {
   "cell_type": "code",
   "execution_count": 15,
   "metadata": {},
   "outputs": [
    {
     "data": {
      "image/png": "[encoded data removed]",
      "text/plain": [
       "<Figure size 432x288 with 1 Axes>"
      ]
     },
     "metadata": {
      "needs_background": "light"
     },
     "output_type": "display_data"
    }
   ],
   "source": [
    "run.recorder.plot_lr()"
   ]
  },
  {
   "cell_type": "markdown",
   "metadata": {},
   "source": [
    "The learning rate here is constant for the entire duration of the epoch.\n",
    "\n",
    "Let's fix that with a `ParamScheduler` callback:"
   ]
  },
  {
   "cell_type": "code",
   "execution_count": 16,
   "metadata": {},
   "outputs": [],
   "source": [
    "#export\n",
    "class ParamScheduler(Callback):\n",
    "    _order = 1\n",
    "    \n",
    "    def __init__(self, pname, sched_func):\n",
    "        self.pname = pname\n",
    "        self.sched_func = sched_func\n",
    "    \n",
    "    def set_param(self):\n",
    "        for pg in self.opt.param_groups:\n",
    "            pg[self.pname] = self.sched_func(self.n_epochs/self.epochs)\n",
    "    \n",
    "    def begin_batch(self):\n",
    "        if self.in_train: self.set_param()\n",
    "            "
   ]
  },
  {
   "cell_type": "markdown",
   "metadata": {},
   "source": [
    "### Schedulers"
   ]
  },
  {
   "cell_type": "markdown",
   "metadata": {},
   "source": [
    "Let's start easy with a linear scheduler.\n",
    "\n",
    "We want a function that takes a place to start, an end, and the number of steps to take.\n",
    "\n",
    "The start and end should be established before training starts and the function should then take in the current position and return the value. \n",
    "\n",
    "We'll have to use `partial` for this."
   ]
  },
  {
   "cell_type": "code",
   "execution_count": 17,
   "metadata": {},
   "outputs": [],
   "source": [
    "def linsched(start, stop):\n",
    "    def _inner(start, stop, pos): return start + (stop - start) * pos\n",
    "    return partial(_inner, start, stop)"
   ]
  },
  {
   "cell_type": "code",
   "execution_count": 18,
   "metadata": {},
   "outputs": [
    {
     "data": {
      "text/plain": [
       "0.4"
      ]
     },
     "execution_count": 18,
     "metadata": {},
     "output_type": "execute_result"
    }
   ],
   "source": [
    "start = 0.1 \n",
    "end = 0.5\n",
    "ls = linsched(start, end)\n",
    "ls(.75)"
   ]
  },
  {
   "cell_type": "markdown",
   "metadata": {},
   "source": [
    "A more pythonic and cleaner way of doing this would be to use a decorator:"
   ]
  },
  {
   "cell_type": "code",
   "execution_count": 19,
   "metadata": {},
   "outputs": [],
   "source": [
    "#export\n",
    "\n",
    "def annealer(f):\n",
    "    def _inner(start, end): return partial(f, start, end)\n",
    "    return _inner\n",
    "    \n",
    "@annealer\n",
    "def sched_lin(start, end, pos): return start + (end -start) * pos"
   ]
  },
  {
   "cell_type": "code",
   "execution_count": 20,
   "metadata": {},
   "outputs": [
    {
     "data": {
      "text/plain": [
       "0.4"
      ]
     },
     "execution_count": 20,
     "metadata": {},
     "output_type": "execute_result"
    }
   ],
   "source": [
    "start = 0.1 \n",
    "end = 0.5\n",
    "ls = sched_lin(start, end)\n",
    "ls(.75)"
   ]
  },
  {
   "cell_type": "markdown",
   "metadata": {},
   "source": [
    "Now we can use this decorator and define simple `sched` functions. \n",
    "\n",
    "They take `start` and `end` args to initialize and then are called with a percentage of the epoch (between 0 - 1) and return a parameter value at that position. \n",
    "\n",
    "The first and most obvious is `sched_no` which does nothing."
   ]
  },
  {
   "cell_type": "code",
   "execution_count": 21,
   "metadata": {},
   "outputs": [],
   "source": [
    "#export\n",
    "\n",
    "import math\n",
    "\n",
    "@annealer\n",
    "def sched_no(start, end, pos): return start\n",
    "\n",
    "@annealer\n",
    "def sched_cos(start, end, pos): return start + (1 + math.cos(math.pi*(1-pos))) * (end-start) / 2\n",
    "\n",
    "@annealer\n",
    "def sched_exp(start, end, pos): return start * (end/start) ** pos"
   ]
  },
  {
   "cell_type": "code",
   "execution_count": 22,
   "metadata": {},
   "outputs": [],
   "source": [
    "#export\n",
    "def cos_1cycle_anneal(start, high, end):\n",
    "    return [sched_cos(start, high), sched_cos(high, end)]"
   ]
  },
  {
   "cell_type": "markdown",
   "metadata": {},
   "source": [
    "Plotting the different schedulers gives a clear picture of what they are doing over the course of an epoch."
   ]
  },
  {
   "cell_type": "code",
   "execution_count": 23,
   "metadata": {},
   "outputs": [
    {
     "data": {
      "text/plain": [
       "<matplotlib.legend.Legend at 0x257000b11f0>"
      ]
     },
     "execution_count": 23,
     "metadata": {},
     "output_type": "execute_result"
    },
    {
     "data": {
      "image/png": "[encoded data removed]",
      "text/plain": [
       "<Figure size 432x288 with 1 Axes>"
      ]
     },
     "metadata": {
      "needs_background": "light"
     },
     "output_type": "display_data"
    }
   ],
   "source": [
    "annealings = \"NO LINEAR COS EXP\".split()\n",
    "\n",
    "iterations = torch.arange(0,100)\n",
    "pos = torch.linspace(0.01, 1, 100)\n",
    "\n",
    "funcs = [sched_no, sched_lin, sched_cos, sched_exp]\n",
    "\n",
    "for fn, title in zip(funcs, annealings):\n",
    "    f = fn(1e-04, 3e-2)\n",
    "    plt.plot(iterations, [f(o) for o in pos], label=title)\n",
    "\n",
    "plt.xlabel(\"Iterations\")\n",
    "plt.ylabel(\"Param Value\")\n",
    "plt.legend()"
   ]
  },
  {
   "cell_type": "markdown",
   "metadata": {},
   "source": [
    "The tricker part of scheduling is combining these functions together to design how our parameters are scheduled. We don't necessary want them to increase linearly, exponentially, or like a cosine."
   ]
  },
  {
   "cell_type": "code",
   "execution_count": 24,
   "metadata": {},
   "outputs": [],
   "source": [
    "#export \n",
    "def combine_scheds(pcts, scheds):\n",
    "    assert sum(pcts) == 1.\n",
    "    pcts = tensor([0] + listify(pcts))\n",
    "    assert torch.all(pcts>=0)\n",
    "    pcts = torch.cumsum(pcts, 0)\n",
    "    def _inner(pos):\n",
    "        idx = (pos >= pcts).nonzero().max()\n",
    "        actual_pos = (pos-pcts[idx]) / (pcts[idx+1]-pcts[idx])\n",
    "        return scheds[idx](actual_pos)\n",
    "    return _inner"
   ]
  },
  {
   "cell_type": "code",
   "execution_count": 25,
   "metadata": {},
   "outputs": [],
   "source": [
    "sched = combine_scheds([0.4, 0.6], [sched_cos(0.3, 0.6), sched_cos(0.6, 0.2)]) "
   ]
  },
  {
   "cell_type": "code",
   "execution_count": 26,
   "metadata": {},
   "outputs": [
    {
     "data": {
      "text/plain": [
       "[<matplotlib.lines.Line2D at 0x257001bc9d0>]"
      ]
     },
     "execution_count": 26,
     "metadata": {},
     "output_type": "execute_result"
    },
    {
     "data": {
      "image/png": "[encoded data removed]",
      "text/plain": [
       "<Figure size 432x288 with 1 Axes>"
      ]
     },
     "metadata": {
      "needs_background": "light"
     },
     "output_type": "display_data"
    }
   ],
   "source": [
    "pos = torch.linspace(0.01, 1, 100)\n",
    "plt.plot(iterations, [sched(o) for o in pos])"
   ]
  },
  {
   "cell_type": "markdown",
   "metadata": {},
   "source": [
    "## Testing"
   ]
  },
  {
   "cell_type": "code",
   "execution_count": 27,
   "metadata": {},
   "outputs": [],
   "source": [
    "scheduler = partial(ParamScheduler, 'lr', sched)"
   ]
  },
  {
   "cell_type": "code",
   "execution_count": 28,
   "metadata": {},
   "outputs": [],
   "source": [
    "learn = create_learner(get_model_func(0.3), loss_func, data)\n",
    "run = Runner(cbs=[AvgStatsCallback(accuracy), scheduler()], cb_funcs=Recorder())"
   ]
  },
  {
   "cell_type": "code",
   "execution_count": 29,
   "metadata": {},
   "outputs": [
    {
     "name": "stdout",
     "output_type": "stream",
     "text": [
      "train: [0.732454609375, tensor(0.7949)]\n",
      "valid: [0.30394931640625, tensor(0.9126)]\n"
     ]
    }
   ],
   "source": [
    "run.fit(1, learn)"
   ]
  },
  {
   "cell_type": "code",
   "execution_count": 30,
   "metadata": {},
   "outputs": [
    {
     "data": {
      "image/png": "[encoded data removed]",
      "text/plain": [
       "<Figure size 432x288 with 1 Axes>"
      ]
     },
     "metadata": {
      "needs_background": "light"
     },
     "output_type": "display_data"
    }
   ],
   "source": [
    "run.recorder.plot_losses()"
   ]
  },
  {
   "cell_type": "code",
   "execution_count": 31,
   "metadata": {},
   "outputs": [
    {
     "data": {
      "image/png": "[encoded data removed]",
      "text/plain": [
       "<Figure size 432x288 with 1 Axes>"
      ]
     },
     "metadata": {
      "needs_background": "light"
     },
     "output_type": "display_data"
    }
   ],
   "source": [
    "run.recorder.plot_lr()"
   ]
  },
  {
   "cell_type": "code",
   "execution_count": 32,
   "metadata": {},
   "outputs": [
    {
     "name": "stdout",
     "output_type": "stream",
     "text": [
      "Converted 05_recorder_annealing.ipynb to exp\\nb_05.py\n"
     ]
    }
   ],
   "source": [
    "!python notebook2script.py 05_recorder_annealing.ipynb"
   ]
  }
 ],
 "metadata": {
  "kernelspec": {
   "display_name": "Python 3",
   "language": "python",
   "name": "python3"
  },
  "language_info": {
   "codemirror_mode": {
    "name": "ipython",
    "version": 3
   },
   "file_extension": ".py",
   "mimetype": "text/x-python",
   "name": "python",
   "nbconvert_exporter": "python",
   "pygments_lexer": "ipython3",
   "version": "3.8.2"
  },
  "toc": {
   "base_numbering": 1,
   "nav_menu": {},
   "number_sections": true,
   "sideBar": true,
   "skip_h1_title": false,
   "title_cell": "Table of Contents",
   "title_sidebar": "Contents",
   "toc_cell": false,
   "toc_position": {},
   "toc_section_display": true,
   "toc_window_display": false
  }
 },
 "nbformat": 4,
 "nbformat_minor": 4
}
