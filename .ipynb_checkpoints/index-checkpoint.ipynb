{
 "cells": [
  {
   "cell_type": "markdown",
   "metadata": {},
   "source": [
    "# Deep Learning Notebooks\n",
    "\n",
    "> An exploration of deep learning from the ground up. "
   ]
  },
  {
   "cell_type": "markdown",
   "metadata": {},
   "source": [
    "These notebooks are loosely based on the Fastai course <a href=\"https://course.fast.ai/part2\"> Part 2: Deep Learning from the Foundations </a>. They follow the general order of that course and expand upon cencepts and code I found to be particularly interesting. \n",
    "\n",
    "This documentation is not meant to build a functional library for deep learning. Instead it is an attempt at \"literate programming\" (Knuth, 1983). \n",
    "\n",
    "\n",
    "\n",
    "\n",
    "Contents:\n",
    "\n",
    "- <a href=\"http://jakepalmert.com/fastai_nbs/00\">00 Exports </a>\n",
    "- <a href=\"http://jakepalmert.com/fastai_nbs/01\">01 Tensors and Matrix Multiplication</a>\n",
    "- <a href=\"http://jakepalmert.com/fastai_nbs/02\">02 Fully Connected Layers</a>\n",
    "- <a href=\"http://jakepalmert.com/fastai_nbs/03\">03 Mini-Batch Training </a>\n",
    "- <a href=\"http://jakepalmert.com/fastai_nbs/04\">04 DataBunchs, Learners, and Runner </a>\n",
    "- <a href=\"http://jakepalmert.com/fastai_nbs/05\">05 Recorder and Annealing </a>\n",
    "- <a href=\"http://jakepalmert.com/fastai_nbs/06\">06 Runner v2.0 </a>\n",
    "- <a href=\"http://jakepalmert.com/fastai_nbs/07\">07 CUDA, CNN, and Hooks </a>"
   ]
  }
 ],
 "metadata": {
  "kernelspec": {
   "display_name": "Python 3",
   "language": "python",
   "name": "python3"
  },
  "language_info": {
   "codemirror_mode": {
    "name": "ipython",
    "version": 3
   },
   "file_extension": ".py",
   "mimetype": "text/x-python",
   "name": "python",
   "nbconvert_exporter": "python",
   "pygments_lexer": "ipython3",
   "version": "3.8.2"
  },
  "toc": {
   "base_numbering": 1,
   "nav_menu": {},
   "number_sections": true,
   "sideBar": true,
   "skip_h1_title": false,
   "title_cell": "Table of Contents",
   "title_sidebar": "Contents",
   "toc_cell": false,
   "toc_position": {},
   "toc_section_display": true,
   "toc_window_display": false
  }
 },
 "nbformat": 4,
 "nbformat_minor": 2
}
