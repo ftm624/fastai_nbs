{
 "cells": [
  {
   "cell_type": "markdown",
   "metadata": {},
   "source": [
    "# Deep Learning Notebooks\n",
    "\n",
    "> An exploration of deep learning from the ground up. "
   ]
  },
  {
   "cell_type": "markdown",
   "metadata": {},
   "source": [
    "These notebooks are loosely based on the Fastai course <a href=\"https://course.fast.ai/part2\"> Part 2: Deep Learning from the Foundations </a>. They follow the general order of that course and expand upon cencepts and code I found to be particularly interesting. \n",
    "\n",
    "This documentation is not meant to build a functional library for deep learning. Instead it is an attempt at \"literate programming\" (Knuth, 1983). \n"
   ]
  },
  {
   "cell_type": "code",
   "execution_count": null,
   "metadata": {},
   "outputs": [],
   "source": []
  }
 ],
 "metadata": {
  "kernelspec": {
   "display_name": "Python 3",
   "language": "python",
   "name": "python3"
  },
  "language_info": {
   "codemirror_mode": {
    "name": "ipython",
    "version": 3
   },
   "file_extension": ".py",
   "mimetype": "text/x-python",
   "name": "python",
   "nbconvert_exporter": "python",
   "pygments_lexer": "ipython3",
   "version": "3.8.2"
  }
 },
 "nbformat": 4,
 "nbformat_minor": 2
}
