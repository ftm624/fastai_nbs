{
 "cells": [
  {
   "cell_type": "markdown",
   "metadata": {},
   "source": [
    "# Exporting\n",
    "> The tradeoffs of using an interactive programming environment"
   ]
  },
  {
   "cell_type": "code",
   "execution_count": 1,
   "metadata": {},
   "outputs": [],
   "source": [
    "%reload_ext autoreload\n",
    "%autoreload 2\n",
    "%matplotlib inline"
   ]
  },
  {
   "cell_type": "code",
   "execution_count": 2,
   "metadata": {},
   "outputs": [],
   "source": [
    "import json,re\n",
    "from pathlib import Path\n",
    "import io"
   ]
  },
  {
   "cell_type": "markdown",
   "metadata": {},
   "source": [
    "Let's start by simply grabbing a `ipynb` file"
   ]
  },
  {
   "cell_type": "code",
   "execution_count": 7,
   "metadata": {},
   "outputs": [
    {
     "data": {
      "text/plain": [
       "WindowsPath('01_tensors_matmul.ipynb')"
      ]
     },
     "execution_count": 7,
     "metadata": {},
     "output_type": "execute_result"
    }
   ],
   "source": [
    "fname = Path('01_tensors_matmul.ipynb'); fname"
   ]
  },
  {
   "cell_type": "markdown",
   "metadata": {},
   "source": [
    "`ipynb` files are simply JSON plain text format. So we can load it and it gives us a dictionary. "
   ]
  },
  {
   "cell_type": "code",
   "execution_count": 8,
   "metadata": {},
   "outputs": [
    {
     "data": {
      "text/plain": [
       "'nb_01.py'"
      ]
     },
     "execution_count": 8,
     "metadata": {},
     "output_type": "execute_result"
    }
   ],
   "source": [
    "fname_out = f'nb_{fname.stem.split(\"_\")[0]}.py'; fname_out"
   ]
  },
  {
   "cell_type": "code",
   "execution_count": 9,
   "metadata": {},
   "outputs": [],
   "source": [
    "main_dic = json.load(open(fname,'r',encoding=\"utf-8\"))"
   ]
  },
  {
   "cell_type": "code",
   "execution_count": 10,
   "metadata": {},
   "outputs": [
    {
     "data": {
      "text/plain": [
       "dict_keys(['cells', 'metadata', 'nbformat', 'nbformat_minor'])"
      ]
     },
     "execution_count": 10,
     "metadata": {},
     "output_type": "execute_result"
    }
   ],
   "source": [
    "main_dic.keys()"
   ]
  },
  {
   "cell_type": "markdown",
   "metadata": {},
   "source": [
    "Looking at the `cells` key we can see each cell of the jupyter notebook and what properties it has."
   ]
  },
  {
   "cell_type": "code",
   "execution_count": 11,
   "metadata": {},
   "outputs": [
    {
     "data": {
      "text/plain": [
       "{'cell_type': 'code',\n",
       " 'execution_count': 1,\n",
       " 'metadata': {},\n",
       " 'outputs': [],\n",
       " 'source': ['# default_exp nb_01']}"
      ]
     },
     "execution_count": 11,
     "metadata": {},
     "output_type": "execute_result"
    }
   ],
   "source": [
    "main_dic['cells'][0]"
   ]
  },
  {
   "cell_type": "markdown",
   "metadata": {},
   "source": [
    "Now we want to be look at each cell and determine if it should be exported as part of our module's functions. \n",
    "\n",
    "We do this by putting `#export` in any cell we want to export and using a function to read each cell in the loaded notebook and return `True` or `False` depending on if the export tag is present or not. "
   ]
  },
  {
   "cell_type": "code",
   "execution_count": 12,
   "metadata": {},
   "outputs": [],
   "source": [
    "def is_export(cell):\n",
    "    # if the cell is not code return false\n",
    "    if cell['cell_type'] != 'code': return False\n",
    "    src = cell['source']\n",
    "    # if the len\n",
    "    if len(src) == 0 or len(src[0]) < 7: return False\n",
    "    return re.match(r'^\\s*#\\s*export\\s*$', src[0], re.IGNORECASE) is not None"
   ]
  },
  {
   "cell_type": "code",
   "execution_count": 13,
   "metadata": {},
   "outputs": [],
   "source": [
    "code_cells = [c for c in main_dic['cells'] if is_export(c)]"
   ]
  },
  {
   "cell_type": "markdown",
   "metadata": {},
   "source": [
    "Now we have a list of all the cells marked for export"
   ]
  },
  {
   "cell_type": "code",
   "execution_count": 14,
   "metadata": {},
   "outputs": [
    {
     "data": {
      "text/plain": [
       "{'cell_type': 'code',\n",
       " 'execution_count': 28,\n",
       " 'metadata': {},\n",
       " 'outputs': [],\n",
       " 'source': ['#export\\n',\n",
       "  'import operator\\n',\n",
       "  '\\n',\n",
       "  'def test(a, b, comp, cname=None):\\n',\n",
       "  '    if cname is None: cname = comp.__name__\\n',\n",
       "  '    assert comp(a,b), f\"{cname}: \\\\n{a} \\\\b{b}\"\\n',\n",
       "  '\\n',\n",
       "  'def test_eq(a,b): \\n',\n",
       "  '    test(a,b, operator.eq, \"==\")']}"
      ]
     },
     "execution_count": 14,
     "metadata": {},
     "output_type": "execute_result"
    }
   ],
   "source": [
    "code_cells[0]"
   ]
  },
  {
   "cell_type": "markdown",
   "metadata": {},
   "source": [
    "Lastly, we can iterate through the list, grab the code put into a string called `module` and export it as a python file. "
   ]
  },
  {
   "cell_type": "code",
   "execution_count": 15,
   "metadata": {},
   "outputs": [],
   "source": [
    "module = f'''\n",
    "#################################################\n",
    "### THIS FILE WAS AUTOGENERATED! DO NOT EDIT! ###\n",
    "#################################################\n",
    "# file to edit: dev_nb/{fname.name}\n",
    "\n",
    "'''\n",
    "\n",
    "for cell in code_cells: \n",
    "    module += ''.join(cell['source'][1:]) + '\\n\\n'"
   ]
  },
  {
   "cell_type": "code",
   "execution_count": 16,
   "metadata": {},
   "outputs": [
    {
     "data": {
      "text/plain": [
       "'\\n#################################################\\n### THIS FILE WAS AUTOGENERATED! DO NOT EDIT! ###\\n#################################################\\n# file to edit: dev_nb/01_tensors_matmul.ipynb\\n\\nimport operator\\n\\ndef test(a, b, comp, cname=None):\\n    if cname is None: cname = comp.__name__\\n    assert comp(a,b), f\"{cname}: \\\\n{a} \\\\b{b}\"\\n\\ndef test_eq(a,b): \\n    test(a,b, operator.eq, \"==\")\\n\\n\\ndef near(a,b): \\n    \"\"\"Test if two tensors are nearly identical\"\"\"\\n    return torch.allclose(a,b, rtol=1e-03, atol=1e-05)\\n\\ndef test_near(a,b): \\n    test(a,b, near)\\n\\n'"
      ]
     },
     "execution_count": 16,
     "metadata": {},
     "output_type": "execute_result"
    }
   ],
   "source": [
    "module"
   ]
  },
  {
   "cell_type": "markdown",
   "metadata": {},
   "source": [
    "We now have a quick way to export our functions and build as we go using jupyter notebooks. "
   ]
  }
 ],
 "metadata": {
  "kernelspec": {
   "display_name": "Python 3",
   "language": "python",
   "name": "python3"
  },
  "language_info": {
   "codemirror_mode": {
    "name": "ipython",
    "version": 3
   },
   "file_extension": ".py",
   "mimetype": "text/x-python",
   "name": "python",
   "nbconvert_exporter": "python",
   "pygments_lexer": "ipython3",
   "version": "3.8.2"
  },
  "toc": {
   "base_numbering": 1,
   "nav_menu": {},
   "number_sections": true,
   "sideBar": true,
   "skip_h1_title": false,
   "title_cell": "Table of Contents",
   "title_sidebar": "Contents",
   "toc_cell": false,
   "toc_position": {},
   "toc_section_display": true,
   "toc_window_display": false
  }
 },
 "nbformat": 4,
 "nbformat_minor": 2
}
